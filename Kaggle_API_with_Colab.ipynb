{
  "nbformat": 4,
  "nbformat_minor": 0,
  "metadata": {
    "colab": {
      "name": "Kaggle API with Colab",
      "version": "0.3.2",
      "views": {},
      "default_view": {},
      "provenance": [
        {
          "file_id": "1eufc8aNCdjHbrBhuy7M7X6BGyzAyRbrF",
          "timestamp": 1526504705136
        }
      ],
      "collapsed_sections": []
    },
    "kernelspec": {
      "name": "python3",
      "display_name": "Python 3"
    }
  },
  "cells": [
    {
      "metadata": {
        "id": "mf2ENBI217Zd",
        "colab_type": "text"
      },
      "cell_type": "markdown",
      "source": [
        "# This notebook provides a recipe for using Kaggle API with Colab"
      ]
    },
    {
      "metadata": {
        "id": "YMvFLpBQlBTR",
        "colab_type": "code",
        "colab": {
          "autoexec": {
            "startup": false,
            "wait_interval": 0
          },
          "base_uri": "https://localhost:8080/",
          "height": 247
        },
        "outputId": "564080c9-4636-4b5f-eb1c-c46782623561",
        "executionInfo": {
          "status": "ok",
          "timestamp": 1526504730333,
          "user_tz": 180,
          "elapsed": 4131,
          "user": {
            "displayName": "Renato Botter Maio Lopes Rodrigues",
            "photoUrl": "//lh4.googleusercontent.com/-K2gJ6C_QWGI/AAAAAAAAAAI/AAAAAAAAAAo/KSyovHCgvGs/s50-c-k-no/photo.jpg",
            "userId": "104571781588364291011"
          }
        }
      },
      "cell_type": "code",
      "source": [
        "!pip install kaggle"
      ],
      "execution_count": 1,
      "outputs": [
        {
          "output_type": "stream",
          "text": [
            "Collecting kaggle\n",
            "  Downloading https://files.pythonhosted.org/packages/bd/a6/d93a9492ad8f31b1a0d17225acfa066a38a27f5fc2ce9fc5034a7003fff1/kaggle-1.3.6.tar.gz\n",
            "Requirement already satisfied: urllib3>=1.15 in /usr/local/lib/python3.6/dist-packages (from kaggle) (1.22)\n",
            "Requirement already satisfied: six>=1.10 in /usr/local/lib/python3.6/dist-packages (from kaggle) (1.11.0)\n",
            "Requirement already satisfied: certifi in /usr/local/lib/python3.6/dist-packages (from kaggle) (2018.4.16)\n",
            "Requirement already satisfied: python-dateutil in /usr/local/lib/python3.6/dist-packages (from kaggle) (2.5.3)\n",
            "Building wheels for collected packages: kaggle\n",
            "  Running setup.py bdist_wheel for kaggle ... \u001b[?25l-\b \b\\\b \bdone\n",
            "\u001b[?25h  Stored in directory: /content/.cache/pip/wheels/98/be/57/a576a1f2f50f5c3bebd0c08fc3b2a6881dfde31c8217014978\n",
            "Successfully built kaggle\n",
            "Installing collected packages: kaggle\n",
            "Successfully installed kaggle-1.3.6\n"
          ],
          "name": "stdout"
        }
      ]
    },
    {
      "metadata": {
        "id": "pBETV6aO2d39",
        "colab_type": "text"
      },
      "cell_type": "markdown",
      "source": [
        "# API Credentials\n",
        "\n",
        "To use the Kaggle API, sign up for a Kaggle account at https://www.kaggle.com. Then go to the 'Account' tab of your user profile (https://www.kaggle.com/<username>/account) and select 'Create API Token'. This will trigger the download of kaggle.json, a file containing your API credentials. \n",
        "\n",
        "Place this file on your Google Drive anywhere.\n",
        "\n",
        "With the next snippet you download your credentials to Colab and you can start using Kaggle API"
      ]
    },
    {
      "metadata": {
        "id": "y5_288BYp6H1",
        "colab_type": "code",
        "colab": {
          "autoexec": {
            "startup": false,
            "wait_interval": 0
          },
          "base_uri": "https://localhost:8080/",
          "height": 34
        },
        "outputId": "e4218db3-2cd2-44d5-ed5f-4d464dab7afe",
        "executionInfo": {
          "status": "ok",
          "timestamp": 1526504793452,
          "user_tz": 180,
          "elapsed": 1143,
          "user": {
            "displayName": "Renato Botter Maio Lopes Rodrigues",
            "photoUrl": "//lh4.googleusercontent.com/-K2gJ6C_QWGI/AAAAAAAAAAI/AAAAAAAAAAo/KSyovHCgvGs/s50-c-k-no/photo.jpg",
            "userId": "104571781588364291011"
          }
        }
      },
      "cell_type": "code",
      "source": [
        "from googleapiclient.discovery import build\n",
        "import io, os\n",
        "from googleapiclient.http import MediaIoBaseDownload\n",
        "from google.colab import auth\n",
        "\n",
        "auth.authenticate_user()\n",
        "\n",
        "drive_service = build('drive', 'v3')\n",
        "results = drive_service.files().list(\n",
        "        q=\"name = 'kaggle.json'\", fields=\"files(id)\").execute()\n",
        "kaggle_api_key = results.get('files', [])\n",
        "\n",
        "filename = \"/content/.kaggle/kaggle.json\"\n",
        "os.makedirs(os.path.dirname(filename), exist_ok=True)\n",
        "\n",
        "request = drive_service.files().get_media(fileId=kaggle_api_key[0]['id'])\n",
        "fh = io.FileIO(filename, 'wb')\n",
        "downloader = MediaIoBaseDownload(fh, request)\n",
        "done = False\n",
        "while done is False:\n",
        "    status, done = downloader.next_chunk()\n",
        "    print(\"Download %d%%.\" % int(status.progress() * 100))\n",
        "os.chmod(filename, 600)"
      ],
      "execution_count": 2,
      "outputs": [
        {
          "output_type": "stream",
          "text": [
            "Download 100%.\n"
          ],
          "name": "stdout"
        }
      ]
    },
    {
      "metadata": {
        "id": "5l1V_oxXsZ8l",
        "colab_type": "code",
        "colab": {
          "autoexec": {
            "startup": false,
            "wait_interval": 0
          },
          "base_uri": "https://localhost:8080/",
          "height": 391
        },
        "outputId": "f4507043-381c-4a2c-b6c2-c6a263bf1396",
        "executionInfo": {
          "status": "ok",
          "timestamp": 1526504800006,
          "user_tz": 180,
          "elapsed": 3419,
          "user": {
            "displayName": "Renato Botter Maio Lopes Rodrigues",
            "photoUrl": "//lh4.googleusercontent.com/-K2gJ6C_QWGI/AAAAAAAAAAI/AAAAAAAAAAo/KSyovHCgvGs/s50-c-k-no/photo.jpg",
            "userId": "104571781588364291011"
          }
        }
      },
      "cell_type": "code",
      "source": [
        "!kaggle competitions list"
      ],
      "execution_count": 3,
      "outputs": [
        {
          "output_type": "stream",
          "text": [
            "ref                                             deadline             category            reward  teamCount  userHasEntered  \r\n",
            "----------------------------------------------  -------------------  ---------------  ---------  ---------  --------------  \r\n",
            "imagenet-object-detection-challenge             2029-12-31 07:00:00  Research         Knowledge          0           False  \r\n",
            "imagenet-object-detection-from-video-challenge  2029-12-31 07:00:00  Research         Knowledge          0           False  \r\n",
            "imagenet-object-localization-challenge          2029-12-31 07:00:00  Research         Knowledge          8           False  \r\n",
            "titanic                                         2020-04-07 00:00:00  Getting Started  Knowledge      11309            True  \r\n",
            "house-prices-advanced-regression-techniques     2020-03-01 23:59:00  Getting Started  Knowledge       5313           False  \r\n",
            "digit-recognizer                                2020-01-07 00:00:00  Getting Started  Knowledge       2473            True  \r\n",
            "competitive-data-science-predict-future-sales   2019-01-01 23:59:00  Playground           Kudos        512           False  \r\n",
            "trackml-particle-identification                 2018-08-13 23:59:00  Featured           $25,000        228           False  \r\n",
            "freesound-audio-tagging                         2018-07-31 23:59:00  Research         Knowledge        169           False  \r\n",
            "whale-categorization-playground                 2018-07-09 23:59:00  Playground           Kudos        279           False  \r\n",
            "avito-demand-prediction                         2018-06-27 23:59:00  Featured           $25,000       1001           False  \r\n",
            "cvpr-2018-autonomous-driving                    2018-06-11 23:59:00  Research            $2,500         77           False  \r\n",
            "inaturalist-2018                                2018-06-04 23:59:00  Research             Kudos         45           False  \r\n",
            "imaterialist-challenge-fashion-2018             2018-05-30 23:59:00  Research            $2,500        153           False  \r\n",
            "imaterialist-challenge-furniture-2018           2018-05-30 23:59:00  Research            $2,500        370           False  \r\n",
            "landmark-retrieval-challenge                    2018-05-22 23:59:00  Research            $2,500        186           False  \r\n",
            "landmark-recognition-challenge                  2018-05-22 23:59:00  Research            $2,500        427           False  \r\n",
            "talkingdata-adtracking-fraud-detection          2018-05-07 23:59:00  Featured           $25,000       3967           False  \r\n",
            "donorschoose-application-screening              2018-04-25 23:59:00  Playground            Swag        581           False  \r\n",
            "data-science-bowl-2018                          2018-04-16 23:59:00  Featured          $100,000       3634           False  \r\n"
          ],
          "name": "stdout"
        }
      ]
    },
    {
      "metadata": {
        "id": "vAtqYF6ayHkP",
        "colab_type": "code",
        "colab": {
          "autoexec": {
            "startup": false,
            "wait_interval": 0
          },
          "base_uri": "https://localhost:8080/",
          "height": 85
        },
        "outputId": "a86a587e-7683-440c-9bc2-de8406715246",
        "executionInfo": {
          "status": "ok",
          "timestamp": 1526505162733,
          "user_tz": 180,
          "elapsed": 8412,
          "user": {
            "displayName": "Renato Botter Maio Lopes Rodrigues",
            "photoUrl": "//lh4.googleusercontent.com/-K2gJ6C_QWGI/AAAAAAAAAAI/AAAAAAAAAAo/KSyovHCgvGs/s50-c-k-no/photo.jpg",
            "userId": "104571781588364291011"
          }
        }
      },
      "cell_type": "code",
      "source": [
        "!kaggle competitions download -c dog-breed-identification -p data/ "
      ],
      "execution_count": 10,
      "outputs": [
        {
          "output_type": "stream",
          "text": [
            "labels.csv.zip: Downloaded 214KB of 214KB\n",
            "sample_submission.csv.zip: Downloaded 281KB of 281KB\n",
            "test.zip: Downloaded 346MB of 346MB\n",
            "train.zip: Downloaded 345MB of 345MB\n"
          ],
          "name": "stdout"
        }
      ]
    }
  ]
}