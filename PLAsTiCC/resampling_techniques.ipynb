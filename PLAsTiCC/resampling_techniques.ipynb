{
  "cells": [
    {
      "metadata": {
        "_uuid": "8f2839f25d086af736a60e9eeb907d3b93b6e0e5",
        "_cell_guid": "b1076dfc-b9ad-4769-8c92-a6c4dae69d19",
        "trusted": true
      },
      "cell_type": "code",
      "source": "import os\nimport numpy as np\nimport pandas as pd\nimport matplotlib.pyplot as plt\n%matplotlib inline\n\nfrom imblearn.over_sampling import SMOTE\nfrom imblearn.combine import SMOTETomek\nfrom imblearn.under_sampling import ClusterCentroids\n\nfrom IPython.display import HTML\n\nprint(os.listdir(\"../input\"))",
      "execution_count": 18,
      "outputs": [
        {
          "output_type": "stream",
          "text": "['training_set.csv', 'test_set.csv', 'data_note.pdf', 'test_set_metadata.csv', 'sample_submission.csv', 'test_set_sample.csv', 'training_set_metadata.csv']\n",
          "name": "stdout"
        }
      ]
    },
    {
      "metadata": {
        "_cell_guid": "79c7e3d0-c299-4dcb-8224-4455121ee9b0",
        "_uuid": "d629ff2d2480ee46fbb7e2d37f6b5fab8052498a",
        "trusted": true
      },
      "cell_type": "code",
      "source": "def get_data(path2data, path2metada, isTest = False):\n    aux = pd.read_csv(path2data)\n    aux_metadata = pd.read_csv(path2metada)        \n    df = pd.merge(aux, aux_metadata, on=['object_id', 'object_id'])\n    y = None\n    if not isTest:\n        X = df.loc[:, df.columns != 'target']\n        y = df.loc[:, df.columns == 'target']\n    return X, y",
      "execution_count": 2,
      "outputs": []
    },
    {
      "metadata": {
        "trusted": true,
        "_uuid": "ab6a71160d519a47330c309d10c2149dfa14495c"
      },
      "cell_type": "code",
      "source": "X, y = get_data(\"../input/training_set.csv\", \"../input/training_set_metadata.csv\")",
      "execution_count": 5,
      "outputs": []
    },
    {
      "metadata": {
        "trusted": true,
        "_uuid": "1ba35cdde831f889bdbef03feeb94ef06a1a6c88"
      },
      "cell_type": "code",
      "source": "X.head()",
      "execution_count": 6,
      "outputs": [
        {
          "output_type": "execute_result",
          "execution_count": 6,
          "data": {
            "text/plain": "   object_id         mjd  passband  ...    hostgal_photoz_err  distmod  mwebv\n0        615  59750.4229         2  ...                   0.0      NaN  0.017\n1        615  59750.4306         1  ...                   0.0      NaN  0.017\n2        615  59750.4383         3  ...                   0.0      NaN  0.017\n3        615  59750.4450         4  ...                   0.0      NaN  0.017\n4        615  59752.4070         2  ...                   0.0      NaN  0.017\n\n[5 rows x 16 columns]",
            "text/html": "<div>\n<style scoped>\n    .dataframe tbody tr th:only-of-type {\n        vertical-align: middle;\n    }\n\n    .dataframe tbody tr th {\n        vertical-align: top;\n    }\n\n    .dataframe thead th {\n        text-align: right;\n    }\n</style>\n<table border=\"1\" class=\"dataframe\">\n  <thead>\n    <tr style=\"text-align: right;\">\n      <th></th>\n      <th>object_id</th>\n      <th>mjd</th>\n      <th>passband</th>\n      <th>flux</th>\n      <th>flux_err</th>\n      <th>detected</th>\n      <th>ra</th>\n      <th>decl</th>\n      <th>gal_l</th>\n      <th>gal_b</th>\n      <th>ddf</th>\n      <th>hostgal_specz</th>\n      <th>hostgal_photoz</th>\n      <th>hostgal_photoz_err</th>\n      <th>distmod</th>\n      <th>mwebv</th>\n    </tr>\n  </thead>\n  <tbody>\n    <tr>\n      <th>0</th>\n      <td>615</td>\n      <td>59750.4229</td>\n      <td>2</td>\n      <td>-544.810303</td>\n      <td>3.622952</td>\n      <td>1</td>\n      <td>349.046051</td>\n      <td>-61.943836</td>\n      <td>320.79653</td>\n      <td>-51.753706</td>\n      <td>1</td>\n      <td>0.0</td>\n      <td>0.0</td>\n      <td>0.0</td>\n      <td>NaN</td>\n      <td>0.017</td>\n    </tr>\n    <tr>\n      <th>1</th>\n      <td>615</td>\n      <td>59750.4306</td>\n      <td>1</td>\n      <td>-816.434326</td>\n      <td>5.553370</td>\n      <td>1</td>\n      <td>349.046051</td>\n      <td>-61.943836</td>\n      <td>320.79653</td>\n      <td>-51.753706</td>\n      <td>1</td>\n      <td>0.0</td>\n      <td>0.0</td>\n      <td>0.0</td>\n      <td>NaN</td>\n      <td>0.017</td>\n    </tr>\n    <tr>\n      <th>2</th>\n      <td>615</td>\n      <td>59750.4383</td>\n      <td>3</td>\n      <td>-471.385529</td>\n      <td>3.801213</td>\n      <td>1</td>\n      <td>349.046051</td>\n      <td>-61.943836</td>\n      <td>320.79653</td>\n      <td>-51.753706</td>\n      <td>1</td>\n      <td>0.0</td>\n      <td>0.0</td>\n      <td>0.0</td>\n      <td>NaN</td>\n      <td>0.017</td>\n    </tr>\n    <tr>\n      <th>3</th>\n      <td>615</td>\n      <td>59750.4450</td>\n      <td>4</td>\n      <td>-388.984985</td>\n      <td>11.395031</td>\n      <td>1</td>\n      <td>349.046051</td>\n      <td>-61.943836</td>\n      <td>320.79653</td>\n      <td>-51.753706</td>\n      <td>1</td>\n      <td>0.0</td>\n      <td>0.0</td>\n      <td>0.0</td>\n      <td>NaN</td>\n      <td>0.017</td>\n    </tr>\n    <tr>\n      <th>4</th>\n      <td>615</td>\n      <td>59752.4070</td>\n      <td>2</td>\n      <td>-681.858887</td>\n      <td>4.041204</td>\n      <td>1</td>\n      <td>349.046051</td>\n      <td>-61.943836</td>\n      <td>320.79653</td>\n      <td>-51.753706</td>\n      <td>1</td>\n      <td>0.0</td>\n      <td>0.0</td>\n      <td>0.0</td>\n      <td>NaN</td>\n      <td>0.017</td>\n    </tr>\n  </tbody>\n</table>\n</div>"
          },
          "metadata": {}
        }
      ]
    },
    {
      "metadata": {
        "trusted": true,
        "_uuid": "531582d4458c7ee7670f7132ab716b29d5afd3a4"
      },
      "cell_type": "code",
      "source": "print('X shape {} y shape {}'.format(X.shape, y.shape))",
      "execution_count": 7,
      "outputs": [
        {
          "output_type": "stream",
          "text": "X shape (1421705, 16) y shape (1421705, 1)\n",
          "name": "stdout"
        }
      ]
    },
    {
      "metadata": {
        "trusted": true,
        "_uuid": "a054ed075e1ee9e67c0fb1e2cbfe7017cee55d0e"
      },
      "cell_type": "code",
      "source": "X.isnull().sum()",
      "execution_count": 8,
      "outputs": [
        {
          "output_type": "execute_result",
          "execution_count": 8,
          "data": {
            "text/plain": "object_id                  0\nmjd                        0\npassband                   0\nflux                       0\nflux_err                   0\ndetected                   0\nra                         0\ndecl                       0\ngal_l                      0\ngal_b                      0\nddf                        0\nhostgal_specz              0\nhostgal_photoz             0\nhostgal_photoz_err         0\ndistmod               400574\nmwebv                      0\ndtype: int64"
          },
          "metadata": {}
        }
      ]
    },
    {
      "metadata": {
        "trusted": true,
        "_uuid": "c0606aeb044e3435a1d3c1d1c7496e6db67b0f6e"
      },
      "cell_type": "code",
      "source": "X = X.drop(['distmod'], axis=1)\ny = y['target']",
      "execution_count": 9,
      "outputs": []
    },
    {
      "metadata": {
        "_uuid": "d14dd979d5329f6b876c08429a1cabc7e0627c3c"
      },
      "cell_type": "markdown",
      "source": "**SMOTE (Synthetic Minority Oversampling Technique)**"
    },
    {
      "metadata": {
        "trusted": true,
        "_uuid": "bda06701c61c832052d55e8f0f450314368e631c"
      },
      "cell_type": "code",
      "source": "HTML('<iframe width=\"760\" height=\"315\" src=\"https://www.youtube.com/embed/FheTDyCwRdE?rel=0&amp;controls=0&amp;showinfo=0\" frameborder=\"0\" allowfullscreen></iframe>')",
      "execution_count": 17,
      "outputs": [
        {
          "output_type": "execute_result",
          "execution_count": 17,
          "data": {
            "text/plain": "<IPython.core.display.HTML object>",
            "text/html": "<iframe width=\"760\" height=\"315\" src=\"https://www.youtube.com/embed/FheTDyCwRdE?rel=0&amp;controls=0&amp;showinfo=0\" frameborder=\"0\" allowfullscreen></iframe>"
          },
          "metadata": {}
        }
      ]
    },
    {
      "metadata": {
        "trusted": true,
        "_uuid": "25fc7d89d0287cb3b596fd3e157f67322effcfd3"
      },
      "cell_type": "code",
      "source": "smote = SMOTE(ratio='minority')\nX_sm, y_sm = smote.fit_sample(X, y)",
      "execution_count": 10,
      "outputs": []
    },
    {
      "metadata": {
        "_uuid": "48866cfd66050e3575c4767ca60791a90b4bfe8b"
      },
      "cell_type": "markdown",
      "source": "**SMOTE and Tomek techniques (Oversampling and Undersampling)**"
    },
    {
      "metadata": {
        "trusted": true,
        "_uuid": "8e9628c247382bb5e3d911ee191334ccadc01756"
      },
      "cell_type": "code",
      "source": "smt = SMOTETomek(ratio='auto')\nX_smt, y_smt = smt.fit_sample(X, y)",
      "execution_count": null,
      "outputs": []
    },
    {
      "metadata": {
        "trusted": true,
        "_uuid": "2f6da03a743cab93070f2c982e8d5a8000a0b2a3"
      },
      "cell_type": "code",
      "source": "pd.Series(y).value_counts().index",
      "execution_count": null,
      "outputs": []
    },
    {
      "metadata": {
        "trusted": true,
        "_uuid": "fb8f7d1aad69e208332ade2ef407ed9be01c1839"
      },
      "cell_type": "code",
      "source": "plt.figure(figsize=(20,15))\nplt.subplot(2,2,(1,2))\ny.value_counts().plot(kind=\"bar\")\n\nplt.subplot(2,2,3)\npd.Series(y_sm).value_counts().plot(kind=\"bar\")\nplt.title('SMOTE', fontsize=16)\n\nplt.subplot(2,2,4)\npd.Series(y_smt).value_counts().plot(kind=\"bar\")\nplt.title('SMOTETomek', fontsize=16)",
      "execution_count": null,
      "outputs": []
    },
    {
      "metadata": {
        "trusted": true,
        "_uuid": "105207644396bbf38957fed89aaaa72cde97ae6f"
      },
      "cell_type": "markdown",
      "source": "**References**\n- https://www3.nd.edu/~dial/publications/hoens2013imbalanced.pdf\n- https://arxiv.org/pdf/1106.1813.pdf\n- Documentation https://imbalanced-learn.org/en/stable/index.html\n "
    },
    {
      "metadata": {
        "trusted": true,
        "_uuid": "f7e3d138e1bfd9656aecb9f64394430e7ae85759"
      },
      "cell_type": "code",
      "source": "",
      "execution_count": null,
      "outputs": []
    }
  ],
  "metadata": {
    "kernelspec": {
      "display_name": "Python 3",
      "language": "python",
      "name": "python3"
    },
    "language_info": {
      "name": "python",
      "version": "3.6.6",
      "mimetype": "text/x-python",
      "codemirror_mode": {
        "name": "ipython",
        "version": 3
      },
      "pygments_lexer": "ipython3",
      "nbconvert_exporter": "python",
      "file_extension": ".py"
    }
  },
  "nbformat": 4,
  "nbformat_minor": 1
}