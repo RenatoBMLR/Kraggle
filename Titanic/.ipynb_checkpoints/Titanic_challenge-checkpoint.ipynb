{
 "cells": [
  {
   "cell_type": "code",
   "execution_count": 225,
   "metadata": {
    "collapsed": true
   },
   "outputs": [],
   "source": [
    "import pandas as pd\n",
    "import numpy as np\n",
    "\n",
    "import matplotlib.pyplot as plt\n",
    "import seaborn\n",
    "%matplotlib inline  \n",
    "\n",
    "from sklearn.linear_model import LogisticRegression\n",
    "from sklearn.svm import SVC, LinearSVC\n",
    "from sklearn.ensemble import RandomForestClassifier\n",
    "from sklearn.neighbors import KNeighborsClassifier\n",
    "from sklearn.naive_bayes import GaussianNB\n",
    "from sklearn.linear_model import SGDClassifier\n",
    "from sklearn.tree import DecisionTreeClassifier"
   ]
  },
  {
   "cell_type": "code",
   "execution_count": 226,
   "metadata": {
    "collapsed": true
   },
   "outputs": [],
   "source": [
    "def generate_output(Y_pred, filename):\n",
    "    df_output = pd.DataFrame()\n",
    "    aux = pd.read_csv('test.csv')\n",
    "    df_output['PassengerId'] = aux['PassengerId']\n",
    "    df_output['Survived'] = Y_pred\n",
    "    df_output[['PassengerId','Survived']].to_csv(filename + '.csv',index=False)"
   ]
  },
  {
   "cell_type": "code",
   "execution_count": 227,
   "metadata": {
    "collapsed": true
   },
   "outputs": [],
   "source": [
    "def get_title(df):\n",
    "    df['Title']=df['Name'].apply(lambda x: extract_title(x))\n",
    "    for title in df['Title'].unique():\n",
    "        df.set_value(df[df['Title']==title].index,'Age',df[df['Title']==title]['Age'].fillna(df[df['Title']==title]['Age'].median()))\n",
    "    return df"
   ]
  },
  {
   "cell_type": "code",
   "execution_count": 228,
   "metadata": {
    "collapsed": true
   },
   "outputs": [],
   "source": [
    "def feature_enginer(df):\n",
    "    df=process_sex(df)\n",
    "    df=process_age(df)\n",
    "    df=process_fare(df)\n",
    "    df=process_title(df)\n",
    "    df=process_pclass(df)\n",
    "    df=process_embarked(df)\n",
    "    df=df.drop(['Cabin'], axis=1)\n",
    "    df=df.drop(['Ticket'], axis=1)\n",
    "    df=df.drop(['PassengerId'], axis=1)\n",
    "    return df"
   ]
  },
  {
   "cell_type": "code",
   "execution_count": 229,
   "metadata": {
    "collapsed": true
   },
   "outputs": [],
   "source": [
    "def extract_title(x):\n",
    "    \"\"\"Get the person's title from their name. Combine reduntant or less common \n",
    "    titles together.\n",
    "    \"\"\"\n",
    "    title = x.split(',')[1].split('.')[0][1:]\n",
    "    if title in ['Mlle', 'Ms']:\n",
    "        title = 'Miss'\n",
    "    elif title == 'Mme':\n",
    "        title = 'Mrs'\n",
    "    elif title in ['Rev', 'Dr', 'Major', 'Col', 'Capt', 'Jonkheer', 'Dona']:\n",
    "        title = 'Esteemed'\n",
    "    elif title in ['Don', 'Lady', 'Sir', 'the Countess']:\n",
    "        title = 'Royalty'\n",
    "    return title"
   ]
  },
  {
   "cell_type": "code",
   "execution_count": 230,
   "metadata": {
    "collapsed": true
   },
   "outputs": [],
   "source": [
    "def process_sex(df):\n",
    "    df['Sex'] = df['Sex'].map({'male':0, 'female':1})\n",
    "    return df"
   ]
  },
  {
   "cell_type": "code",
   "execution_count": 231,
   "metadata": {
    "collapsed": true
   },
   "outputs": [],
   "source": [
    "def process_age(df):\n",
    "    df['Age'] = df['Age'].apply(lambda x: (x - df['Age'].min()) / (df['Age'].max() - df['Age'].min()))\n",
    "    return df"
   ]
  },
  {
   "cell_type": "code",
   "execution_count": 232,
   "metadata": {
    "collapsed": true
   },
   "outputs": [],
   "source": [
    "def process_fare(df):\n",
    "    df['Fare'].fillna(df['Fare'].median(), inplace=True)\n",
    "    df['Fare'] = df['Fare'].apply(lambda x: (x - df['Fare'].min()) / (df['Fare'].max() - df['Fare'].min()))\n",
    "    return df"
   ]
  },
  {
   "cell_type": "code",
   "execution_count": 233,
   "metadata": {
    "collapsed": true
   },
   "outputs": [],
   "source": [
    "def process_title(df):\n",
    "    df=df.drop(['Name'], axis=1)\n",
    "    titles_dummies = pd.get_dummies(df['Title'],prefix='Title')\n",
    "    df = pd.concat([df,titles_dummies],axis=1)\n",
    "    df=df.drop(['Title'], axis=1)\n",
    "    return df"
   ]
  },
  {
   "cell_type": "code",
   "execution_count": 234,
   "metadata": {
    "collapsed": true
   },
   "outputs": [],
   "source": [
    "def process_pclass(df):\n",
    "    titles_dummies = pd.get_dummies(df['Pclass'],prefix='Pclass')\n",
    "    df = pd.concat([df,titles_dummies],axis=1)\n",
    "    df=df.drop(['Pclass'], axis=1)\n",
    "    return df\n"
   ]
  },
  {
   "cell_type": "code",
   "execution_count": 235,
   "metadata": {
    "collapsed": true
   },
   "outputs": [],
   "source": [
    "def process_embarked(df):\n",
    "    df['Embarked'].fillna('S', inplace=True)\n",
    "    titles_dummies = pd.get_dummies(df['Embarked'],prefix='Embarked')\n",
    "    df = pd.concat([df,titles_dummies],axis=1)\n",
    "    df=df.drop(['Embarked'], axis=1)\n",
    "    return df"
   ]
  },
  {
   "cell_type": "code",
   "execution_count": 236,
   "metadata": {
    "collapsed": true
   },
   "outputs": [],
   "source": [
    "df_train = pd.read_csv('train.csv')\n",
    "df_test = pd.read_csv('test.csv')"
   ]
  },
  {
   "cell_type": "code",
   "execution_count": 237,
   "metadata": {},
   "outputs": [
    {
     "data": {
      "text/html": [
       "<div>\n",
       "<style>\n",
       "    .dataframe thead tr:only-child th {\n",
       "        text-align: right;\n",
       "    }\n",
       "\n",
       "    .dataframe thead th {\n",
       "        text-align: left;\n",
       "    }\n",
       "\n",
       "    .dataframe tbody tr th {\n",
       "        vertical-align: top;\n",
       "    }\n",
       "</style>\n",
       "<table border=\"1\" class=\"dataframe\">\n",
       "  <thead>\n",
       "    <tr style=\"text-align: right;\">\n",
       "      <th></th>\n",
       "      <th>PassengerId</th>\n",
       "      <th>Survived</th>\n",
       "      <th>Pclass</th>\n",
       "      <th>Name</th>\n",
       "      <th>Sex</th>\n",
       "      <th>Age</th>\n",
       "      <th>SibSp</th>\n",
       "      <th>Parch</th>\n",
       "      <th>Ticket</th>\n",
       "      <th>Fare</th>\n",
       "      <th>Cabin</th>\n",
       "      <th>Embarked</th>\n",
       "    </tr>\n",
       "  </thead>\n",
       "  <tbody>\n",
       "    <tr>\n",
       "      <th>0</th>\n",
       "      <td>1</td>\n",
       "      <td>0</td>\n",
       "      <td>3</td>\n",
       "      <td>Braund, Mr. Owen Harris</td>\n",
       "      <td>male</td>\n",
       "      <td>22.0</td>\n",
       "      <td>1</td>\n",
       "      <td>0</td>\n",
       "      <td>A/5 21171</td>\n",
       "      <td>7.2500</td>\n",
       "      <td>NaN</td>\n",
       "      <td>S</td>\n",
       "    </tr>\n",
       "    <tr>\n",
       "      <th>1</th>\n",
       "      <td>2</td>\n",
       "      <td>1</td>\n",
       "      <td>1</td>\n",
       "      <td>Cumings, Mrs. John Bradley (Florence Briggs Th...</td>\n",
       "      <td>female</td>\n",
       "      <td>38.0</td>\n",
       "      <td>1</td>\n",
       "      <td>0</td>\n",
       "      <td>PC 17599</td>\n",
       "      <td>71.2833</td>\n",
       "      <td>C85</td>\n",
       "      <td>C</td>\n",
       "    </tr>\n",
       "    <tr>\n",
       "      <th>2</th>\n",
       "      <td>3</td>\n",
       "      <td>1</td>\n",
       "      <td>3</td>\n",
       "      <td>Heikkinen, Miss. Laina</td>\n",
       "      <td>female</td>\n",
       "      <td>26.0</td>\n",
       "      <td>0</td>\n",
       "      <td>0</td>\n",
       "      <td>STON/O2. 3101282</td>\n",
       "      <td>7.9250</td>\n",
       "      <td>NaN</td>\n",
       "      <td>S</td>\n",
       "    </tr>\n",
       "    <tr>\n",
       "      <th>3</th>\n",
       "      <td>4</td>\n",
       "      <td>1</td>\n",
       "      <td>1</td>\n",
       "      <td>Futrelle, Mrs. Jacques Heath (Lily May Peel)</td>\n",
       "      <td>female</td>\n",
       "      <td>35.0</td>\n",
       "      <td>1</td>\n",
       "      <td>0</td>\n",
       "      <td>113803</td>\n",
       "      <td>53.1000</td>\n",
       "      <td>C123</td>\n",
       "      <td>S</td>\n",
       "    </tr>\n",
       "    <tr>\n",
       "      <th>4</th>\n",
       "      <td>5</td>\n",
       "      <td>0</td>\n",
       "      <td>3</td>\n",
       "      <td>Allen, Mr. William Henry</td>\n",
       "      <td>male</td>\n",
       "      <td>35.0</td>\n",
       "      <td>0</td>\n",
       "      <td>0</td>\n",
       "      <td>373450</td>\n",
       "      <td>8.0500</td>\n",
       "      <td>NaN</td>\n",
       "      <td>S</td>\n",
       "    </tr>\n",
       "  </tbody>\n",
       "</table>\n",
       "</div>"
      ],
      "text/plain": [
       "   PassengerId  Survived  Pclass  \\\n",
       "0            1         0       3   \n",
       "1            2         1       1   \n",
       "2            3         1       3   \n",
       "3            4         1       1   \n",
       "4            5         0       3   \n",
       "\n",
       "                                                Name     Sex   Age  SibSp  \\\n",
       "0                            Braund, Mr. Owen Harris    male  22.0      1   \n",
       "1  Cumings, Mrs. John Bradley (Florence Briggs Th...  female  38.0      1   \n",
       "2                             Heikkinen, Miss. Laina  female  26.0      0   \n",
       "3       Futrelle, Mrs. Jacques Heath (Lily May Peel)  female  35.0      1   \n",
       "4                           Allen, Mr. William Henry    male  35.0      0   \n",
       "\n",
       "   Parch            Ticket     Fare Cabin Embarked  \n",
       "0      0         A/5 21171   7.2500   NaN        S  \n",
       "1      0          PC 17599  71.2833   C85        C  \n",
       "2      0  STON/O2. 3101282   7.9250   NaN        S  \n",
       "3      0            113803  53.1000  C123        S  \n",
       "4      0            373450   8.0500   NaN        S  "
      ]
     },
     "execution_count": 237,
     "metadata": {},
     "output_type": "execute_result"
    }
   ],
   "source": [
    "df_train.head()"
   ]
  },
  {
   "cell_type": "code",
   "execution_count": 238,
   "metadata": {
    "collapsed": true
   },
   "outputs": [],
   "source": [
    "df_train=get_title(df_train)\n",
    "df_test = get_title(df_test)"
   ]
  },
  {
   "cell_type": "code",
   "execution_count": 239,
   "metadata": {},
   "outputs": [
    {
     "data": {
      "text/plain": [
       "\"\\nsex_survivors = df_train[df_train['Survived']==1]['Sex'].value_counts()\\nsex_nsurvivors = df_train[df_train['Survived']==0]['Sex'].value_counts()\\n\\nplt.figure(figsize=(15,5))\\nind = np.arange(len(sex_survivors))    \\nbar_width = 0.35       # the width of the bars: can also be len(x) sequence\\nrects1 = plt.bar(ind, sex_survivors.tolist(), bar_width, color='g', label='Survivals')\\nrects2 = plt.bar(ind + bar_width, sex_nsurvivors.tolist(), bar_width, color='r', label='Not Survivals')\\nplt.legend()\\nplt.xticks(ind + bar_width, sex_survivors.index.tolist())\\n\""
      ]
     },
     "execution_count": 239,
     "metadata": {},
     "output_type": "execute_result"
    }
   ],
   "source": [
    "'''\n",
    "sex_survivors = df_train[df_train['Survived']==1]['Sex'].value_counts()\n",
    "sex_nsurvivors = df_train[df_train['Survived']==0]['Sex'].value_counts()\n",
    "\n",
    "plt.figure(figsize=(15,5))\n",
    "ind = np.arange(len(sex_survivors))    \n",
    "bar_width = 0.35       # the width of the bars: can also be len(x) sequence\n",
    "rects1 = plt.bar(ind, sex_survivors.tolist(), bar_width, color='g', label='Survivals')\n",
    "rects2 = plt.bar(ind + bar_width, sex_nsurvivors.tolist(), bar_width, color='r', label='Not Survivals')\n",
    "plt.legend()\n",
    "plt.xticks(ind + bar_width, sex_survivors.index.tolist())\n",
    "'''"
   ]
  },
  {
   "cell_type": "code",
   "execution_count": 240,
   "metadata": {},
   "outputs": [
    {
     "data": {
      "text/plain": [
       "\"\\nplt.figure(figsize=(20,5))\\nplt.subplot(1,2,1)\\ndf_aux=df_train[df_train['Survived']==1]\\nplt.hist(df_aux[df_aux['Sex']=='male']['Age'], histtype='step', bins=30, color='b', label='male')\\nplt.hist(df_aux[df_aux['Sex']=='female']['Age'],  histtype='step', bins=30, color='r', label='female')\\nplt.legend()\\n\\nplt.title('Survivals')\\nplt.subplot(1,2,2)\\ndf_aux=df_train[df_train['Survived']==0]\\nplt.hist(df_aux[df_aux['Sex']=='male']['Age'],  histtype='step', bins=30, color='b', label='male')\\nplt.hist(df_aux[df_aux['Sex']=='female']['Age'], histtype='step', bins=30, color='r', label='female')\\nplt.title('Not Survivals')\\nplt.legend()\\n\""
      ]
     },
     "execution_count": 240,
     "metadata": {},
     "output_type": "execute_result"
    }
   ],
   "source": [
    "'''\n",
    "plt.figure(figsize=(20,5))\n",
    "plt.subplot(1,2,1)\n",
    "df_aux=df_train[df_train['Survived']==1]\n",
    "plt.hist(df_aux[df_aux['Sex']=='male']['Age'], histtype='step', bins=30, color='b', label='male')\n",
    "plt.hist(df_aux[df_aux['Sex']=='female']['Age'],  histtype='step', bins=30, color='r', label='female')\n",
    "plt.legend()\n",
    "\n",
    "plt.title('Survivals')\n",
    "plt.subplot(1,2,2)\n",
    "df_aux=df_train[df_train['Survived']==0]\n",
    "plt.hist(df_aux[df_aux['Sex']=='male']['Age'],  histtype='step', bins=30, color='b', label='male')\n",
    "plt.hist(df_aux[df_aux['Sex']=='female']['Age'], histtype='step', bins=30, color='r', label='female')\n",
    "plt.title('Not Survivals')\n",
    "plt.legend()\n",
    "'''"
   ]
  },
  {
   "cell_type": "code",
   "execution_count": 241,
   "metadata": {},
   "outputs": [],
   "source": [
    "df_train=feature_enginer(df_train)\n",
    "target=df_train['Survived']\n",
    "df_train=df_train.drop(['Survived'], axis=1)\n",
    "df_test=feature_enginer(df_test)"
   ]
  },
  {
   "cell_type": "code",
   "execution_count": 242,
   "metadata": {},
   "outputs": [],
   "source": [
    "df_col = list(set(df_test.columns.tolist()) ^ set(df_train.columns.tolist()))\n",
    "for col in df_col:\n",
    "    df_test[col] = 0"
   ]
  },
  {
   "cell_type": "code",
   "execution_count": 243,
   "metadata": {},
   "outputs": [
    {
     "data": {
      "text/html": [
       "<div>\n",
       "<style>\n",
       "    .dataframe thead tr:only-child th {\n",
       "        text-align: right;\n",
       "    }\n",
       "\n",
       "    .dataframe thead th {\n",
       "        text-align: left;\n",
       "    }\n",
       "\n",
       "    .dataframe tbody tr th {\n",
       "        vertical-align: top;\n",
       "    }\n",
       "</style>\n",
       "<table border=\"1\" class=\"dataframe\">\n",
       "  <thead>\n",
       "    <tr style=\"text-align: right;\">\n",
       "      <th></th>\n",
       "      <th>Sex</th>\n",
       "      <th>Age</th>\n",
       "      <th>SibSp</th>\n",
       "      <th>Parch</th>\n",
       "      <th>Fare</th>\n",
       "      <th>Title_Esteemed</th>\n",
       "      <th>Title_Master</th>\n",
       "      <th>Title_Miss</th>\n",
       "      <th>Title_Mr</th>\n",
       "      <th>Title_Mrs</th>\n",
       "      <th>Title_Royalty</th>\n",
       "      <th>Pclass_1</th>\n",
       "      <th>Pclass_2</th>\n",
       "      <th>Pclass_3</th>\n",
       "      <th>Embarked_C</th>\n",
       "      <th>Embarked_Q</th>\n",
       "      <th>Embarked_S</th>\n",
       "    </tr>\n",
       "  </thead>\n",
       "  <tbody>\n",
       "    <tr>\n",
       "      <th>0</th>\n",
       "      <td>0</td>\n",
       "      <td>0.271174</td>\n",
       "      <td>1</td>\n",
       "      <td>0</td>\n",
       "      <td>0.014151</td>\n",
       "      <td>0</td>\n",
       "      <td>0</td>\n",
       "      <td>0</td>\n",
       "      <td>1</td>\n",
       "      <td>0</td>\n",
       "      <td>0</td>\n",
       "      <td>0</td>\n",
       "      <td>0</td>\n",
       "      <td>1</td>\n",
       "      <td>0</td>\n",
       "      <td>0</td>\n",
       "      <td>1</td>\n",
       "    </tr>\n",
       "    <tr>\n",
       "      <th>1</th>\n",
       "      <td>1</td>\n",
       "      <td>0.472229</td>\n",
       "      <td>1</td>\n",
       "      <td>0</td>\n",
       "      <td>0.139136</td>\n",
       "      <td>0</td>\n",
       "      <td>0</td>\n",
       "      <td>0</td>\n",
       "      <td>0</td>\n",
       "      <td>1</td>\n",
       "      <td>0</td>\n",
       "      <td>1</td>\n",
       "      <td>0</td>\n",
       "      <td>0</td>\n",
       "      <td>1</td>\n",
       "      <td>0</td>\n",
       "      <td>0</td>\n",
       "    </tr>\n",
       "    <tr>\n",
       "      <th>2</th>\n",
       "      <td>1</td>\n",
       "      <td>0.321438</td>\n",
       "      <td>0</td>\n",
       "      <td>0</td>\n",
       "      <td>0.015469</td>\n",
       "      <td>0</td>\n",
       "      <td>0</td>\n",
       "      <td>1</td>\n",
       "      <td>0</td>\n",
       "      <td>0</td>\n",
       "      <td>0</td>\n",
       "      <td>0</td>\n",
       "      <td>0</td>\n",
       "      <td>1</td>\n",
       "      <td>0</td>\n",
       "      <td>0</td>\n",
       "      <td>1</td>\n",
       "    </tr>\n",
       "    <tr>\n",
       "      <th>3</th>\n",
       "      <td>1</td>\n",
       "      <td>0.434531</td>\n",
       "      <td>1</td>\n",
       "      <td>0</td>\n",
       "      <td>0.103644</td>\n",
       "      <td>0</td>\n",
       "      <td>0</td>\n",
       "      <td>0</td>\n",
       "      <td>0</td>\n",
       "      <td>1</td>\n",
       "      <td>0</td>\n",
       "      <td>1</td>\n",
       "      <td>0</td>\n",
       "      <td>0</td>\n",
       "      <td>0</td>\n",
       "      <td>0</td>\n",
       "      <td>1</td>\n",
       "    </tr>\n",
       "    <tr>\n",
       "      <th>4</th>\n",
       "      <td>0</td>\n",
       "      <td>0.434531</td>\n",
       "      <td>0</td>\n",
       "      <td>0</td>\n",
       "      <td>0.015713</td>\n",
       "      <td>0</td>\n",
       "      <td>0</td>\n",
       "      <td>0</td>\n",
       "      <td>1</td>\n",
       "      <td>0</td>\n",
       "      <td>0</td>\n",
       "      <td>0</td>\n",
       "      <td>0</td>\n",
       "      <td>1</td>\n",
       "      <td>0</td>\n",
       "      <td>0</td>\n",
       "      <td>1</td>\n",
       "    </tr>\n",
       "  </tbody>\n",
       "</table>\n",
       "</div>"
      ],
      "text/plain": [
       "   Sex       Age  SibSp  Parch      Fare  Title_Esteemed  Title_Master  \\\n",
       "0    0  0.271174      1      0  0.014151               0             0   \n",
       "1    1  0.472229      1      0  0.139136               0             0   \n",
       "2    1  0.321438      0      0  0.015469               0             0   \n",
       "3    1  0.434531      1      0  0.103644               0             0   \n",
       "4    0  0.434531      0      0  0.015713               0             0   \n",
       "\n",
       "   Title_Miss  Title_Mr  Title_Mrs  Title_Royalty  Pclass_1  Pclass_2  \\\n",
       "0           0         1          0              0         0         0   \n",
       "1           0         0          1              0         1         0   \n",
       "2           1         0          0              0         0         0   \n",
       "3           0         0          1              0         1         0   \n",
       "4           0         1          0              0         0         0   \n",
       "\n",
       "   Pclass_3  Embarked_C  Embarked_Q  Embarked_S  \n",
       "0         1           0           0           1  \n",
       "1         0           1           0           0  \n",
       "2         1           0           0           1  \n",
       "3         0           0           0           1  \n",
       "4         1           0           0           1  "
      ]
     },
     "execution_count": 243,
     "metadata": {},
     "output_type": "execute_result"
    }
   ],
   "source": [
    "df_train.head()"
   ]
  },
  {
   "cell_type": "code",
   "execution_count": 244,
   "metadata": {
    "collapsed": true
   },
   "outputs": [],
   "source": [
    "clf = RandomForestClassifier(n_estimators=50, max_features='sqrt')\n",
    "clf = clf.fit(df_train, target)\n",
    "Y_pred_forest = clf.predict(df_test)"
   ]
  },
  {
   "cell_type": "code",
   "execution_count": 245,
   "metadata": {
    "collapsed": true
   },
   "outputs": [],
   "source": [
    "kmean = KNeighborsClassifier()\n",
    "kmean.fit(df_train, target)\n",
    "Y_pred_kmean = kmean.predict(df_test)"
   ]
  },
  {
   "cell_type": "code",
   "execution_count": 246,
   "metadata": {
    "collapsed": true
   },
   "outputs": [],
   "source": [
    "gnb = GaussianNB()\n",
    "gnb.fit(df_train, target)\n",
    "Y_pred_gnb = gnb.predict(df_test)"
   ]
  },
  {
   "cell_type": "code",
   "execution_count": 247,
   "metadata": {
    "collapsed": true
   },
   "outputs": [],
   "source": [
    "svc = LinearSVC()\n",
    "svc.fit(df_train, target)\n",
    "Y_pred_svc = svc.predict(df_test)"
   ]
  },
  {
   "cell_type": "code",
   "execution_count": 248,
   "metadata": {},
   "outputs": [],
   "source": [
    "logreg = LogisticRegression()\n",
    "logreg.fit(df_train, target)\n",
    "Y_pred_logreg = logreg.predict(df_test)"
   ]
  },
  {
   "cell_type": "code",
   "execution_count": 249,
   "metadata": {},
   "outputs": [],
   "source": [
    "y_aux = np.column_stack((Y_pred_svc.tolist(), Y_pred_logreg.tolist(), Y_pred_gnb.tolist(), Y_pred_kmean.tolist()))\n",
    "y_merge = []\n",
    "for line in y_aux:\n",
    "    counts = np.bincount(line)\n",
    "    y_merge.append(np.argmax(counts))"
   ]
  },
  {
   "cell_type": "code",
   "execution_count": 250,
   "metadata": {},
   "outputs": [
    {
     "data": {
      "text/plain": [
       "<matplotlib.axes._subplots.AxesSubplot at 0x113b8bad0>"
      ]
     },
     "execution_count": 250,
     "metadata": {},
     "output_type": "execute_result"
    },
    {
     "data": {
      "image/png": "[encoded data removed]",
      "text/plain": [
       "<matplotlib.figure.Figure at 0x113bd5610>"
      ]
     },
     "metadata": {},
     "output_type": "display_data"
    }
   ],
   "source": [
    "features = pd.DataFrame()\n",
    "features['feature'] = df_train.columns\n",
    "features['importance'] = clf.feature_importances_\n",
    "features.sort_values(by=['importance'], ascending=True, inplace=True)\n",
    "features.set_index('feature', inplace=True)\n",
    "features.plot(kind='barh', figsize=(20, 5))"
   ]
  },
  {
   "cell_type": "code",
   "execution_count": 251,
   "metadata": {
    "collapsed": true
   },
   "outputs": [],
   "source": [
    "generate_output(y_merge, 'output_ensemble')"
   ]
  }
 ],
 "metadata": {
  "kernelspec": {
   "display_name": "Python 2",
   "language": "python",
   "name": "python2"
  },
  "language_info": {
   "codemirror_mode": {
    "name": "ipython",
    "version": 2
   },
   "file_extension": ".py",
   "mimetype": "text/x-python",
   "name": "python",
   "nbconvert_exporter": "python",
   "pygments_lexer": "ipython2",
   "version": "2.7.13"
  }
 },
 "nbformat": 4,
 "nbformat_minor": 2
}
