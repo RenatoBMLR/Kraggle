{
  "nbformat": 4,
  "nbformat_minor": 0,
  "metadata": {
    "colab": {
      "name": "microsoft_malware_classification.ipynb",
      "version": "0.3.2",
      "provenance": [],
      "collapsed_sections": []
    },
    "kernelspec": {
      "name": "python3",
      "display_name": "Python 3"
    },
    "accelerator": "GPU"
  },
  "cells": [
    {
      "metadata": {
        "id": "zMYQUkNl3e3I",
        "colab_type": "text"
      },
      "cell_type": "markdown",
      "source": [
        "** *\n",
        "# Microsoft Malware Classification Challenge (BIG 2015)\n",
        "\n",
        "---\n",
        "\n",
        "\n",
        "https://www.kaggle.com/c/malware-classification/\n"
      ]
    },
    {
      "metadata": {
        "id": "64M3PU1ny8TZ",
        "colab_type": "toc"
      },
      "cell_type": "markdown",
      "source": [
        ">[Microsoft Malware Classification Challenge (BIG 2015)](#scrollTo=zMYQUkNl3e3I)\n",
        "\n",
        ">[Initial Setup](#scrollTo=U0PO6PE-0JFr)\n",
        "\n",
        ">>[Download Dataset](#scrollTo=afqc3ABYzOTC)\n",
        "\n",
        ">[Extract Features](#scrollTo=ms9rLqS_pgRl)\n",
        "\n",
        ">>[Split train and valid set](#scrollTo=xBoVaLxnqveu)\n",
        "\n",
        ">>[Saving processed data](#scrollTo=_7pE87gkp-yb)\n",
        "\n",
        ">[N-grams](#scrollTo=qYMaw8Q0kFjx)\n",
        "\n"
      ]
    },
    {
      "metadata": {
        "id": "U0PO6PE-0JFr",
        "colab_type": "text"
      },
      "cell_type": "markdown",
      "source": [
        "# Initial Setup"
      ]
    },
    {
      "metadata": {
        "id": "afqc3ABYzOTC",
        "colab_type": "text"
      },
      "cell_type": "markdown",
      "source": [
        "## Download Dataset"
      ]
    },
    {
      "metadata": {
        "id": "deZJ5GoSoNr8",
        "colab_type": "code",
        "colab": {
          "base_uri": "https://localhost:8080/",
          "height": 363
        },
        "outputId": "0c481a7b-7d68-4dd4-c3d2-d257539fab6e"
      },
      "cell_type": "code",
      "source": [
        "!pip install kaggle"
      ],
      "execution_count": 1,
      "outputs": [
        {
          "output_type": "stream",
          "text": [
            "Collecting kaggle\n",
            "  Downloading https://files.pythonhosted.org/packages/8d/04/65f961423898104bc3779b0be1e89973ee616840dedf49b385b18a1c34ff/kaggle-1.3.12.tar.gz\n",
            "Requirement already satisfied: urllib3<1.23.0,>=1.15 in /usr/local/lib/python3.6/dist-packages (from kaggle) (1.22)\n",
            "Requirement already satisfied: six>=1.10 in /usr/local/lib/python3.6/dist-packages (from kaggle) (1.11.0)\n",
            "Requirement already satisfied: certifi in /usr/local/lib/python3.6/dist-packages (from kaggle) (2018.4.16)\n",
            "Requirement already satisfied: python-dateutil in /usr/local/lib/python3.6/dist-packages (from kaggle) (2.5.3)\n",
            "Requirement already satisfied: requests in /usr/local/lib/python3.6/dist-packages (from kaggle) (2.18.4)\n",
            "Collecting tqdm (from kaggle)\n",
            "\u001b[?25l  Downloading https://files.pythonhosted.org/packages/93/24/6ab1df969db228aed36a648a8959d1027099ce45fad67532b9673d533318/tqdm-4.23.4-py2.py3-none-any.whl (42kB)\n",
            "\u001b[K    100% |████████████████████████████████| 51kB 3.7MB/s \n",
            "\u001b[?25hRequirement already satisfied: idna<2.7,>=2.5 in /usr/local/lib/python3.6/dist-packages (from requests->kaggle) (2.6)\n",
            "Requirement already satisfied: chardet<3.1.0,>=3.0.2 in /usr/local/lib/python3.6/dist-packages (from requests->kaggle) (3.0.4)\n",
            "Building wheels for collected packages: kaggle\n",
            "  Running setup.py bdist_wheel for kaggle ... \u001b[?25l-\b \b\\\b \bdone\n",
            "\u001b[?25h  Stored in directory: /content/.cache/pip/wheels/61/d6/e6/38fc0e2316f49b91aafdaf9a8d7756a9906b2ad7e501c1e165\n",
            "Successfully built kaggle\n",
            "Installing collected packages: tqdm, kaggle\n",
            "Successfully installed kaggle-1.3.12 tqdm-4.23.4\n"
          ],
          "name": "stdout"
        }
      ]
    },
    {
      "metadata": {
        "id": "o-mvottSCai9",
        "colab_type": "code",
        "colab": {
          "base_uri": "https://localhost:8080/",
          "height": 34
        },
        "outputId": "8ffeabfe-7db6-4fb9-b2e7-de6ab37771d8"
      },
      "cell_type": "code",
      "source": [
        "from googleapiclient.discovery import build\n",
        "import io, os\n",
        "from googleapiclient.http import MediaIoBaseDownload\n",
        "from google.colab import auth\n",
        "\n",
        "if not os.path.exists('data/'):\n",
        "\n",
        "    auth.authenticate_user()\n",
        "\n",
        "    drive_service = build('drive', 'v3')\n",
        "    results = drive_service.files().list(\n",
        "            q=\"name = 'kaggle.json'\", fields=\"files(id)\").execute()\n",
        "    kaggle_api_key = results.get('files', [])\n",
        "\n",
        "    filename = \"/content/.kaggle/kaggle.json\"\n",
        "    os.makedirs(os.path.dirname(filename), exist_ok=True)\n",
        "\n",
        "    request = drive_service.files().get_media(fileId=kaggle_api_key[0]['id'])\n",
        "    fh = io.FileIO(filename, 'wb')\n",
        "    downloader = MediaIoBaseDownload(fh, request)\n",
        "    done = False\n",
        "    while done is False:\n",
        "        status, done = downloader.next_chunk()\n",
        "        print(\"Download %d%%.\" % int(status.progress() * 100))\n",
        "    os.chmod(filename, 600)\n",
        "\n",
        "    !kaggle competitions download -c malware-classification -p data/\n",
        "    \n",
        "else:\n",
        "    print('Dataset already downloaded!')"
      ],
      "execution_count": 3,
      "outputs": [
        {
          "output_type": "stream",
          "text": [
            "Dataset already downloaded!\n"
          ],
          "name": "stdout"
        }
      ]
    },
    {
      "metadata": {
        "id": "0qzGQmimPu1I",
        "colab_type": "code",
        "colab": {}
      },
      "cell_type": "code",
      "source": [
        "import re\n",
        "import glob\n",
        "from tqdm import tqdm\n",
        "#from tqdm import tqdm_notebook\n",
        "\n",
        "\n",
        "import numpy as np\n",
        "import pandas as pd\n",
        "\n",
        "import multiprocessing\n",
        "from multiprocessing.dummy import Pool"
      ],
      "execution_count": 0,
      "outputs": []
    },
    {
      "metadata": {
        "id": "-xI-RJSusQnO",
        "colab_type": "code",
        "colab": {}
      },
      "cell_type": "code",
      "source": [
        "seed=42\n",
        "np.random.seed(seed)"
      ],
      "execution_count": 0,
      "outputs": []
    },
    {
      "metadata": {
        "id": "gfqlgbYoTY4d",
        "colab_type": "code",
        "colab": {
          "base_uri": "https://localhost:8080/",
          "height": 34
        },
        "outputId": "2b599bcf-da8b-447c-e050-666fb236125c"
      },
      "cell_type": "code",
      "source": [
        "cpu_count  = 2*multiprocessing.cpu_count()-1\n",
        "print('Number of CPUs: {}'.format(cpu_count))"
      ],
      "execution_count": 6,
      "outputs": [
        {
          "output_type": "stream",
          "text": [
            "Number of CPUs: 3\n"
          ],
          "name": "stdout"
        }
      ]
    },
    {
      "metadata": {
        "id": "fzu81toJrzoR",
        "colab_type": "code",
        "colab": {
          "base_uri": "https://localhost:8080/",
          "height": 340
        },
        "outputId": "26905377-d4a8-4b80-e854-753849521b88"
      },
      "cell_type": "code",
      "source": [
        "!cd data && p7zip -d train.7z"
      ],
      "execution_count": 8,
      "outputs": [
        {
          "output_type": "stream",
          "text": [
            "\r\n",
            "7-Zip (a) [64] 16.02 : Copyright (c) 1999-2016 Igor Pavlov : 2016-05-21\r\n",
            "p7zip Version 16.02 (locale=en_US.UTF-8,Utf16=on,HugeFiles=on,64 bits,2 CPUs Intel(R) Xeon(R) CPU @ 2.30GHz (306F0),ASM,AES-NI)\r\n",
            "\r\n",
            "Scanning the drive for archives:\r\n",
            "  0M Scan\b\b\b\b\b\b\b\b\b         \b\b\b\b\b\b\b\b\b1 file, 18810691091 bytes (18 GiB)\r\n",
            "\r\n",
            "Extracting archive: train.7z\n",
            "--\n",
            "Path = train.7z\n",
            "Type = 7z\n",
            "Physical Size = 18810691091\n",
            "Headers Size = 339764\n",
            "Method = LZMA:24\n",
            "Solid = +\n",
            "Blocks = 94\n",
            "\n",
            "  0%\b\b\b\b    \b\b\b\b  0% - train/01azqd4InC7m9JpocGv5.asm\b\b\b\b\b\b\b\b\b\b\b\b\b\b\b\b\b\b\b\b\b\b\b\b\b\b\b\b\b\b\b\b\b\b\b\b\b                                     \b\b\b\b\b\b\b\b\b\b\b\b\b\b\b\b\b\b\b\b\b\b\b\b\b\b\b\b\b\b\b\b\b\b\b\b\b  0% 1 - train/01IsoiSMh5gxyDYTl4CB.asm\b\b\b\b\b\b\b\b\b\b\b\b\b\b\b\b\b\b\b\b\b\b\b\b\b\b\b\b\b\b\b\b\b\b\b\b\b\b\b                                       \b\b\b\b\b\b\b\b\b\b\b\b\b\b\b\b\b\b\b\b\b\b\b\b\b\b\b\b\b\b\b\b\b\b\b\b\b\b\b  0% 2 - train/01jsnpXSAlgw6aPeDxrU.asm\b\b\b\b\b\b\b\b\b\b\b\b\b\b\b\b\b\b\b\b\b\b\b\b\b\b\b\b\b\b\b\b\b\b\b\b\b\b\b                                       \b\b\b\b\b\b\b\b\b\b\b\b\b\b\b\b\b\b\b\b\b\b\b\b\b\b\b\b\b\b\b\b\b\b\b\b\b\b\b  0% 6 - train/02JqQ7H3yEoD8viYWlmS.asm\b\b\b\b\b\b\b\b\b\b\b\b\b\b\b\b\b\b\b\b\b\b\b\b\b\b\b\b\b\b\b\b\b\b\b\b\b\b\b                                       \b\b\b\b\b\b\b\b\b\b\b\b\b\b\b\b\b\b\b\b\b\b\b\b\b\b\b\b\b\b\b\b\b\b\b\b\b\b\b  0% 8 - train/02mlBLHZTDFXGa7Nt6cr.asm\b\b\b\b\b\b\b\b\b\b\b\b\b\b\b\b\b\b\b\b\b\b\b\b\b\b\b\b\b\b\b\b\b\b\b\b\b\b\b                                       \b\b\b\b\b\b\b\b\b\b\b\b\b\b\b\b\b\b\b\b\b\b\b\b\b\b\b\b\b\b\b\b\b\b\b\b\b\b\b  0% 9 - train/02MRILoE6rNhmt7FUi45.asm\b\b\b\b\b\b\b\b\b\b\b\b\b\b\b\b\b\b\b\b\b\b\b\b\b\b\b\b\b\b\b\b\b\b\b\b\b\b\b                                       \b\b\b\b\b\b\b\b\b\b\b\b\b\b\b\b\b\b\b\b\b\b\b\b\b\b\b\b\b\b\b\b\b\b\b\b\b\b\b  0% 10 - train/02zcUmKV16Lya5xqnPGB.asm\b\b\b\b\b\b\b\b\b\b\b\b\b\b\b\b\b\b\b\b\b\b\b\b\b\b\b\b\b\b\b\b\b\b\b\b\b\b\b\b                                        \b\b\b\b\b\b\b\b\b\b\b\b\b\b\b\b\b\b\b\b\b\b\b\b\b\b\b\b\b\b\b\b\b\b\b\b\b\b\b\b  0% 11 - train/03nJaQV6K2ObICUmyWoR.asm\b\b\b\b\b\b\b\b\b\b\b\b\b\b\b\b\b\b\b\b\b\b\b\b\b\b\b\b\b\b\b\b\b\b\b\b\b\b\b\b                                        \b\b\b\b\b\b\b\b\b\b\b\b\b\b\b\b\b\b\b\b\b\b\b\b\b\b\b\b\b\b\b\b\b\b\b\b\b\b\b\b  0% 13 - train/04cvLCVPqBMs6yn5xGlE.asm\b\b\b\b\b\b\b\b\b\b\b\b\b\b\b\b\b\b\b\b\b\b\b\b\b\b\b\b\b\b\b\b\b\b\b\b\b\b\b\b                                        \b\b\b\b\b\b\b\b\b\b\b\b\b\b\b\b\b\b\b\b\b\b\b\b\b\b\b\b\b\b\b\b\b\b\b\b\b\b\b\b  0% 15 - train/04hSzLv5s2TDYPlcgpHB.asm\b\b\b\b\b\b\b\b\b\b\b\b\b\b\b\b\b\b\b\b\b\b\b\b\b\b\b\b\b\b\b\b\b\b\b\b\b\b\b\b                                        \b\b\b\b\b\b\b\b\b\b\b\b\b\b\b\b\b\b\b\b\b\b\b\b\b\b\b\b\b\b\b\b\b\b\b\b\b\b\b\b  0% 19 - train/05aiMRw13bYWqZ8OHvjl.asm\b\b\b\b\b\b\b\b\b\b\b\b\b\b\b\b\b\b\b\b\b\b\b\b\b\b\b\b\b\b\b\b\b\b\b\b\b\b\b\b                                        \b\b\b\b\b\b\b\b\b\b\b\b\b\b\b\b\b\b\b\b\b\b\b\b\b\b\b\b\b\b\b\b\b\b\b\b\b\b\b\b  0% 22 - train/05Kps4iFw8mOLJZQrb1H.asm\b\b\b\b\b\b\b\b\b\b\b\b\b\b\b\b\b\b\b\b\b\b\b\b\b\b\b\b\b\b\b\b\b\b\b\b\b\b\b\b                                        \b\b\b\b\b\b\b\b\b\b\b\b\b\b\b\b\b\b\b\b\b\b\b\b\b\b\b\b\b\b\b\b\b\b\b\b\b\b\b\b  0% 23 - train/05LHG8fR3iPn6agIo9z7.asm\b\b\b\b\b\b\b\b\b\b\b\b\b\b\b\b\b\b\b\b\b\b\b\b\b\b\b\b\b\b\b\b\b\b\b\b\b\b\b\b                                        \b\b\b\b\b\b\b\b\b\b\b\b\b\b\b\b\b\b\b\b\b\b\b\b\b\b\b\b\b\b\b\b\b\b\b\b\b\b\b\b  0% 24 - train/05rJTUWYAKNegBk2wE8X.asm\b\b\b\b\b\b\b\b\b\b\b\b\b\b\b\b\b\b\b\b\b\b\b\b\b\b\b\b\b\b\b\b\b\b\b\b\b\b\b\b                                        \b\b\b\b\b\b\b\b\b\b\b\b\b\b\b\b\b\b\b\b\b\b\b\b\b\b\b\b\b\b\b\b\b\b\b\b\b\b\b\b  0% 25 - train/065EZhxgbLRSHsB87uIF.asm\b\b\b\b\b\b\b\b\b\b\b\b\b\b\b\b\b\b\b\b\b\b\b\b\b\b\b\b\b\b\b\b\b\b\b\b\b\b\b\b                                        \b\b\b\b\b\b\b\b\b\b\b\b\b\b\b\b\b\b\b\b\b\b\b\b\b\b\b\b\b\b\b\b\b\b\b\b\b\b\b\b  0% 26 - train/06aLOj8EUXMByS423sum.asm\b\b\b\b\b\b\b\b\b\b\b\b\b\b\b\b\b\b\b\b\b\b\b\b\b\b\b\b\b\b\b\b\b\b\b\b\b\b\b\b                                        \b\b\b\b\b\b\b\b\b\b\b\b\b\b\b\b\b\b\b\b\b\b\b\b\b\b\b\b\b\b\b\b\b\b\b\b\b\b\b\b  0% 27 - train/06arUi9q3wHS2C8RZxeB.asm\b\b\b\b\b\b\b\b\b\b\b\b\b\b\b\b\b\b\b\b\b\b\b\b\b\b\b\b\b\b\b\b\b\b\b\b\b\b\b\b                                        \b\b\b\b\b\b\b\b\b\b\b\b\b\b\b\b\b\b\b\b\b\b\b\b\b\b\b\b\b\b\b\b\b\b\b\b\b\b\b\b  0% 29 - train/06osXqPUVM1HbvBGNncT.asm\b\b\b\b\b\b\b\b\b\b\b\b\b\b\b\b\b\b\b\b\b\b\b\b\b\b\b\b\b\b\b\b\b\b\b\b\b\b\b\b                                        \b\b\b\b\b\b\b\b\b\b\b\b\b\b\b\b\b\b\b\b\b\b\b\b\b\b\b\b\b\b\b\b\b\b\b\b\b\b\b\b  0% 31 - train/07ECKjDTyQLnabNoxrIH.asm\b\b\b\b\b\b\b\b\b\b\b\b\b\b\b\b\b\b\b\b\b\b\b\b\b\b\b\b\b\b\b\b\b\b\b\b\b\b\b\b                                        \b\b\b\b\b\b\b\b\b\b\b\b\b\b\b\b\b\b\b\b\b\b\b\b\b\b\b\b\b\b\b\b\b\b\b\b\b\b\b\b  0% 32 - train/07iSOIG2urUvsMl9E5Rn.asm\b\b\b\b\b\b\b\b\b\b\b\b\b\b\b\b\b\b\b\b\b\b\b\b\b\b\b\b\b\b\b\b\b\b\b\b\b\b\b\b                                        \b\b\b\b\b\b\b\b\b\b\b\b\b\b\b\b\b\b\b\b\b\b\b\b\b\b\b\b\b\b\b\b\b\b\b\b\b\b\b\b  0% 33 - train/07nrG1cLKUPxjOlWMFiV.asm\b\b\b\b\b\b\b\b\b\b\b\b\b\b\b\b\b\b\b\b\b\b\b\b\b\b\b\b\b\b\b\b\b\b\b\b\b\b\b\b                                        \b\b\b\b\b\b\b\b\b\b\b\b\b\b\b\b\b\b\b\b\b\b\b\b\b\b\b\b\b\b\b\b\b\b\b\b\b\b\b\b  0% 37 - train/09LXtWxm1EbK5uVqcQS3.asm\b\b\b\b\b\b\b\b\b\b\b\b\b\b\b\b\b\b\b\b\b\b\b\b\b\b\b\b\b\b\b\b\b\b\b\b\b\b\b\b                                        \b\b\b\b\b\b\b\b\b\b\b\b\b\b\b\b\b\b\b\b\b\b\b\b\b\b\b\b\b\b\b\b\b\b\b\b\b\b\b\b  0% 39 - train/0A32eTdBKayjCWhZqDOQ.asm\b\b\b\b\b\b\b\b\b\b\b\b\b\b\b\b\b\b\b\b\b\b\b\b\b\b\b\b\b\b\b\b\b\b\b\b\b\b\b\b                                        \b\b\b\b\b\b\b\b\b\b\b\b\b\b\b\b\b\b\b\b\b\b\b\b\b\b\b\b\b\b\b\b\b\b\b\b\b\b\b\b  0% 41 - train/0AguvpOCcaf2myVDYFGb.asm\b\b\b\b\b\b\b\b\b\b\b\b\b\b\b\b\b\b\b\b\b\b\b\b\b\b\b\b\b\b\b\b\b\b\b\b\b\b\b\b                                        \b\b\b\b\b\b\b\b\b\b\b\b\b\b\b\b\b\b\b\b\b\b\b\b\b\b\b\b\b\b\b\b\b\b\b\b\b\b\b\b  0% 43 - train/0aKlH1MRxLmv34QGhEJP.asm\b\b\b\b\b\b\b\b\b\b\b\b\b\b\b\b\b\b\b\b\b\b\b\b\b\b\b\b\b\b\b\b\b\b\b\b\b\b\b\b                                        \b\b\b\b\b\b\b\b\b\b\b\b\b\b\b\b\b\b\b\b\b\b\b\b\b\b\b\b\b\b\b\b\b\b\b\b\b\b\b\b  0% 45 - train/0ASH2csN7k8jZyoRaqtn.asm\b\b\b\b\b\b\b\b\b\b\b\b\b\b\b\b\b\b\b\b\b\b\b\b\b\b\b\b\b\b\b\b\b\b\b\b\b\b\b\b                                        \b\b\b\b\b\b\b\b\b\b\b\b\b\b\b\b\b\b\b\b\b\b\b\b\b\b\b\b\b\b\b\b\b\b\b\b\b\b\b\b  0% 46 - train/0aSTGBVRXeJhx5OcpsgC.asm\b\b\b\b\b\b\b\b\b\b\b\b\b\b\b\b\b\b\b\b\b\b\b\b\b\b\b\b\b\b\b\b\b\b\b\b\b\b\b\b                                        \b\b\b\b\b\b\b\b\b\b\b\b\b\b\b\b\b\b\b\b\b\b\b\b\b\b\b\b\b\b\b\b\b\b\b\b\b\b\b\b  0% 47 - train/0aU7XWsr8RtN94jvo3lG.asm\b\b\b\b\b\b\b\b\b\b\b\b\b\b\b\b\b\b\b\b\b\b\b\b\b\b\b\b\b\b\b\b\b\b\b\b\b\b\b\b                                        \b\b\b\b\b\b\b\b\b\b\b\b\b\b\b\b\b\b\b\b\b\b\b\b\b\b\b\b\b\b\b\b\b\b\b\b\b\b\b\b  0% 48 - train/0AV6MPlrTWG4fYI7NBtQ.asm\b\b\b\b\b\b\b\b\b\b\b\b\b\b\b\b\b\b\b\b\b\b\b\b\b\b\b\b\b\b\b\b\b\b\b\b\b\b\b\b                                        \b\b\b\b\b\b\b\b\b\b\b\b\b\b\b\b\b\b\b\b\b\b\b\b\b\b\b\b\b\b\b\b\b\b\b\b\b\b\b\b  0% 52 - train/0B2RwKm6dq9fjUWDNIOa.asm\b\b\b\b\b\b\b\b\b\b\b\b\b\b\b\b\b\b\b\b\b\b\b\b\b\b\b\b\b\b\b\b\b\b\b\b\b\b\b\b                                        \b\b\b\b\b\b\b\b\b\b\b\b\b\b\b\b\b\b\b\b\b\b\b\b\b\b\b\b\b\b\b\b\b\b\b\b\b\b\b\b  0% 54 - train/0BEsCP7NAUy8XmkenHWG.asm\b\b\b\b\b\b\b\b\b\b\b\b\b\b\b\b\b\b\b\b\b\b\b\b\b\b\b\b\b\b\b\b\b\b\b\b\b\b\b\b                                        \b\b\b\b\b\b\b\b\b\b\b\b\b\b\b\b\b\b\b\b\b\b\b\b\b\b\b\b\b\b\b\b\b\b\b\b\b\b\b\b  0% 55 - train/0BFIPv1rO83whtpMYyAs.asm"
          ],
          "name": "stdout"
        },
        {
          "output_type": "stream",
          "text": [
            "\b\b\b\b\b\b\b\b\b\b\b\b\b\b\b\b\b\b\b\b\b\b\b\b\b\b\b\b\b\b\b\b\b\b\b\b\b\b\b\b                                        \b\b\b\b\b\b\b\b\b\b\b\b\b\b\b\b\b\b\b\b\b\b\b\b\b\b\b\b\b\b\b\b\b\b\b\b\b\b\b\b  0% 57 - train/0bjN3Kgw5OATSreRmEdi.asm\b\b\b\b\b\b\b\b\b\b\b\b\b\b\b\b\b\b\b\b\b\b\b\b\b\b\b\b\b\b\b\b\b\b\b\b\b\b\b\b                                        \b\b\b\b\b\b\b\b\b\b\b\b\b\b\b\b\b\b\b\b\b\b\b\b\b\b\b\b\b\b\b\b\b\b\b\b\b\b\b\b  0% 59 - train/0BLbmzJRkjNynCgQIdtV.asm\b\b\b\b\b\b\b\b\b\b\b\b\b\b\b\b\b\b\b\b\b\b\b\b\b\b\b\b\b\b\b\b\b\b\b\b\b\b\b\b                                        \b\b\b\b\b\b\b\b\b\b\b\b\b\b\b\b\b\b\b\b\b\b\b\b\b\b\b\b\b\b\b\b\b\b\b\b\b\b\b\b  0% 60 - train/0bN6ODYWw2xeCQBn3tEg.asm\b\b\b\b\b\b\b\b\b\b\b\b\b\b\b\b\b\b\b\b\b\b\b\b\b\b\b\b\b\b\b\b\b\b\b\b\b\b\b\b                                        \b\b\b\b\b\b\b\b\b\b\b\b\b\b\b\b\b\b\b\b\b\b\b\b\b\b\b\b\b\b\b\b\b\b\b\b\b\b\b\b  0% 62 - train/0BZQIJak6Pu2tyAXfrzR.asm\b\b\b\b\b\b\b\b\b\b\b\b\b\b\b\b\b\b\b\b\b\b\b\b\b\b\b\b\b\b\b\b\b\b\b\b\b\b\b\b                                        \b\b\b\b\b\b\b\b\b\b\b\b\b\b\b\b\b\b\b\b\b\b\b\b\b\b\b\b\b\b\b\b\b\b\b\b\b\b\b\b  0% 65 - train/0cfGJLYgE6ROaZH7KT1h.asm\b\b\b\b\b\b\b\b\b\b\b\b\b\b\b\b\b\b\b\b\b\b\b\b\b\b\b\b\b\b\b\b\b\b\b\b\b\b\b\b                                        \b\b\b\b\b\b\b\b\b\b\b\b\b\b\b\b\b\b\b\b\b\b\b\b\b\b\b\b\b\b\b\b\b\b\b\b\b\b\b\b  0% 67 - train/0cGWK6VvCkm7O2AxDjtw.asm\b\b\b\b\b\b\b\b\b\b\b\b\b\b\b\b\b\b\b\b\b\b\b\b\b\b\b\b\b\b\b\b\b\b\b\b\b\b\b\b                                        \b\b\b\b\b\b\b\b\b\b\b\b\b\b\b\b\b\b\b\b\b\b\b\b\b\b\b\b\b\b\b\b\b\b\b\b\b\b\b\b  0% 70 - train/0CPaAXtyswrBq83D6VEg.asm\b\b\b\b\b\b\b\b\b\b\b\b\b\b\b\b\b\b\b\b\b\b\b\b\b\b\b\b\b\b\b\b\b\b\b\b\b\b\b\b                                        \b\b\b\b\b\b\b\b\b\b\b\b\b\b\b\b\b\b\b\b\b\b\b\b\b\b\b\b\b\b\b\b\b\b\b\b\b\b\b\b  0% 71 - train/0Cq4wfhLrKBJiut1lYAZ.asm\b\b\b\b\b\b\b\b\b\b\b\b\b\b\b\b\b\b\b\b\b\b\b\b\b\b\b\b\b\b\b\b\b\b\b\b\b\b\b\b                                        \b\b\b\b\b\b\b\b\b\b\b\b\b\b\b\b\b\b\b\b\b\b\b\b\b\b\b\b\b\b\b\b\b\b\b\b\b\b\b\b  0% 72 - train/0csgzpwdL3FbZEJu6DjO.asm\b\b\b\b\b\b\b\b\b\b\b\b\b\b\b\b\b\b\b\b\b\b\b\b\b\b\b\b\b\b\b\b\b\b\b\b\b\b\b\b                                        \b\b\b\b\b\b\b\b\b\b\b\b\b\b\b\b\b\b\b\b\b\b\b\b\b\b\b\b\b\b\b\b\b\b\b\b\b\b\b\b  0% 74 - train/0CzL6rfwaTqGOu9eghBt.asm\b\b\b\b\b\b\b\b\b\b\b\b\b\b\b\b\b\b\b\b\b\b\b\b\b\b\b\b\b\b\b\b\b\b\b\b\b\b\b\b                                        \b\b\b\b\b\b\b\b\b\b\b\b\b\b\b\b\b\b\b\b\b\b\b\b\b\b\b\b\b\b\b\b\b\b\b\b\b\b\b\b  0% 75 - train/0czUXKSCiGY2j5mxLdWa.asm\b\b\b\b\b\b\b\b\b\b\b\b\b\b\b\b\b\b\b\b\b\b\b\b\b\b\b\b\b\b\b\b\b\b\b\b\b\b\b\b                                        \b\b\b\b\b\b\b\b\b\b\b\b\b\b\b\b\b\b\b\b\b\b\b\b\b\b\b\b\b\b\b\b\b\b\b\b\b\b\b\b  0% 77 - train/0daTri9PSkeEsVHu5Dhw.asm\b\b\b\b\b\b\b\b\b\b\b\b\b\b\b\b\b\b\b\b\b\b\b\b\b\b\b\b\b\b\b\b\b\b\b\b\b\b\b\b                                        \b\b\b\b\b\b\b\b\b\b\b\b\b\b\b\b\b\b\b\b\b\b\b\b\b\b\b\b\b\b\b\b\b\b\b\b\b\b\b\b  0% 79 - train/0DbLeKSoxu47wjqVHsi9.asm\b\b\b\b\b\b\b\b\b\b\b\b\b\b\b\b\b\b\b\b\b\b\b\b\b\b\b\b\b\b\b\b\b\b\b\b\b\b\b\b                                        \b\b\b\b\b\b\b\b\b\b\b\b\b\b\b\b\b\b\b\b\b\b\b\b\b\b\b\b\b\b\b\b\b\b\b\b\b\b\b\b  0% 84 - train/0DM3hS6Gg2QVKb1fZydv.asm\b\b\b\b\b\b\b\b\b\b\b\b\b\b\b\b\b\b\b\b\b\b\b\b\b\b\b\b\b\b\b\b\b\b\b\b\b\b\b\b                                        \b\b\b\b\b\b\b\b\b\b\b\b\b\b\b\b\b\b\b\b\b\b\b\b\b\b\b\b\b\b\b\b\b\b\b\b\b\b\b\b  0% 85 - train/0dnTixlMYzDUpsvEVrGc.asm\b\b\b\b\b\b\b\b\b\b\b\b\b\b\b\b\b\b\b\b\b\b\b\b\b\b\b\b\b\b\b\b\b\b\b\b\b\b\b\b                                        \b\b\b\b\b\b\b\b\b\b\b\b\b\b\b\b\b\b\b\b\b\b\b\b\b\b\b\b\b\b\b\b\b\b\b\b\b\b\b\b  0% 88 - train/0DTp59Av1RLifoKlUdm7.asm\b\b\b\b\b\b\b\b\b\b\b\b\b\b\b\b\b\b\b\b\b\b\b\b\b\b\b\b\b\b\b\b\b\b\b\b\b\b\b\b                                        \b\b\b\b\b\b\b\b\b\b\b\b\b\b\b\b\b\b\b\b\b\b\b\b\b\b\b\b\b\b\b\b\b\b\b\b\b\b\b\b  0% 89 - train/0DTs2PhZfCwEv7q8349K.asm\b\b\b\b\b\b\b\b\b\b\b\b\b\b\b\b\b\b\b\b\b\b\b\b\b\b\b\b\b\b\b\b\b\b\b\b\b\b\b\b                                        \b\b\b\b\b\b\b\b\b\b\b\b\b\b\b\b\b\b\b\b\b\b\b\b\b\b\b\b\b\b\b\b\b\b\b\b\b\b\b\b  0% 90 - train/0EAdHtLDypMcwjTFJziC.asm\b\b\b\b\b\b\b\b\b\b\b\b\b\b\b\b\b\b\b\b\b\b\b\b\b\b\b\b\b\b\b\b\b\b\b\b\b\b\b\b                                        \b\b\b\b\b\b\b\b\b\b\b\b\b\b\b\b\b\b\b\b\b\b\b\b\b\b\b\b\b\b\b\b\b\b\b\b\b\b\b\b  0% 91 - train/0eaNKwluUmkYdIvZ923c.asm\b\b\b\b\b\b\b\b\b\b\b\b\b\b\b\b\b\b\b\b\b\b\b\b\b\b\b\b\b\b\b\b\b\b\b\b\b\b\b\b                                        \b\b\b\b\b\b\b\b\b\b\b\b\b\b\b\b\b\b\b\b\b\b\b\b\b\b\b\b\b\b\b\b\b\b\b\b\b\b\b\b  0% 92 - train/0EL7OGZKozbiNCVP61gk.asm\b\b\b\b\b\b\b\b\b\b\b\b\b\b\b\b\b\b\b\b\b\b\b\b\b\b\b\b\b\b\b\b\b\b\b\b\b\b\b\b                                        \b\b\b\b\b\b\b\b\b\b\b\b\b\b\b\b\b\b\b\b\b\b\b\b\b\b\b\b\b\b\b\b\b\b\b\b\b\b\b\b  0% 96 - train/0F4qIHaR7xOrm19Set3o.asm\b\b\b\b\b\b\b\b\b\b\b\b\b\b\b\b\b\b\b\b\b\b\b\b\b\b\b\b\b\b\b\b\b\b\b\b\b\b\b\b                                        \b\b\b\b\b\b\b\b\b\b\b\b\b\b\b\b\b\b\b\b\b\b\b\b\b\b\b\b\b\b\b\b\b\b\b\b\b\b\b\b  0% 97 - train/0FdOaDWrfBU6TqwCRYxA.asm\b\b\b\b\b\b\b\b\b\b\b\b\b\b\b\b\b\b\b\b\b\b\b\b\b\b\b\b\b\b\b\b\b\b\b\b\b\b\b\b                                        \b\b\b\b\b\b\b\b\b\b\b\b\b\b\b\b\b\b\b\b\b\b\b\b\b\b\b\b\b\b\b\b\b\b\b\b\b\b\b\b  0% 98 - train/0fGuCWgTraQ6nEmLPN8q.asm\b\b\b\b\b\b\b\b\b\b\b\b\b\b\b\b\b\b\b\b\b\b\b\b\b\b\b\b\b\b\b\b\b\b\b\b\b\b\b\b                                        \b\b\b\b\b\b\b\b\b\b\b\b\b\b\b\b\b\b\b\b\b\b\b\b\b\b\b\b\b\b\b\b\b\b\b\b\b\b\b\b  0% 101 - train/0FKerJl18xOc3jdoyg4A.asm\b\b\b\b\b\b\b\b\b\b\b\b\b\b\b\b\b\b\b\b\b\b\b\b\b\b\b\b\b\b\b\b\b\b\b\b\b\b\b\b\b                                         \b\b\b\b\b\b\b\b\b\b\b\b\b\b\b\b\b\b\b\b\b\b\b\b\b\b\b\b\b\b\b\b\b\b\b\b\b\b\b\b\b  0% 102 - train/0FOXjzmnD9CUMVcSlEqh.asm\b\b\b\b\b\b\b\b\b\b\b\b\b\b\b\b\b\b\b\b\b\b\b\b\b\b\b\b\b\b\b\b\b\b\b\b\b\b\b\b\b                                         \b\b\b\b\b\b\b\b\b\b\b\b\b\b\b\b\b\b\b\b\b\b\b\b\b\b\b\b\b\b\b\b\b\b\b\b\b\b\b\b\b  0% 104 - train/0fvnGU7dkbr8iEhZuMcP.asm\b\b\b\b\b\b\b\b\b\b\b\b\b\b\b\b\b\b\b\b\b\b\b\b\b\b\b\b\b\b\b\b\b\b\b\b\b\b\b\b\b                                         \b\b\b\b\b\b\b\b\b\b\b\b\b\b\b\b\b\b\b\b\b\b\b\b\b\b\b\b\b\b\b\b\b\b\b\b\b\b\b\b\b  0% 106 - train/0G2RV1chBlIbkt6JqA5Q.asm\b\b\b\b\b\b\b\b\b\b\b\b\b\b\b\b\b\b\b\b\b\b\b\b\b\b\b\b\b\b\b\b\b\b\b\b\b\b\b\b\b                                         \b\b\b\b\b\b\b\b\b\b\b\b\b\b\b\b\b\b\b\b\b\b\b\b\b\b\b\b\b\b\b\b\b\b\b\b\b\b\b\b\b  0% 107 - train/0G4hwobLuAzvl1PWYfmd.asm\b\b\b\b\b\b\b\b\b\b\b\b\b\b\b\b\b\b\b\b\b\b\b\b\b\b\b\b\b\b\b\b\b\b\b\b\b\b\b\b\b                                         \b\b\b\b\b\b\b\b\b\b\b\b\b\b\b\b\b\b\b\b\b\b\b\b\b\b\b\b\b\b\b\b\b\b\b\b\b\b\b\b\b  0% 109 - train/0gCmlyxw2UJvX7SNOGqu.asm\b\b\b\b\b\b\b\b\b\b\b\b\b\b\b\b\b\b\b\b\b\b\b\b\b\b\b\b\b\b\b\b\b\b\b\b\b\b\b\b\b                                         \b\b\b\b\b\b\b\b\b\b\b\b\b\b\b\b\b\b\b\b\b\b\b\b\b\b\b\b\b\b\b\b\b\b\b\b\b\b\b\b\b  0% 110 - train/0gcZkSFr7VnEmLPbTxUe.asm\b\b\b\b\b\b\b\b\b\b\b\b\b\b\b\b\b\b\b\b\b\b\b\b\b\b\b\b\b\b\b\b\b\b\b\b\b\b\b\b\b                                         \b\b\b\b\b\b\b\b\b\b\b\b\b\b\b\b\b\b\b\b\b\b\b\b\b\b\b\b\b\b\b\b\b\b\b\b\b\b\b\b\b  0% 111 - train/0gDsIvrylX5fPbG7cSBn.asm\b\b\b\b\b\b\b\b\b\b\b\b\b\b\b\b\b\b\b\b\b\b\b\b\b\b\b\b\b\b\b\b\b\b\b\b\b\b\b\b\b                                         \b\b\b\b\b\b\b\b\b\b\b\b\b\b\b\b\b\b\b\b\b\b\b\b\b\b\b\b\b\b\b\b\b\b\b\b\b\b\b\b\b  0% 112 - train/0gHs6DEouiCPAcmWFrTX.asm\b\b\b\b\b\b\b\b\b\b\b\b\b\b\b\b\b\b\b\b\b\b\b\b\b\b\b\b\b\b\b\b\b\b\b\b\b\b\b\b\b                                         \b\b\b\b\b\b\b\b\b\b\b\b\b\b\b\b\b\b\b\b\b\b\b\b\b\b\b\b\b\b\b\b\b\b\b\b\b\b\b\b\b  0% 113 - train/0giIqhw6e4mrHYzKFl8T.asm\b\b\b\b\b\b\b\b\b\b\b\b\b\b\b\b\b\b\b\b\b\b\b\b\b\b\b\b\b\b\b\b\b\b\b\b\b\b\b\b\b                                         \b\b\b\b\b\b\b\b\b\b\b\b\b\b\b\b\b\b\b\b\b\b\b\b\b\b\b\b\b\b\b\b\b\b\b\b\b\b\b\b\b  0% 115 - train/0GKp9ZJclxTABMunIOD2.asm"
          ],
          "name": "stdout"
        },
        {
          "output_type": "stream",
          "text": [
            "\b\b\b\b\b\b\b\b\b\b\b\b\b\b\b\b\b\b\b\b\b\b\b\b\b\b\b\b\b\b\b\b\b\b\b\b\b\b\b\b\b                                         \b\b\b\b\b\b\b\b\b\b\b\b\b\b\b\b\b\b\b\b\b\b\b\b\b\b\b\b\b\b\b\b\b\b\b\b\b\b\b\b\b  1% 117 - train/0gL3h5G6CszBV7RSinjJ.asm\b\b\b\b\b\b\b\b\b\b\b\b\b\b\b\b\b\b\b\b\b\b\b\b\b\b\b\b\b\b\b\b\b\b\b\b\b\b\b\b\b                                         \b\b\b\b\b\b\b\b\b\b\b\b\b\b\b\b\b\b\b\b\b\b\b\b\b\b\b\b\b\b\b\b\b\b\b\b\b\b\b\b\b  1% 120 - train/0Gu4misTcKynQD2Ol1Jx.asm\b\b\b\b\b\b\b\b\b\b\b\b\b\b\b\b\b\b\b\b\b\b\b\b\b\b\b\b\b\b\b\b\b\b\b\b\b\b\b\b\b                                         \b\b\b\b\b\b\b\b\b\b\b\b\b\b\b\b\b\b\b\b\b\b\b\b\b\b\b\b\b\b\b\b\b\b\b\b\b\b\b\b\b  1% 122 - train/0gUpzkLVT73PCXx5WFRI.asm\b\b\b\b\b\b\b\b\b\b\b\b\b\b\b\b\b\b\b\b\b\b\b\b\b\b\b\b\b\b\b\b\b\b\b\b\b\b\b\b\b                                         \b\b\b\b\b\b\b\b\b\b\b\b\b\b\b\b\b\b\b\b\b\b\b\b\b\b\b\b\b\b\b\b\b\b\b\b\b\b\b\b\b  1% 123\b\b\b\b\b\b\b\b        \b\b\b\b\b\b\b\b  1% 123 - train/0GuYe4J7oLwQ82xr3pWS.asm\b\b\b\b\b\b\b\b\b\b\b\b\b\b\b\b\b\b\b\b\b\b\b\b\b\b\b\b\b\b\b\b\b\b\b\b\b\b\b\b\b                                         \b\b\b\b\b\b\b\b\b\b\b\b\b\b\b\b\b\b\b\b\b\b\b\b\b\b\b\b\b\b\b\b\b\b\b\b\b\b\b\b\b  1% 124 - train/0GVcTdBQXWUJ2t7vjphN.asm^C\n",
            "\b\b\b\b\b\b\b\b\b\b\b\b\b\b\b\b\b\b\b\b\b\b\b\b\b\b\b\b\b\b\b\b\b\b\b\b\b\b\b\b\b                                         \b\b\b\b\b\b\b\b\b\b\b\b\b\b\b\b\b\b\b\b\b\b\b\b\b\b\b\b\b\b\b\b\b\b\b\b\b\b\b\b\b\n",
            "Archives with Errors: 1\n",
            "\n",
            "\n",
            "\n",
            "Break signaled\n"
          ],
          "name": "stdout"
        }
      ]
    },
    {
      "metadata": {
        "id": "ms9rLqS_pgRl",
        "colab_type": "text"
      },
      "cell_type": "markdown",
      "source": [
        "# Extract Features"
      ]
    },
    {
      "metadata": {
        "id": "WWdKiWNitq6G",
        "colab_type": "code",
        "colab": {}
      },
      "cell_type": "code",
      "source": [
        "def getOpcodes(file2path):\n",
        "\n",
        "    openfile = io.open(file2path,'r',encoding='latin-1')\n",
        "    lines=openfile.readlines()\n",
        "\n",
        "    opcodes_lst = []\n",
        "\n",
        "    for line in lines:\n",
        "        opcode_group = re.search('\\s\\s\\s[a-z][a-z]+\\s\\s\\s',line)\n",
        "        if opcode_group:\n",
        "            opcode = opcode_group.group().strip()\n",
        "            opcodes_lst.append(opcode)\n",
        "            pass\n",
        "            \n",
        "    return opcodes_lst, file2path"
      ],
      "execution_count": 0,
      "outputs": []
    },
    {
      "metadata": {
        "id": "BJynSdQASXiU",
        "colab_type": "code",
        "colab": {}
      },
      "cell_type": "code",
      "source": [
        "def extractInParallel(path_lst, threads=2):\n",
        "    p = Pool(threads)\n",
        "    opcodes_lst = []\n",
        "    file_lst = []\n",
        "    for opcode, file in tqdm((p.imap_unordered(getOpcodes, path_lst)), total=len(path_lst)):\n",
        "        opcodes_lst.append(opcode)\n",
        "        file_lst.append(file)\n",
        "        pass\n",
        "    p.close()\n",
        "    p.join()\n",
        "    return opcodes_lst, file_lst"
      ],
      "execution_count": 0,
      "outputs": []
    },
    {
      "metadata": {
        "id": "Mjoob3OodxvG",
        "colab_type": "code",
        "colab": {}
      },
      "cell_type": "code",
      "source": [
        "def process_targets(trainLabels, y):\n",
        "  \n",
        "    target_lst = []\n",
        "    for file in y:\n",
        "        f = file.split('/')[-1][:-4]\n",
        "        target_lst.append(int(trainLabels[trainLabels['Id'] == f]['Class']))\n",
        "          \n",
        "    return target_lst"
      ],
      "execution_count": 0,
      "outputs": []
    },
    {
      "metadata": {
        "id": "V7UsimCqRFCc",
        "colab_type": "code",
        "colab": {}
      },
      "cell_type": "code",
      "source": [
        "def extractFeatures(path2data, trainLabels, format_file = '*.asm'):\n",
        "  \n",
        "    for subdir, dirs, files in os.walk(path2data):\n",
        "          print('Reading files from dir: {}'.format(subdir))\n",
        "          path_folder = os.path.join(subdir, format_file)\n",
        "          filesPath = glob.glob(path_folder) \n",
        "          print('Extractig features from: {} files'.format(len(filesPath)))\n",
        "          opcodes_lst, file_lst =  extractInParallel(filesPath, threads=cpu_count)\n",
        "          \n",
        "          y = process_targets(trainLabels, file_lst)\n",
        "          print('\\nDone!')\n",
        "\n",
        "    return np.array(opcodes_lst), np.array(y)"
      ],
      "execution_count": 0,
      "outputs": []
    },
    {
      "metadata": {
        "id": "ecvC_iJ4DMIT",
        "colab_type": "code",
        "colab": {}
      },
      "cell_type": "code",
      "source": [
        "trainLabels = pd.read_csv('data/trainLabels.csv')"
      ],
      "execution_count": 0,
      "outputs": []
    },
    {
      "metadata": {
        "id": "xh1drG1bvzmd",
        "colab_type": "code",
        "colab": {
          "base_uri": "https://localhost:8080/",
          "height": 204
        },
        "outputId": "5c116b97-c4c6-49ce-8849-130075186b1f"
      },
      "cell_type": "code",
      "source": [
        "trainLabels.head()"
      ],
      "execution_count": 63,
      "outputs": [
        {
          "output_type": "execute_result",
          "data": {
            "text/html": [
              "<div>\n",
              "<style scoped>\n",
              "    .dataframe tbody tr th:only-of-type {\n",
              "        vertical-align: middle;\n",
              "    }\n",
              "\n",
              "    .dataframe tbody tr th {\n",
              "        vertical-align: top;\n",
              "    }\n",
              "\n",
              "    .dataframe thead th {\n",
              "        text-align: right;\n",
              "    }\n",
              "</style>\n",
              "<table border=\"1\" class=\"dataframe\">\n",
              "  <thead>\n",
              "    <tr style=\"text-align: right;\">\n",
              "      <th></th>\n",
              "      <th>Id</th>\n",
              "      <th>Class</th>\n",
              "    </tr>\n",
              "  </thead>\n",
              "  <tbody>\n",
              "    <tr>\n",
              "      <th>0</th>\n",
              "      <td>01kcPWA9K2BOxQeS5Rju</td>\n",
              "      <td>1</td>\n",
              "    </tr>\n",
              "    <tr>\n",
              "      <th>1</th>\n",
              "      <td>04EjIdbPV5e1XroFOpiN</td>\n",
              "      <td>1</td>\n",
              "    </tr>\n",
              "    <tr>\n",
              "      <th>2</th>\n",
              "      <td>05EeG39MTRrI6VY21DPd</td>\n",
              "      <td>1</td>\n",
              "    </tr>\n",
              "    <tr>\n",
              "      <th>3</th>\n",
              "      <td>05rJTUWYAKNegBk2wE8X</td>\n",
              "      <td>1</td>\n",
              "    </tr>\n",
              "    <tr>\n",
              "      <th>4</th>\n",
              "      <td>0AnoOZDNbPXIr2MRBSCJ</td>\n",
              "      <td>1</td>\n",
              "    </tr>\n",
              "  </tbody>\n",
              "</table>\n",
              "</div>"
            ],
            "text/plain": [
              "                     Id  Class\n",
              "0  01kcPWA9K2BOxQeS5Rju      1\n",
              "1  04EjIdbPV5e1XroFOpiN      1\n",
              "2  05EeG39MTRrI6VY21DPd      1\n",
              "3  05rJTUWYAKNegBk2wE8X      1\n",
              "4  0AnoOZDNbPXIr2MRBSCJ      1"
            ]
          },
          "metadata": {
            "tags": []
          },
          "execution_count": 63
        }
      ]
    },
    {
      "metadata": {
        "id": "o1lm7q7yUmIO",
        "colab_type": "code",
        "colab": {
          "base_uri": "https://localhost:8080/",
          "height": 102
        },
        "outputId": "5a52332b-c248-41d9-975a-a078a11a55b5"
      },
      "cell_type": "code",
      "source": [
        "path2train = 'data/train'\n",
        "X, y = extractFeatures(path2train, trainLabels)"
      ],
      "execution_count": 41,
      "outputs": [
        {
          "output_type": "stream",
          "text": [
            "\r  0%|          | 0/127 [00:00<?, ?it/s]"
          ],
          "name": "stderr"
        },
        {
          "output_type": "stream",
          "text": [
            "Reading files from dir: data/train\n",
            "Extractig features from: 127 files\n"
          ],
          "name": "stdout"
        },
        {
          "output_type": "stream",
          "text": [
            "100%|██████████| 127/127 [01:58<00:00,  1.07it/s]\n"
          ],
          "name": "stderr"
        },
        {
          "output_type": "stream",
          "text": [
            "\n",
            "Done!\n"
          ],
          "name": "stdout"
        }
      ]
    },
    {
      "metadata": {
        "id": "l1vM47XTV7yT",
        "colab_type": "code",
        "colab": {
          "base_uri": "https://localhost:8080/",
          "height": 51
        },
        "outputId": "17d4bec7-8e3e-42a8-b502-1d5b3c06173c"
      },
      "cell_type": "code",
      "source": [
        "print('X shape: {}'.format(X.shape))\n",
        "print('y shape: {}'.format(y.shape))"
      ],
      "execution_count": 59,
      "outputs": [
        {
          "output_type": "stream",
          "text": [
            "X shape: (127,)\n",
            "y shape: (127,)\n"
          ],
          "name": "stdout"
        }
      ]
    },
    {
      "metadata": {
        "id": "ZHQsbeIybpeq",
        "colab_type": "text"
      },
      "cell_type": "markdown",
      "source": [
        "###  Dataset Analysis"
      ]
    },
    {
      "metadata": {
        "id": "JwagJEUFngDB",
        "colab_type": "code",
        "colab": {}
      },
      "cell_type": "code",
      "source": [
        "df_X = pd.DataFrame(list(X))\n",
        "df_y = pd.DataFrame(list(y), columns=['targets'])"
      ],
      "execution_count": 0,
      "outputs": []
    },
    {
      "metadata": {
        "id": "krp1fDsKnlP3",
        "colab_type": "code",
        "colab": {
          "base_uri": "https://localhost:8080/",
          "height": 233
        },
        "outputId": "84ca1087-bf4b-45ae-8598-5c580aba77fc"
      },
      "cell_type": "code",
      "source": [
        "df_X.head()"
      ],
      "execution_count": 61,
      "outputs": [
        {
          "output_type": "execute_result",
          "data": {
            "text/html": [
              "<div>\n",
              "<style scoped>\n",
              "    .dataframe tbody tr th:only-of-type {\n",
              "        vertical-align: middle;\n",
              "    }\n",
              "\n",
              "    .dataframe tbody tr th {\n",
              "        vertical-align: top;\n",
              "    }\n",
              "\n",
              "    .dataframe thead th {\n",
              "        text-align: right;\n",
              "    }\n",
              "</style>\n",
              "<table border=\"1\" class=\"dataframe\">\n",
              "  <thead>\n",
              "    <tr style=\"text-align: right;\">\n",
              "      <th></th>\n",
              "      <th>0</th>\n",
              "      <th>1</th>\n",
              "      <th>2</th>\n",
              "      <th>3</th>\n",
              "      <th>4</th>\n",
              "      <th>5</th>\n",
              "      <th>6</th>\n",
              "      <th>7</th>\n",
              "      <th>8</th>\n",
              "      <th>9</th>\n",
              "      <th>...</th>\n",
              "      <th>811186</th>\n",
              "      <th>811187</th>\n",
              "      <th>811188</th>\n",
              "      <th>811189</th>\n",
              "      <th>811190</th>\n",
              "      <th>811191</th>\n",
              "      <th>811192</th>\n",
              "      <th>811193</th>\n",
              "      <th>811194</th>\n",
              "      <th>811195</th>\n",
              "    </tr>\n",
              "  </thead>\n",
              "  <tbody>\n",
              "    <tr>\n",
              "      <th>0</th>\n",
              "      <td>mov</td>\n",
              "      <td>push</td>\n",
              "      <td>mov</td>\n",
              "      <td>sub</td>\n",
              "      <td>mov</td>\n",
              "      <td>and</td>\n",
              "      <td>push</td>\n",
              "      <td>push</td>\n",
              "      <td>push</td>\n",
              "      <td>push</td>\n",
              "      <td>...</td>\n",
              "      <td>None</td>\n",
              "      <td>None</td>\n",
              "      <td>None</td>\n",
              "      <td>None</td>\n",
              "      <td>None</td>\n",
              "      <td>None</td>\n",
              "      <td>None</td>\n",
              "      <td>None</td>\n",
              "      <td>None</td>\n",
              "      <td>None</td>\n",
              "    </tr>\n",
              "    <tr>\n",
              "      <th>1</th>\n",
              "      <td>mov</td>\n",
              "      <td>push</td>\n",
              "      <td>mov</td>\n",
              "      <td>sub</td>\n",
              "      <td>mov</td>\n",
              "      <td>xor</td>\n",
              "      <td>push</td>\n",
              "      <td>push</td>\n",
              "      <td>push</td>\n",
              "      <td>push</td>\n",
              "      <td>...</td>\n",
              "      <td>None</td>\n",
              "      <td>None</td>\n",
              "      <td>None</td>\n",
              "      <td>None</td>\n",
              "      <td>None</td>\n",
              "      <td>None</td>\n",
              "      <td>None</td>\n",
              "      <td>None</td>\n",
              "      <td>None</td>\n",
              "      <td>None</td>\n",
              "    </tr>\n",
              "    <tr>\n",
              "      <th>2</th>\n",
              "      <td>mov</td>\n",
              "      <td>push</td>\n",
              "      <td>push</td>\n",
              "      <td>push</td>\n",
              "      <td>push</td>\n",
              "      <td>call</td>\n",
              "      <td>pop</td>\n",
              "      <td>lea</td>\n",
              "      <td>push</td>\n",
              "      <td>call</td>\n",
              "      <td>...</td>\n",
              "      <td>None</td>\n",
              "      <td>None</td>\n",
              "      <td>None</td>\n",
              "      <td>None</td>\n",
              "      <td>None</td>\n",
              "      <td>None</td>\n",
              "      <td>None</td>\n",
              "      <td>None</td>\n",
              "      <td>None</td>\n",
              "      <td>None</td>\n",
              "    </tr>\n",
              "    <tr>\n",
              "      <th>3</th>\n",
              "      <td>mov</td>\n",
              "      <td>push</td>\n",
              "      <td>mov</td>\n",
              "      <td>sub</td>\n",
              "      <td>lea</td>\n",
              "      <td>sbb</td>\n",
              "      <td>push</td>\n",
              "      <td>push</td>\n",
              "      <td>push</td>\n",
              "      <td>push</td>\n",
              "      <td>...</td>\n",
              "      <td>None</td>\n",
              "      <td>None</td>\n",
              "      <td>None</td>\n",
              "      <td>None</td>\n",
              "      <td>None</td>\n",
              "      <td>None</td>\n",
              "      <td>None</td>\n",
              "      <td>None</td>\n",
              "      <td>None</td>\n",
              "      <td>None</td>\n",
              "    </tr>\n",
              "    <tr>\n",
              "      <th>4</th>\n",
              "      <td>mov</td>\n",
              "      <td>push</td>\n",
              "      <td>mov</td>\n",
              "      <td>sub</td>\n",
              "      <td>lea</td>\n",
              "      <td>xor</td>\n",
              "      <td>push</td>\n",
              "      <td>push</td>\n",
              "      <td>push</td>\n",
              "      <td>push</td>\n",
              "      <td>...</td>\n",
              "      <td>None</td>\n",
              "      <td>None</td>\n",
              "      <td>None</td>\n",
              "      <td>None</td>\n",
              "      <td>None</td>\n",
              "      <td>None</td>\n",
              "      <td>None</td>\n",
              "      <td>None</td>\n",
              "      <td>None</td>\n",
              "      <td>None</td>\n",
              "    </tr>\n",
              "  </tbody>\n",
              "</table>\n",
              "<p>5 rows × 811196 columns</p>\n",
              "</div>"
            ],
            "text/plain": [
              "  0      1      2      3      4      5      6      7      8      9       \\\n",
              "0    mov   push    mov    sub    mov    and   push   push   push   push   \n",
              "1    mov   push    mov    sub    mov    xor   push   push   push   push   \n",
              "2    mov   push   push   push   push   call    pop    lea   push   call   \n",
              "3    mov   push    mov    sub    lea    sbb   push   push   push   push   \n",
              "4    mov   push    mov    sub    lea    xor   push   push   push   push   \n",
              "\n",
              "   ...   811186 811187 811188 811189 811190 811191 811192 811193 811194 811195  \n",
              "0  ...     None   None   None   None   None   None   None   None   None   None  \n",
              "1  ...     None   None   None   None   None   None   None   None   None   None  \n",
              "2  ...     None   None   None   None   None   None   None   None   None   None  \n",
              "3  ...     None   None   None   None   None   None   None   None   None   None  \n",
              "4  ...     None   None   None   None   None   None   None   None   None   None  \n",
              "\n",
              "[5 rows x 811196 columns]"
            ]
          },
          "metadata": {
            "tags": []
          },
          "execution_count": 61
        }
      ]
    },
    {
      "metadata": {
        "id": "jpCeXCexoNpr",
        "colab_type": "code",
        "colab": {}
      },
      "cell_type": "code",
      "source": [
        "import matplotlib.pyplot as plt"
      ],
      "execution_count": 0,
      "outputs": []
    },
    {
      "metadata": {
        "id": "Eud-pDN9n3ux",
        "colab_type": "code",
        "colab": {
          "base_uri": "https://localhost:8080/",
          "height": 414
        },
        "outputId": "0d2d8c18-3fa6-491c-eb47-f940b27b2071"
      },
      "cell_type": "code",
      "source": [
        "idx = 0\n",
        "\n",
        "plt.figure(figsize=(20,5))\n",
        "plt.subplot(1,2,1)\n",
        "df_X.iloc[idx].value_counts().plot(kind = 'barh')\n",
        "plt.title('Count of opcodes for sample {}'.format(idx), fontsize=18)\n",
        "plt.xlabel('#ocorrences', fontsize=14)\n",
        "\n",
        "plt.subplot(1,2,2)\n",
        "df_y['targets'].value_counts().plot(kind = 'barh')\n",
        "plt.xlabel('#ocorrences', fontsize=14)"
      ],
      "execution_count": 64,
      "outputs": [
        {
          "output_type": "execute_result",
          "data": {
            "text/plain": [
              "Text(0.5,0,'#ocorrences')"
            ]
          },
          "metadata": {
            "tags": []
          },
          "execution_count": 64
        },
        {
          "output_type": "display_data",
          "data": {
            "image/png": "[encoded data removed]",
            "text/plain": [
              "<matplotlib.figure.Figure at 0x7f6afacbf828>"
            ]
          },
          "metadata": {
            "tags": []
          }
        }
      ]
    },
    {
      "metadata": {
        "id": "xBoVaLxnqveu",
        "colab_type": "text"
      },
      "cell_type": "markdown",
      "source": [
        "## Split train and valid set"
      ]
    },
    {
      "metadata": {
        "id": "s_15aT2msXgp",
        "colab_type": "code",
        "colab": {}
      },
      "cell_type": "code",
      "source": [
        "from sklearn.model_selection import train_test_split"
      ],
      "execution_count": 0,
      "outputs": []
    },
    {
      "metadata": {
        "id": "52pwYcDxq6h7",
        "colab_type": "code",
        "colab": {
          "base_uri": "https://localhost:8080/",
          "height": 34
        },
        "outputId": "0b03cbf0-4cc9-403b-fd74-7db9cee95d2b"
      },
      "cell_type": "code",
      "source": [
        "test_size = 0.2\n",
        "print('Test size: {}'.format(test_size))\n",
        "X_train, X_valid, y_train, y_valid = train_test_split(X, y, test_size=test_size, random_state=42)"
      ],
      "execution_count": 66,
      "outputs": [
        {
          "output_type": "stream",
          "text": [
            "Test size: 0.2\n"
          ],
          "name": "stdout"
        }
      ]
    },
    {
      "metadata": {
        "id": "_QHjB_3Ys1O0",
        "colab_type": "code",
        "colab": {
          "base_uri": "https://localhost:8080/",
          "height": 85
        },
        "outputId": "94b0c7e4-32d1-463b-c522-593e632cbdfd"
      },
      "cell_type": "code",
      "source": [
        "print('X_train shape: {}'.format(X_train.shape))\n",
        "print('y_train shape: {}'.format(y_train.shape))\n",
        "\n",
        "print('X_valid shape: {}'.format(X_valid.shape))\n",
        "print('y_valid shape: {}'.format(y_valid.shape))"
      ],
      "execution_count": 67,
      "outputs": [
        {
          "output_type": "stream",
          "text": [
            "X_train shape: (101,)\n",
            "y_train shape: (101,)\n",
            "X_valid shape: (26,)\n",
            "y_valid shape: (26,)\n"
          ],
          "name": "stdout"
        }
      ]
    },
    {
      "metadata": {
        "id": "_7pE87gkp-yb",
        "colab_type": "text"
      },
      "cell_type": "markdown",
      "source": [
        "## Saving processed data"
      ]
    },
    {
      "metadata": {
        "id": "kD4j87erqAhu",
        "colab_type": "code",
        "colab": {}
      },
      "cell_type": "code",
      "source": [
        "def save_data(X, y, file, path2save):\n",
        "\n",
        "    os.makedirs(path2save)\n",
        "    \n",
        "    data ={'X':X, 'y':y}\n",
        "    np.savez(path2save + file + \".npz\",**data)\n",
        "\n",
        "    print('Saved in: {}'.format(path2save))  "
      ],
      "execution_count": 0,
      "outputs": []
    },
    {
      "metadata": {
        "id": "nxy9rid0seJo",
        "colab_type": "code",
        "colab": {
          "base_uri": "https://localhost:8080/",
          "height": 51
        },
        "outputId": "80220f40-b291-42a8-e72e-57fef6aa215c"
      },
      "cell_type": "code",
      "source": [
        "path2saveTrain = 'proc_data/train/'\n",
        "path2saveValid = 'proc_data/valid/'\n",
        "\n",
        "\n",
        "if not os.path.exists(path2saveTrain):\n",
        "    save_data(X_train, y_train,'opcodes', path2saveTrain)\n",
        "    save_data(X_valid, y_valid,'opcodes', path2saveValid)\n",
        "\n",
        "else:\n",
        "    print('Data already processed!')"
      ],
      "execution_count": 69,
      "outputs": [
        {
          "output_type": "stream",
          "text": [
            "Saved in: proc_data/train/\n",
            "Saved in: proc_data/valid/\n"
          ],
          "name": "stdout"
        }
      ]
    },
    {
      "metadata": {
        "id": "qYMaw8Q0kFjx",
        "colab_type": "text"
      },
      "cell_type": "markdown",
      "source": [
        "# N-grams"
      ]
    },
    {
      "metadata": {
        "id": "2kT-rT1DnOfs",
        "colab_type": "code",
        "colab": {}
      },
      "cell_type": "code",
      "source": [
        "from sklearn.feature_extraction.text import CountVectorizer\n",
        "from sklearn.feature_extraction.text import TfidfTransformer"
      ],
      "execution_count": 0,
      "outputs": []
    },
    {
      "metadata": {
        "id": "pKAvPsjKlJr5",
        "colab_type": "code",
        "colab": {
          "base_uri": "https://localhost:8080/",
          "height": 34
        },
        "outputId": "95f6d3a8-0df5-4eae-f2fb-6dfd4e918f36"
      },
      "cell_type": "code",
      "source": [
        "max_gram = 4\n",
        "print('Max_grams: {}'.format(max_gram))"
      ],
      "execution_count": 71,
      "outputs": [
        {
          "output_type": "stream",
          "text": [
            "Max_grams: 4\n"
          ],
          "name": "stdout"
        }
      ]
    },
    {
      "metadata": {
        "id": "gV-t7fS4zKtu",
        "colab_type": "code",
        "colab": {}
      },
      "cell_type": "code",
      "source": [
        "def get_n_grams(X, max_gram = 4):\n",
        "  \n",
        "\n",
        "    print('Counting ocorrences of words. Ngram-range: {}...'.format(str((1,max_gram))))\n",
        "    \n",
        "    vectorizer = CountVectorizer(analyzer = \"word\",\n",
        "                                 max_features = 300,\n",
        "                                 ngram_range=(1,max_gram)) \n",
        "    \n",
        "    features = vectorizer.fit_transform([\" \".join(x) for x in X])\n",
        "\n",
        "    #downscale weights for words using tf–idf: “Term Frequency times Inverse Document Frequency”.\n",
        "    print('Words downscaling using TF-IDF...')\n",
        "\n",
        "    tfidf_transformer = TfidfTransformer()\n",
        "    features = tfidf_transformer.fit_transform(features)\n",
        "    \n",
        "    features = features.toarray()\n",
        "    model_vectorized = vectorizer\n",
        "    model_tfidf = tfidf_transformer\n",
        "\n",
        "    return model_vectorized, model_tfidf, features"
      ],
      "execution_count": 0,
      "outputs": []
    },
    {
      "metadata": {
        "id": "3Opdrb82tk-d",
        "colab_type": "code",
        "colab": {
          "base_uri": "https://localhost:8080/",
          "height": 51
        },
        "outputId": "d6468b1f-70e5-4197-c123-c2a3ed5df61b"
      },
      "cell_type": "code",
      "source": [
        "model_vectorized, model_tfidf, f_train = get_n_grams(X_train)"
      ],
      "execution_count": 82,
      "outputs": [
        {
          "output_type": "stream",
          "text": [
            "Counting ocorrences of words. Ngram-range: (1, 4)...\n",
            "Words downscaling using TF-IDF...\n"
          ],
          "name": "stdout"
        }
      ]
    },
    {
      "metadata": {
        "id": "WEpXoHukiZJh",
        "colab_type": "code",
        "colab": {}
      },
      "cell_type": "code",
      "source": [
        "f_valid = model_vectorized.transform([\" \".join(x) for x in X_valid])\n",
        "f_valid = model_tfidf.transform(f_valid)\n",
        "f_valid = f_valid.toarray()"
      ],
      "execution_count": 0,
      "outputs": []
    },
    {
      "metadata": {
        "id": "EPJk0U_RjHqd",
        "colab_type": "code",
        "colab": {
          "base_uri": "https://localhost:8080/",
          "height": 51
        },
        "outputId": "89d6b627-5ede-403d-c46c-b4073cf802a3"
      },
      "cell_type": "code",
      "source": [
        "print('Train features shape: {}'.format(f_train.shape))\n",
        "print('Valid features shape: {}'.format(f_valid.shape))"
      ],
      "execution_count": 97,
      "outputs": [
        {
          "output_type": "stream",
          "text": [
            "Train features shape: (101, 300)\n",
            "Valid features shape: (26, 300)\n"
          ],
          "name": "stdout"
        }
      ]
    },
    {
      "metadata": {
        "id": "Dc4gptW2kWbl",
        "colab_type": "text"
      },
      "cell_type": "markdown",
      "source": [
        "## Train classification model"
      ]
    },
    {
      "metadata": {
        "id": "vUn615uIiRo0",
        "colab_type": "code",
        "colab": {}
      },
      "cell_type": "code",
      "source": [
        "from sklearn.ensemble import RandomForestClassifier"
      ],
      "execution_count": 0,
      "outputs": []
    },
    {
      "metadata": {
        "id": "U3b43qcriJEU",
        "colab_type": "code",
        "colab": {}
      },
      "cell_type": "code",
      "source": [
        "forest = RandomForestClassifier(n_estimators = 100) \n",
        "forest = forest.fit( f_train, y_train )"
      ],
      "execution_count": 0,
      "outputs": []
    },
    {
      "metadata": {
        "id": "F-VzXPwYitPB",
        "colab_type": "code",
        "colab": {}
      },
      "cell_type": "code",
      "source": [
        "result = forest.predict(f_valid)"
      ],
      "execution_count": 0,
      "outputs": []
    }
  ]
}