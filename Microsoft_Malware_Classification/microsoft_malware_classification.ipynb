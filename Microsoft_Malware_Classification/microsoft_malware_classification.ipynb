{
  "nbformat": 4,
  "nbformat_minor": 0,
  "metadata": {
    "colab": {
      "name": "microsoft_malware_classification.ipynb",
      "version": "0.3.2",
      "provenance": [],
      "collapsed_sections": []
    },
    "kernelspec": {
      "name": "python3",
      "display_name": "Python 3"
    },
    "accelerator": "GPU"
  },
  "cells": [
    {
      "metadata": {
        "id": "zMYQUkNl3e3I",
        "colab_type": "text"
      },
      "cell_type": "markdown",
      "source": [
        "** *\n",
        "# Microsoft Malware Classification Challenge (BIG 2015)\n",
        "\n",
        "---\n",
        "\n",
        "\n",
        "https://www.kaggle.com/c/malware-classification/\n"
      ]
    },
    {
      "metadata": {
        "id": "64M3PU1ny8TZ",
        "colab_type": "toc"
      },
      "cell_type": "markdown",
      "source": [
        ">[Microsoft Malware Classification Challenge (BIG 2015)](#scrollTo=zMYQUkNl3e3I)\n",
        "\n",
        ">[Initial Setup](#scrollTo=U0PO6PE-0JFr)\n",
        "\n",
        ">>[Download Dataset](#scrollTo=afqc3ABYzOTC)\n",
        "\n",
        ">>[Install PyTorch](#scrollTo=AXQ7uiJTzevw)\n",
        "\n",
        ">[Data Analysis](#scrollTo=YdVbWgtN0BE2)\n",
        "\n"
      ]
    },
    {
      "metadata": {
        "id": "U0PO6PE-0JFr",
        "colab_type": "text"
      },
      "cell_type": "markdown",
      "source": [
        "# Initial Setup"
      ]
    },
    {
      "metadata": {
        "id": "afqc3ABYzOTC",
        "colab_type": "text"
      },
      "cell_type": "markdown",
      "source": [
        "## Download Dataset"
      ]
    },
    {
      "metadata": {
        "id": "deZJ5GoSoNr8",
        "colab_type": "code",
        "colab": {}
      },
      "cell_type": "code",
      "source": [
        "!pip install kaggle"
      ],
      "execution_count": 0,
      "outputs": []
    },
    {
      "metadata": {
        "id": "o-mvottSCai9",
        "colab_type": "code",
        "colab": {
          "base_uri": "https://localhost:8080/"
        },
        "outputId": "58f54103-fa70-4a82-de9a-bde26b6720d5"
      },
      "cell_type": "code",
      "source": [
        "from googleapiclient.discovery import build\n",
        "import io, os\n",
        "from googleapiclient.http import MediaIoBaseDownload\n",
        "from google.colab import auth\n",
        "\n",
        "if not os.path.exists('data/'):\n",
        "\n",
        "    auth.authenticate_user()\n",
        "\n",
        "    drive_service = build('drive', 'v3')\n",
        "    results = drive_service.files().list(\n",
        "            q=\"name = 'kaggle.json'\", fields=\"files(id)\").execute()\n",
        "    kaggle_api_key = results.get('files', [])\n",
        "\n",
        "    filename = \"/content/.kaggle/kaggle.json\"\n",
        "    os.makedirs(os.path.dirname(filename), exist_ok=True)\n",
        "\n",
        "    request = drive_service.files().get_media(fileId=kaggle_api_key[0]['id'])\n",
        "    fh = io.FileIO(filename, 'wb')\n",
        "    downloader = MediaIoBaseDownload(fh, request)\n",
        "    done = False\n",
        "    while done is False:\n",
        "        status, done = downloader.next_chunk()\n",
        "        print(\"Download %d%%.\" % int(status.progress() * 100))\n",
        "    os.chmod(filename, 600)\n",
        "\n",
        "    !kaggle competitions download -c malware-classification -p data/ && cd data && ls && unzip train.zip && unzip test.zip && unzip trainLabels.csv.zip\n",
        "    \n",
        "    \n",
        "else:\n",
        "    print('Dataset already downloaded!')"
      ],
      "execution_count": 0,
      "outputs": [
        {
          "output_type": "stream",
          "text": [
            "Collecting kaggle\n",
            "  Downloading https://files.pythonhosted.org/packages/74/9b/a6bdc22939c32e1cecc086a972b5e3f7c991b73d74dab0e5d82ff80c5968/kaggle-1.3.8.tar.gz\n",
            "Requirement already satisfied: urllib3>=1.15 in /usr/local/lib/python3.6/dist-packages (from kaggle) (1.22)\n",
            "Requirement already satisfied: six>=1.10 in /usr/local/lib/python3.6/dist-packages (from kaggle) (1.11.0)\n",
            "Requirement already satisfied: certifi in /usr/local/lib/python3.6/dist-packages (from kaggle) (2018.4.16)\n",
            "Requirement already satisfied: python-dateutil in /usr/local/lib/python3.6/dist-packages (from kaggle) (2.5.3)\n",
            "Requirement already satisfied: requests in /usr/local/lib/python3.6/dist-packages (from kaggle) (2.18.4)\n",
            "Requirement already satisfied: idna<2.7,>=2.5 in /usr/local/lib/python3.6/dist-packages (from requests->kaggle) (2.6)\n",
            "Requirement already satisfied: chardet<3.1.0,>=3.0.2 in /usr/local/lib/python3.6/dist-packages (from requests->kaggle) (3.0.4)\n",
            "Building wheels for collected packages: kaggle\n",
            "  Running setup.py bdist_wheel for kaggle ... \u001b[?25l-\b \bdone\n",
            "\u001b[?25h  Stored in directory: /content/.cache/pip/wheels/d6/3c/92/375decc0cf0a65b281db3cca9b8e21dc27b8ebc4d1ce29afca\n",
            "Successfully built kaggle\n",
            "Installing collected packages: kaggle\n",
            "Successfully installed kaggle-1.3.8\n"
          ],
          "name": "stdout"
        }
      ]
    },
    {
      "metadata": {
        "id": "AXQ7uiJTzevw",
        "colab_type": "text"
      },
      "cell_type": "markdown",
      "source": [
        "## Install PyTorch"
      ]
    },
    {
      "metadata": {
        "id": "qQVGbfdm1yPo",
        "colab_type": "code",
        "colab": {}
      },
      "cell_type": "code",
      "source": [
        "# http://pytorch.org/\n",
        "from os import path\n",
        "from wheel.pep425tags import get_abbr_impl, get_impl_ver, get_abi_tag\n",
        "platform = '{}{}-{}'.format(get_abbr_impl(), get_impl_ver(), get_abi_tag())\n",
        "\n",
        "accelerator = 'cu80' if path.exists('/opt/bin/nvidia-smi') else 'cpu'\n",
        "\n",
        "!pip install -q http://download.pytorch.org/whl/{accelerator}/torch-0.4.0-{platform}-linux_x86_64.whl torchvision"
      ],
      "execution_count": 0,
      "outputs": []
    },
    {
      "metadata": {
        "id": "YdVbWgtN0BE2",
        "colab_type": "text"
      },
      "cell_type": "markdown",
      "source": [
        "# Data Analysis"
      ]
    },
    {
      "metadata": {
        "id": "PimmQU551r6N",
        "colab_type": "code",
        "colab": {}
      },
      "cell_type": "code",
      "source": [
        "import numpy as np\n",
        "import torchvision.transforms as transforms\n",
        "import torch"
      ],
      "execution_count": 0,
      "outputs": []
    },
    {
      "metadata": {
        "id": "MBoaIZVGhj72",
        "colab_type": "code",
        "colab": {
          "base_uri": "https://localhost:8080/",
          "height": 34
        },
        "outputId": "c04e7e4f-7fe2-4fb4-9ca7-79f96cd4f587"
      },
      "cell_type": "code",
      "source": [
        "print(torch.__version__)"
      ],
      "execution_count": 0,
      "outputs": [
        {
          "output_type": "stream",
          "text": [
            "0.4.0\n"
          ],
          "name": "stdout"
        }
      ]
    },
    {
      "metadata": {
        "id": "8lU4vKe58Q6w",
        "colab_type": "code",
        "colab": {
          "base_uri": "https://localhost:8080/",
          "height": 68
        },
        "outputId": "da6b99e0-1eac-44b5-ae78-9c1773b32d83"
      },
      "cell_type": "code",
      "source": [
        "gpu_count = torch.cuda.device_count()\n",
        "print(\"{} GPU's available:\".format(gpu_count) )\n",
        "cpu_count = torch.multiprocessing.cpu_count()\n",
        "print(\"\\ncpu_count: {}\".format(cpu_count))"
      ],
      "execution_count": 0,
      "outputs": [
        {
          "output_type": "stream",
          "text": [
            "1 GPU's available:\n",
            "\n",
            "cpu_count: 2\n"
          ],
          "name": "stdout"
        }
      ]
    },
    {
      "metadata": {
        "id": "r2aOkjeXVQR5",
        "colab_type": "code",
        "colab": {
          "base_uri": "https://localhost:8080/",
          "height": 68
        },
        "outputId": "31d5acdb-5d2d-49c2-aeb7-16519c0ff088"
      },
      "cell_type": "code",
      "source": [
        "if gpu_count != 0:\n",
        "    !free -h"
      ],
      "execution_count": 0,
      "outputs": [
        {
          "output_type": "stream",
          "text": [
            "              total        used        free      shared  buff/cache   available\r\n",
            "Mem:            12G        2.1G        914M        253M        9.7G         10G\r\n",
            "Swap:            0B          0B          0B\r\n"
          ],
          "name": "stdout"
        }
      ]
    },
    {
      "metadata": {
        "id": "ybAKJFU-8RLn",
        "colab_type": "code",
        "colab": {}
      },
      "cell_type": "code",
      "source": [
        "datadir = 'data/'"
      ],
      "execution_count": 0,
      "outputs": []
    }
  ]
}