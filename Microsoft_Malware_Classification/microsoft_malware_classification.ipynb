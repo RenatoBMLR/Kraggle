{
  "nbformat": 4,
  "nbformat_minor": 0,
  "metadata": {
    "colab": {
      "name": "microsoft_malware_classification.ipynb",
      "version": "0.3.2",
      "provenance": [],
      "collapsed_sections": []
    },
    "kernelspec": {
      "name": "python3",
      "display_name": "Python 3"
    },
    "accelerator": "GPU"
  },
  "cells": [
    {
      "metadata": {
        "id": "zMYQUkNl3e3I",
        "colab_type": "text"
      },
      "cell_type": "markdown",
      "source": [
        "** *\n",
        "# Microsoft Malware Classification Challenge (BIG 2015)\n",
        "\n",
        "---\n",
        "\n",
        "\n",
        "https://www.kaggle.com/c/malware-classification/\n"
      ]
    },
    {
      "metadata": {
        "id": "64M3PU1ny8TZ",
        "colab_type": "toc"
      },
      "cell_type": "markdown",
      "source": [
        ">[Microsoft Malware Classification Challenge (BIG 2015)](#scrollTo=zMYQUkNl3e3I)\n",
        "\n",
        ">[Initial Setup](#scrollTo=U0PO6PE-0JFr)\n",
        "\n",
        ">>[Download Dataset](#scrollTo=afqc3ABYzOTC)\n",
        "\n",
        ">[Extract Features](#scrollTo=ms9rLqS_pgRl)\n",
        "\n"
      ]
    },
    {
      "metadata": {
        "id": "U0PO6PE-0JFr",
        "colab_type": "text"
      },
      "cell_type": "markdown",
      "source": [
        "# Initial Setup"
      ]
    },
    {
      "metadata": {
        "id": "afqc3ABYzOTC",
        "colab_type": "text"
      },
      "cell_type": "markdown",
      "source": [
        "## Download Dataset"
      ]
    },
    {
      "metadata": {
        "id": "deZJ5GoSoNr8",
        "colab_type": "code",
        "colab": {
          "base_uri": "https://localhost:8080/",
          "height": 170
        },
        "outputId": "20dffaaa-3aae-4be0-dc7a-3a334e6362a6"
      },
      "cell_type": "code",
      "source": [
        "!pip install kaggle"
      ],
      "execution_count": 118,
      "outputs": [
        {
          "output_type": "stream",
          "text": [
            "Requirement already satisfied: kaggle in /usr/local/lib/python3.6/dist-packages (1.3.12)\r\n",
            "Requirement already satisfied: urllib3<1.23.0,>=1.15 in /usr/local/lib/python3.6/dist-packages (from kaggle) (1.22)\n",
            "Requirement already satisfied: certifi in /usr/local/lib/python3.6/dist-packages (from kaggle) (2018.4.16)\n",
            "Requirement already satisfied: tqdm in /usr/local/lib/python3.6/dist-packages (from kaggle) (4.23.4)\n",
            "Requirement already satisfied: requests in /usr/local/lib/python3.6/dist-packages (from kaggle) (2.18.4)\n",
            "Requirement already satisfied: python-dateutil in /usr/local/lib/python3.6/dist-packages (from kaggle) (2.5.3)\n",
            "Requirement already satisfied: six>=1.10 in /usr/local/lib/python3.6/dist-packages (from kaggle) (1.11.0)\n",
            "Requirement already satisfied: idna<2.7,>=2.5 in /usr/local/lib/python3.6/dist-packages (from requests->kaggle) (2.6)\n",
            "Requirement already satisfied: chardet<3.1.0,>=3.0.2 in /usr/local/lib/python3.6/dist-packages (from requests->kaggle) (3.0.4)\n"
          ],
          "name": "stdout"
        }
      ]
    },
    {
      "metadata": {
        "id": "o-mvottSCai9",
        "colab_type": "code",
        "colab": {
          "base_uri": "https://localhost:8080/",
          "height": 34
        },
        "outputId": "27f95834-4a0e-4876-93e1-ee4e6028eb2d"
      },
      "cell_type": "code",
      "source": [
        "from googleapiclient.discovery import build\n",
        "import io, os\n",
        "from googleapiclient.http import MediaIoBaseDownload\n",
        "from google.colab import auth\n",
        "\n",
        "if not os.path.exists('data/'):\n",
        "\n",
        "    auth.authenticate_user()\n",
        "\n",
        "    drive_service = build('drive', 'v3')\n",
        "    results = drive_service.files().list(\n",
        "            q=\"name = 'kaggle.json'\", fields=\"files(id)\").execute()\n",
        "    kaggle_api_key = results.get('files', [])\n",
        "\n",
        "    filename = \"/content/.kaggle/kaggle.json\"\n",
        "    os.makedirs(os.path.dirname(filename), exist_ok=True)\n",
        "\n",
        "    request = drive_service.files().get_media(fileId=kaggle_api_key[0]['id'])\n",
        "    fh = io.FileIO(filename, 'wb')\n",
        "    downloader = MediaIoBaseDownload(fh, request)\n",
        "    done = False\n",
        "    while done is False:\n",
        "        status, done = downloader.next_chunk()\n",
        "        print(\"Download %d%%.\" % int(status.progress() * 100))\n",
        "    os.chmod(filename, 600)\n",
        "\n",
        "    !kaggle competitions download -c malware-classification -p data/\n",
        "    \n",
        "else:\n",
        "    print('Dataset already downloaded!')"
      ],
      "execution_count": 119,
      "outputs": [
        {
          "output_type": "stream",
          "text": [
            "Dataset already downloaded!\n"
          ],
          "name": "stdout"
        }
      ]
    },
    {
      "metadata": {
        "id": "0qzGQmimPu1I",
        "colab_type": "code",
        "colab": {}
      },
      "cell_type": "code",
      "source": [
        "import re\n",
        "import glob\n",
        "\n",
        "import numpy as np\n",
        "import pandas as pd\n",
        "\n",
        "import multiprocessing\n",
        "from multiprocessing.dummy import Pool"
      ],
      "execution_count": 0,
      "outputs": []
    },
    {
      "metadata": {
        "id": "gfqlgbYoTY4d",
        "colab_type": "code",
        "colab": {
          "base_uri": "https://localhost:8080/",
          "height": 34
        },
        "outputId": "aff40831-b9f0-4146-9383-ccbd6bec52b1"
      },
      "cell_type": "code",
      "source": [
        "cpu_count  = 2*multiprocessing.cpu_count()-1\n",
        "print('Number of CPUs: {}'.format(cpu_count))"
      ],
      "execution_count": 121,
      "outputs": [
        {
          "output_type": "stream",
          "text": [
            "Number of CPUs: 3\n"
          ],
          "name": "stdout"
        }
      ]
    },
    {
      "metadata": {
        "id": "ecvC_iJ4DMIT",
        "colab_type": "code",
        "colab": {
          "base_uri": "https://localhost:8080/",
          "height": 360
        },
        "outputId": "f4bbcc48-b7cc-498c-9e85-177ef374b78f"
      },
      "cell_type": "code",
      "source": [
        "trainLabels = pd.read_csv('data/trainLabels.csv')\n",
        "trainLabels.Class.value_counts().plot(kind = 'bar')"
      ],
      "execution_count": 122,
      "outputs": [
        {
          "output_type": "execute_result",
          "data": {
            "text/plain": [
              "<matplotlib.axes._subplots.AxesSubplot at 0x7fa17a6053c8>"
            ]
          },
          "metadata": {
            "tags": []
          },
          "execution_count": 122
        },
        {
          "output_type": "display_data",
          "data": {
            "image/png": "[encoded data removed]",
            "text/plain": [
              "<matplotlib.figure.Figure at 0x7fa17a605c50>"
            ]
          },
          "metadata": {
            "tags": []
          }
        }
      ]
    },
    {
      "metadata": {
        "id": "8gNHxnerLZA9",
        "colab_type": "code",
        "colab": {
          "base_uri": "https://localhost:8080/",
          "height": 102
        },
        "outputId": "1c8b246b-17d1-4762-fca8-73ce9118873d"
      },
      "cell_type": "code",
      "source": [
        "!apt-get install p7zip"
      ],
      "execution_count": 123,
      "outputs": [
        {
          "output_type": "stream",
          "text": [
            "Reading package lists... Done\n",
            "Building dependency tree       \n",
            "Reading state information... Done\n",
            "p7zip is already the newest version (16.02+dfsg-4).\n",
            "0 upgraded, 0 newly installed, 0 to remove and 6 not upgraded.\n"
          ],
          "name": "stdout"
        }
      ]
    },
    {
      "metadata": {
        "id": "fzu81toJrzoR",
        "colab_type": "code",
        "colab": {}
      },
      "cell_type": "code",
      "source": [
        "#!cd data && p7zip -d train.7z"
      ],
      "execution_count": 0,
      "outputs": []
    },
    {
      "metadata": {
        "id": "ms9rLqS_pgRl",
        "colab_type": "text"
      },
      "cell_type": "markdown",
      "source": [
        "# Extract Features"
      ]
    },
    {
      "metadata": {
        "id": "WWdKiWNitq6G",
        "colab_type": "code",
        "colab": {}
      },
      "cell_type": "code",
      "source": [
        "def getOpcodes(file2path):\n",
        "\n",
        "    openfile = io.open(file2path,'r',encoding='latin-1')\n",
        "    lines=openfile.readlines()\n",
        "\n",
        "    opcodes_lst = []\n",
        "\n",
        "    for line in lines:\n",
        "        opcode_group = re.search('\\s\\s\\s[a-z][a-z]+\\s\\s\\s',line)\n",
        "        if opcode_group:\n",
        "            opcode = opcode_group.group().strip()\n",
        "            opcodes_lst.append(opcode)\n",
        "            \n",
        "    return opcodes_lst, file2path"
      ],
      "execution_count": 0,
      "outputs": []
    },
    {
      "metadata": {
        "id": "BJynSdQASXiU",
        "colab_type": "code",
        "colab": {}
      },
      "cell_type": "code",
      "source": [
        "def extractInParallel(path_lst, threads=2):\n",
        "    \n",
        "    pool = Pool(threads)\n",
        "    result = pool.map(getOpcodes, path_lst)\n",
        "    pool.close()\n",
        "    pool.join()\n",
        "    return result"
      ],
      "execution_count": 0,
      "outputs": []
    },
    {
      "metadata": {
        "id": "V7UsimCqRFCc",
        "colab_type": "code",
        "colab": {}
      },
      "cell_type": "code",
      "source": [
        "def extractFeatures(path2data, format_file = '*.asm'):\n",
        "  \n",
        "    for subdir, dirs, files in os.walk(path2data):\n",
        "          print('Reading files from dir: {}'.format(subdir))\n",
        "          path_folder = os.path.join(subdir, format_file)\n",
        "          filesPath = glob.glob(path_folder) \n",
        "\n",
        "          res =  extractInParallel(filesPath, threads=cpu_count)\n",
        "    return res"
      ],
      "execution_count": 0,
      "outputs": []
    },
    {
      "metadata": {
        "id": "o1lm7q7yUmIO",
        "colab_type": "code",
        "colab": {
          "base_uri": "https://localhost:8080/",
          "height": 34
        },
        "outputId": "3432c22f-2ec7-4270-e2e3-7fba555e8206"
      },
      "cell_type": "code",
      "source": [
        "path2train = 'data/train'\n",
        "train_data = extractFeatures(path2train)"
      ],
      "execution_count": 128,
      "outputs": [
        {
          "output_type": "stream",
          "text": [
            "Reading files from dir: data/train\n"
          ],
          "name": "stdout"
        }
      ]
    },
    {
      "metadata": {
        "id": "P4nlmjbsrn-H",
        "colab_type": "code",
        "colab": {}
      },
      "cell_type": "code",
      "source": [
        "def format_data(data):\n",
        "\n",
        "  X, y = [], []\n",
        "  for opcodes, filename in data:\n",
        "      X.append(opcodes)\n",
        "      y.append(filename)\n",
        "      \n",
        "  return X, y"
      ],
      "execution_count": 0,
      "outputs": []
    },
    {
      "metadata": {
        "id": "Err1SvyIsamX",
        "colab_type": "code",
        "colab": {}
      },
      "cell_type": "code",
      "source": [
        "X_train, y_train = format_data(train_data)"
      ],
      "execution_count": 0,
      "outputs": []
    },
    {
      "metadata": {
        "id": "_7pE87gkp-yb",
        "colab_type": "text"
      },
      "cell_type": "markdown",
      "source": [
        "## Saving features"
      ]
    },
    {
      "metadata": {
        "id": "kD4j87erqAhu",
        "colab_type": "code",
        "colab": {}
      },
      "cell_type": "code",
      "source": [
        "def save_features(X, y, file, path2save):\n",
        "\n",
        "    os.makedirs(path2save)\n",
        "    \n",
        "    data ={'X':X, 'y':y}\n",
        "    np.savez(path2save + file + \".npz\",**data)\n",
        "\n",
        "    print('Saved in: {}'.format(path2save))  "
      ],
      "execution_count": 0,
      "outputs": []
    },
    {
      "metadata": {
        "id": "nxy9rid0seJo",
        "colab_type": "code",
        "colab": {
          "base_uri": "https://localhost:8080/",
          "height": 34
        },
        "outputId": "5216a9ce-4363-442f-bd5c-27606316007a"
      },
      "cell_type": "code",
      "source": [
        "path2saveTrain = 'features/train/'\n",
        "\n",
        "if not os.path.exists(path2save):\n",
        "    save_features(X_train, y_train,'opcodes', path2saveTrain)\n",
        "\n",
        "else:\n",
        "    print('Features already obtained!')"
      ],
      "execution_count": 147,
      "outputs": [
        {
          "output_type": "stream",
          "text": [
            "Saved in: features/train/\n"
          ],
          "name": "stdout"
        }
      ]
    },
    {
      "metadata": {
        "id": "wWNwtXQAyStr",
        "colab_type": "code",
        "colab": {}
      },
      "cell_type": "code",
      "source": [
        ""
      ],
      "execution_count": 0,
      "outputs": []
    }
  ]
}