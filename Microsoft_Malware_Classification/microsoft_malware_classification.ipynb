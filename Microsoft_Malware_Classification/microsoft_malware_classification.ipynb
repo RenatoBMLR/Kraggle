{
  "nbformat": 4,
  "nbformat_minor": 0,
  "metadata": {
    "colab": {
      "name": "microsoft_malware_classification.ipynb",
      "version": "0.3.2",
      "provenance": [],
      "collapsed_sections": []
    },
    "kernelspec": {
      "name": "python3",
      "display_name": "Python 3"
    },
    "accelerator": "GPU"
  },
  "cells": [
    {
      "metadata": {
        "id": "zMYQUkNl3e3I",
        "colab_type": "text"
      },
      "cell_type": "markdown",
      "source": [
        "** *\n",
        "# Microsoft Malware Classification Challenge (BIG 2015)\n",
        "\n",
        "---\n",
        "\n",
        "\n",
        "https://www.kaggle.com/c/malware-classification/\n"
      ]
    },
    {
      "metadata": {
        "id": "U0PO6PE-0JFr",
        "colab_type": "text"
      },
      "cell_type": "markdown",
      "source": [
        "# Initial Setup"
      ]
    },
    {
      "metadata": {
        "id": "afqc3ABYzOTC",
        "colab_type": "text"
      },
      "cell_type": "markdown",
      "source": [
        "## Download Dataset"
      ]
    },
    {
      "metadata": {
        "id": "deZJ5GoSoNr8",
        "colab_type": "code",
        "colab": {}
      },
      "cell_type": "code",
      "source": [
        "!pip install kaggle"
      ],
      "execution_count": 0,
      "outputs": []
    },
    {
      "metadata": {
        "id": "o-mvottSCai9",
        "colab_type": "code",
        "colab": {
          "base_uri": "https://localhost:8080/",
          "height": 34
        },
        "outputId": "eb943430-ef80-422e-9776-a73e00d85ce5"
      },
      "cell_type": "code",
      "source": [
        "from googleapiclient.discovery import build\n",
        "import io, os\n",
        "from googleapiclient.http import MediaIoBaseDownload\n",
        "from google.colab import auth\n",
        "\n",
        "if not os.path.exists('data/'):\n",
        "\n",
        "    auth.authenticate_user()\n",
        "\n",
        "    drive_service = build('drive', 'v3')\n",
        "    results = drive_service.files().list(\n",
        "            q=\"name = 'kaggle.json'\", fields=\"files(id)\").execute()\n",
        "    kaggle_api_key = results.get('files', [])\n",
        "\n",
        "    filename = \"/content/.kaggle/kaggle.json\"\n",
        "    os.makedirs(os.path.dirname(filename), exist_ok=True)\n",
        "\n",
        "    request = drive_service.files().get_media(fileId=kaggle_api_key[0]['id'])\n",
        "    fh = io.FileIO(filename, 'wb')\n",
        "    downloader = MediaIoBaseDownload(fh, request)\n",
        "    done = False\n",
        "    while done is False:\n",
        "        status, done = downloader.next_chunk()\n",
        "        print(\"Download %d%%.\" % int(status.progress() * 100))\n",
        "    os.chmod(filename, 600)\n",
        "\n",
        "    !kaggle competitions download -c malware-classification -p data/\n",
        "    \n",
        "else:\n",
        "    print('Dataset already downloaded!')"
      ],
      "execution_count": 4,
      "outputs": [
        {
          "output_type": "stream",
          "text": [
            "Dataset already downloaded!\n"
          ],
          "name": "stdout"
        }
      ]
    },
    {
      "metadata": {
        "id": "0qzGQmimPu1I",
        "colab_type": "code",
        "colab": {}
      },
      "cell_type": "code",
      "source": [
        "import os\n",
        "import re\n",
        "import glob\n",
        "from tqdm import tqdm\n",
        "#from tqdm import tqdm_notebook\n",
        "\n",
        "\n",
        "import numpy as np\n",
        "import pandas as pd\n",
        "\n",
        "import multiprocessing\n",
        "from multiprocessing.dummy import Pool"
      ],
      "execution_count": 0,
      "outputs": []
    },
    {
      "metadata": {
        "id": "-xI-RJSusQnO",
        "colab_type": "code",
        "colab": {}
      },
      "cell_type": "code",
      "source": [
        "seed=42\n",
        "np.random.seed(seed)"
      ],
      "execution_count": 0,
      "outputs": []
    },
    {
      "metadata": {
        "id": "gfqlgbYoTY4d",
        "colab_type": "code",
        "colab": {
          "base_uri": "https://localhost:8080/",
          "height": 34
        },
        "outputId": "29907724-88be-46fa-f618-2167b19d9d5f"
      },
      "cell_type": "code",
      "source": [
        "cpu_count  = 2*multiprocessing.cpu_count()-1\n",
        "print('Number of CPUs: {}'.format(cpu_count))"
      ],
      "execution_count": 5,
      "outputs": [
        {
          "output_type": "stream",
          "text": [
            "Number of CPUs: 3\n"
          ],
          "name": "stdout"
        }
      ]
    },
    {
      "metadata": {
        "id": "fzu81toJrzoR",
        "colab_type": "code",
        "colab": {}
      },
      "cell_type": "code",
      "source": [
        "!cd data && p7zip -d train.7z"
      ],
      "execution_count": 0,
      "outputs": []
    },
    {
      "metadata": {
        "id": "ms9rLqS_pgRl",
        "colab_type": "text"
      },
      "cell_type": "markdown",
      "source": [
        "# Extract Features"
      ]
    },
    {
      "metadata": {
        "id": "WWdKiWNitq6G",
        "colab_type": "code",
        "colab": {}
      },
      "cell_type": "code",
      "source": [
        "def getOpcodes(file2path):\n",
        "\n",
        "    openfile = io.open(file2path,'r',encoding='latin-1')\n",
        "    lines=openfile.readlines()\n",
        "\n",
        "    opcodes_lst = []\n",
        "\n",
        "    for line in lines:\n",
        "        opcode_group = re.search('\\s\\s\\s[a-z][a-z]+\\s\\s\\s',line)\n",
        "        if opcode_group:\n",
        "            opcode = opcode_group.group().strip()\n",
        "            opcodes_lst.append(opcode)\n",
        "            pass\n",
        "            \n",
        "    return opcodes_lst, file2path"
      ],
      "execution_count": 0,
      "outputs": []
    },
    {
      "metadata": {
        "id": "BJynSdQASXiU",
        "colab_type": "code",
        "colab": {}
      },
      "cell_type": "code",
      "source": [
        "def extractInParallel(path_lst, threads=2):\n",
        "    p = Pool(threads)\n",
        "    opcodes_lst = []\n",
        "    file_lst = []\n",
        "    for opcode, file in tqdm((p.imap_unordered(getOpcodes, path_lst)), total=len(path_lst)):\n",
        "        opcodes_lst.append(opcode)\n",
        "        file_lst.append(file)\n",
        "        pass\n",
        "    p.close()\n",
        "    p.join()\n",
        "    return opcodes_lst, file_lst"
      ],
      "execution_count": 0,
      "outputs": []
    },
    {
      "metadata": {
        "id": "Mjoob3OodxvG",
        "colab_type": "code",
        "colab": {}
      },
      "cell_type": "code",
      "source": [
        "def process_targets(trainLabels, y):\n",
        "  \n",
        "    target_lst = []\n",
        "    for file in y:\n",
        "        f = file.split('/')[-1][:-4]\n",
        "        target_lst.append(int(trainLabels[trainLabels['Id'] == f]['Class']))\n",
        "          \n",
        "    return target_lst"
      ],
      "execution_count": 0,
      "outputs": []
    },
    {
      "metadata": {
        "id": "V7UsimCqRFCc",
        "colab_type": "code",
        "colab": {}
      },
      "cell_type": "code",
      "source": [
        "def extractFeatures(path2data, trainLabels, format_file = '*.asm'):\n",
        "  \n",
        "    for subdir, dirs, files in os.walk(path2data):\n",
        "          print('Reading files from dir: {}'.format(subdir))\n",
        "          path_folder = os.path.join(subdir, format_file)\n",
        "          filesPath = glob.glob(path_folder) \n",
        "          print('Extractig features from: {} files'.format(len(filesPath)))\n",
        "          opcodes_lst, file_lst =  extractInParallel(filesPath, threads=cpu_count)\n",
        "          \n",
        "          y = process_targets(trainLabels, file_lst)\n",
        "          print('\\nDone!')\n",
        "\n",
        "    return np.array(opcodes_lst), np.array(y)"
      ],
      "execution_count": 0,
      "outputs": []
    },
    {
      "metadata": {
        "id": "ecvC_iJ4DMIT",
        "colab_type": "code",
        "colab": {}
      },
      "cell_type": "code",
      "source": [
        "trainLabels = pd.read_csv('data/trainLabels.csv')"
      ],
      "execution_count": 0,
      "outputs": []
    },
    {
      "metadata": {
        "id": "xh1drG1bvzmd",
        "colab_type": "code",
        "colab": {
          "base_uri": "https://localhost:8080/",
          "height": 204
        },
        "outputId": "74458ab7-2ec3-4d26-aff5-d7c36146c0fd"
      },
      "cell_type": "code",
      "source": [
        "trainLabels.head()"
      ],
      "execution_count": 8,
      "outputs": [
        {
          "output_type": "execute_result",
          "data": {
            "text/html": [
              "<div>\n",
              "<style scoped>\n",
              "    .dataframe tbody tr th:only-of-type {\n",
              "        vertical-align: middle;\n",
              "    }\n",
              "\n",
              "    .dataframe tbody tr th {\n",
              "        vertical-align: top;\n",
              "    }\n",
              "\n",
              "    .dataframe thead th {\n",
              "        text-align: right;\n",
              "    }\n",
              "</style>\n",
              "<table border=\"1\" class=\"dataframe\">\n",
              "  <thead>\n",
              "    <tr style=\"text-align: right;\">\n",
              "      <th></th>\n",
              "      <th>Id</th>\n",
              "      <th>Class</th>\n",
              "    </tr>\n",
              "  </thead>\n",
              "  <tbody>\n",
              "    <tr>\n",
              "      <th>0</th>\n",
              "      <td>01kcPWA9K2BOxQeS5Rju</td>\n",
              "      <td>1</td>\n",
              "    </tr>\n",
              "    <tr>\n",
              "      <th>1</th>\n",
              "      <td>04EjIdbPV5e1XroFOpiN</td>\n",
              "      <td>1</td>\n",
              "    </tr>\n",
              "    <tr>\n",
              "      <th>2</th>\n",
              "      <td>05EeG39MTRrI6VY21DPd</td>\n",
              "      <td>1</td>\n",
              "    </tr>\n",
              "    <tr>\n",
              "      <th>3</th>\n",
              "      <td>05rJTUWYAKNegBk2wE8X</td>\n",
              "      <td>1</td>\n",
              "    </tr>\n",
              "    <tr>\n",
              "      <th>4</th>\n",
              "      <td>0AnoOZDNbPXIr2MRBSCJ</td>\n",
              "      <td>1</td>\n",
              "    </tr>\n",
              "  </tbody>\n",
              "</table>\n",
              "</div>"
            ],
            "text/plain": [
              "                     Id  Class\n",
              "0  01kcPWA9K2BOxQeS5Rju      1\n",
              "1  04EjIdbPV5e1XroFOpiN      1\n",
              "2  05EeG39MTRrI6VY21DPd      1\n",
              "3  05rJTUWYAKNegBk2wE8X      1\n",
              "4  0AnoOZDNbPXIr2MRBSCJ      1"
            ]
          },
          "metadata": {
            "tags": []
          },
          "execution_count": 8
        }
      ]
    },
    {
      "metadata": {
        "id": "o1lm7q7yUmIO",
        "colab_type": "code",
        "colab": {}
      },
      "cell_type": "code",
      "source": [
        "path2train = 'data/train'\n",
        "X, y = extractFeatures(path2train, trainLabels)"
      ],
      "execution_count": 0,
      "outputs": []
    },
    {
      "metadata": {
        "id": "l1vM47XTV7yT",
        "colab_type": "code",
        "colab": {}
      },
      "cell_type": "code",
      "source": [
        "print('X shape: {}'.format(X.shape))\n",
        "print('y shape: {}'.format(y.shape))"
      ],
      "execution_count": 0,
      "outputs": []
    },
    {
      "metadata": {
        "id": "ZHQsbeIybpeq",
        "colab_type": "text"
      },
      "cell_type": "markdown",
      "source": [
        "##  Dataset Analysis"
      ]
    },
    {
      "metadata": {
        "id": "jpCeXCexoNpr",
        "colab_type": "code",
        "colab": {}
      },
      "cell_type": "code",
      "source": [
        "import matplotlib.pyplot as plt"
      ],
      "execution_count": 0,
      "outputs": []
    },
    {
      "metadata": {
        "id": "Eud-pDN9n3ux",
        "colab_type": "code",
        "colab": {
          "base_uri": "https://localhost:8080/",
          "height": 382
        },
        "outputId": "34decfcf-3bde-494f-f48b-7dd61182e576"
      },
      "cell_type": "code",
      "source": [
        "trainLabels['Class'].value_counts().plot(kind = 'barh')\n",
        "plt.xlabel('#ocorrences', fontsize=14)"
      ],
      "execution_count": 10,
      "outputs": [
        {
          "output_type": "execute_result",
          "data": {
            "text/plain": [
              "Text(0.5,0,'#ocorrences')"
            ]
          },
          "metadata": {
            "tags": []
          },
          "execution_count": 10
        },
        {
          "output_type": "display_data",
          "data": {
            "image/png": "[encoded data removed]",
            "text/plain": [
              "<matplotlib.figure.Figure at 0x7fa135f17908>"
            ]
          },
          "metadata": {
            "tags": []
          }
        }
      ]
    },
    {
      "metadata": {
        "id": "xBoVaLxnqveu",
        "colab_type": "text"
      },
      "cell_type": "markdown",
      "source": [
        "## Split train and valid set"
      ]
    },
    {
      "metadata": {
        "id": "s_15aT2msXgp",
        "colab_type": "code",
        "colab": {}
      },
      "cell_type": "code",
      "source": [
        "from sklearn.model_selection import train_test_split"
      ],
      "execution_count": 0,
      "outputs": []
    },
    {
      "metadata": {
        "id": "52pwYcDxq6h7",
        "colab_type": "code",
        "colab": {
          "base_uri": "https://localhost:8080/",
          "height": 34
        },
        "outputId": "0b03cbf0-4cc9-403b-fd74-7db9cee95d2b"
      },
      "cell_type": "code",
      "source": [
        "test_size = 0.2\n",
        "print('Test size: {}'.format(test_size))\n",
        "X_train, X_valid, y_train, y_valid = train_test_split(X, y, test_size=test_size, random_state=42)"
      ],
      "execution_count": 66,
      "outputs": [
        {
          "output_type": "stream",
          "text": [
            "Test size: 0.2\n"
          ],
          "name": "stdout"
        }
      ]
    },
    {
      "metadata": {
        "id": "_QHjB_3Ys1O0",
        "colab_type": "code",
        "colab": {
          "base_uri": "https://localhost:8080/",
          "height": 85
        },
        "outputId": "94b0c7e4-32d1-463b-c522-593e632cbdfd"
      },
      "cell_type": "code",
      "source": [
        "print('X_train shape: {}'.format(X_train.shape))\n",
        "print('y_train shape: {}'.format(y_train.shape))\n",
        "\n",
        "print('X_valid shape: {}'.format(X_valid.shape))\n",
        "print('y_valid shape: {}'.format(y_valid.shape))"
      ],
      "execution_count": 67,
      "outputs": [
        {
          "output_type": "stream",
          "text": [
            "X_train shape: (101,)\n",
            "y_train shape: (101,)\n",
            "X_valid shape: (26,)\n",
            "y_valid shape: (26,)\n"
          ],
          "name": "stdout"
        }
      ]
    },
    {
      "metadata": {
        "id": "_7pE87gkp-yb",
        "colab_type": "text"
      },
      "cell_type": "markdown",
      "source": [
        "## Saving processed data"
      ]
    },
    {
      "metadata": {
        "id": "kD4j87erqAhu",
        "colab_type": "code",
        "colab": {}
      },
      "cell_type": "code",
      "source": [
        "def save_data(X, y, file, path2save):\n",
        "\n",
        "    os.makedirs(path2save)\n",
        "    \n",
        "    data ={'X':X, 'y':y}\n",
        "    np.savez(path2save + file + \".npz\",**data)\n",
        "\n",
        "    print('Saved in: {}'.format(path2save))  "
      ],
      "execution_count": 0,
      "outputs": []
    },
    {
      "metadata": {
        "id": "nxy9rid0seJo",
        "colab_type": "code",
        "colab": {
          "base_uri": "https://localhost:8080/",
          "height": 51
        },
        "outputId": "80220f40-b291-42a8-e72e-57fef6aa215c"
      },
      "cell_type": "code",
      "source": [
        "path2saveTrain = 'proc_data/train/'\n",
        "path2saveValid = 'proc_data/valid/'\n",
        "\n",
        "\n",
        "if not os.path.exists(path2saveTrain):\n",
        "    save_data(X_train, y_train,'opcodes', path2saveTrain)\n",
        "    save_data(X_valid, y_valid,'opcodes', path2saveValid)\n",
        "\n",
        "else:\n",
        "    print('Data already processed!')"
      ],
      "execution_count": 69,
      "outputs": [
        {
          "output_type": "stream",
          "text": [
            "Saved in: proc_data/train/\n",
            "Saved in: proc_data/valid/\n"
          ],
          "name": "stdout"
        }
      ]
    },
    {
      "metadata": {
        "id": "qYMaw8Q0kFjx",
        "colab_type": "text"
      },
      "cell_type": "markdown",
      "source": [
        "## N-grams"
      ]
    },
    {
      "metadata": {
        "id": "2kT-rT1DnOfs",
        "colab_type": "code",
        "colab": {}
      },
      "cell_type": "code",
      "source": [
        "from sklearn.feature_extraction.text import CountVectorizer\n",
        "from sklearn.feature_extraction.text import TfidfTransformer"
      ],
      "execution_count": 0,
      "outputs": []
    },
    {
      "metadata": {
        "id": "pKAvPsjKlJr5",
        "colab_type": "code",
        "colab": {
          "base_uri": "https://localhost:8080/",
          "height": 34
        },
        "outputId": "95f6d3a8-0df5-4eae-f2fb-6dfd4e918f36"
      },
      "cell_type": "code",
      "source": [
        "max_gram = 4\n",
        "print('Max_grams: {}'.format(max_gram))"
      ],
      "execution_count": 71,
      "outputs": [
        {
          "output_type": "stream",
          "text": [
            "Max_grams: 4\n"
          ],
          "name": "stdout"
        }
      ]
    },
    {
      "metadata": {
        "id": "gV-t7fS4zKtu",
        "colab_type": "code",
        "colab": {}
      },
      "cell_type": "code",
      "source": [
        "def get_n_grams(X, max_gram = 4):\n",
        "  \n",
        "\n",
        "    print('Counting ocorrences of words. Ngram-range: {}...'.format(str((1,max_gram))))\n",
        "    \n",
        "    vectorizer = CountVectorizer(analyzer = \"word\",\n",
        "                                 max_features = 300,\n",
        "                                 ngram_range=(1,max_gram)) \n",
        "    \n",
        "    features = vectorizer.fit_transform([\" \".join(x) for x in X])\n",
        "\n",
        "    #downscale weights for words using tf–idf: “Term Frequency times Inverse Document Frequency”.\n",
        "    print('Words downscaling using TF-IDF...')\n",
        "\n",
        "    tfidf_transformer = TfidfTransformer()\n",
        "    features = tfidf_transformer.fit_transform(features)\n",
        "    \n",
        "    features = features.toarray()\n",
        "    model_vectorized = vectorizer\n",
        "    model_tfidf = tfidf_transformer\n",
        "\n",
        "    return model_vectorized, model_tfidf, features"
      ],
      "execution_count": 0,
      "outputs": []
    },
    {
      "metadata": {
        "id": "3Opdrb82tk-d",
        "colab_type": "code",
        "colab": {
          "base_uri": "https://localhost:8080/",
          "height": 51
        },
        "outputId": "d6468b1f-70e5-4197-c123-c2a3ed5df61b"
      },
      "cell_type": "code",
      "source": [
        "model_vectorized, model_tfidf, f_train = get_n_grams(X_train)"
      ],
      "execution_count": 82,
      "outputs": [
        {
          "output_type": "stream",
          "text": [
            "Counting ocorrences of words. Ngram-range: (1, 4)...\n",
            "Words downscaling using TF-IDF...\n"
          ],
          "name": "stdout"
        }
      ]
    },
    {
      "metadata": {
        "id": "WEpXoHukiZJh",
        "colab_type": "code",
        "colab": {}
      },
      "cell_type": "code",
      "source": [
        "f_valid = model_vectorized.transform([\" \".join(x) for x in X_valid])\n",
        "f_valid = model_tfidf.transform(f_valid)\n",
        "f_valid = f_valid.toarray()"
      ],
      "execution_count": 0,
      "outputs": []
    },
    {
      "metadata": {
        "id": "EPJk0U_RjHqd",
        "colab_type": "code",
        "colab": {}
      },
      "cell_type": "code",
      "source": [
        "print('Train features shape: {}'.format(f_train.shape))\n",
        "print('Valid features shape: {}'.format(f_valid.shape))"
      ],
      "execution_count": 0,
      "outputs": []
    },
    {
      "metadata": {
        "id": "Dc4gptW2kWbl",
        "colab_type": "text"
      },
      "cell_type": "markdown",
      "source": [
        "# Train classification model"
      ]
    },
    {
      "metadata": {
        "id": "w2LFKtSuwir-",
        "colab_type": "text"
      },
      "cell_type": "markdown",
      "source": [
        "## Tree Ensemble"
      ]
    },
    {
      "metadata": {
        "id": "vUn615uIiRo0",
        "colab_type": "code",
        "colab": {}
      },
      "cell_type": "code",
      "source": [
        "from sklearn.ensemble import RandomForestClassifier"
      ],
      "execution_count": 0,
      "outputs": []
    },
    {
      "metadata": {
        "id": "U3b43qcriJEU",
        "colab_type": "code",
        "colab": {}
      },
      "cell_type": "code",
      "source": [
        "forest = RandomForestClassifier(n_estimators = 100) \n",
        "forest = forest.fit( f_train, y_train )"
      ],
      "execution_count": 0,
      "outputs": []
    },
    {
      "metadata": {
        "id": "F-VzXPwYitPB",
        "colab_type": "code",
        "colab": {}
      },
      "cell_type": "code",
      "source": [
        "predictions_forest = forest.predict(f_valid)"
      ],
      "execution_count": 0,
      "outputs": []
    },
    {
      "metadata": {
        "id": "L9I6g8_tzStG",
        "colab_type": "text"
      },
      "cell_type": "markdown",
      "source": [
        "## Boosting trees"
      ]
    },
    {
      "metadata": {
        "id": "2bgqEJA2GAJ0",
        "colab_type": "code",
        "colab": {}
      },
      "cell_type": "code",
      "source": [
        "import xgboost as xgb"
      ],
      "execution_count": 0,
      "outputs": []
    },
    {
      "metadata": {
        "id": "1sNsjGemzW5l",
        "colab_type": "code",
        "colab": {}
      },
      "cell_type": "code",
      "source": [
        "clf = xgb.XGBClassifier(max_depth=7,\n",
        "                        n_estimators=200,\n",
        "                        colsample_bytree=0.8, \n",
        "                        subsample=0.8,\n",
        "                        nthread=10,\n",
        "                        learning_rate=0.1)\n",
        "\n",
        "clf.fit(f_train, y_train)"
      ],
      "execution_count": 0,
      "outputs": []
    },
    {
      "metadata": {
        "id": "RS-AVk0iza94",
        "colab_type": "code",
        "colab": {}
      },
      "cell_type": "code",
      "source": [
        "predictions_xgboost = clf.predict_proba(f_valid)"
      ],
      "execution_count": 0,
      "outputs": []
    },
    {
      "metadata": {
        "id": "6vpKGzmtlIji",
        "colab_type": "text"
      },
      "cell_type": "markdown",
      "source": [
        "# Performance evaluation\n"
      ]
    },
    {
      "metadata": {
        "id": "kyWjTjnhlQmg",
        "colab_type": "code",
        "colab": {}
      },
      "cell_type": "code",
      "source": [
        "def confusion_matrix(result, y):\n",
        "\n",
        "    tagset = list(set(y))\n",
        "    output = np.zeros((len(tagset), len(tagset)), dtype=float)\n",
        "    \n",
        "    for predicted, real in zip(result, y):\n",
        "        output[tagset.index(predicted), tagset.index(real)] += 1\n",
        "\n",
        "    return output / output.sum(axis=1)[:, None]\n",
        "     "
      ],
      "execution_count": 0,
      "outputs": []
    },
    {
      "metadata": {
        "id": "-T6VDSVCnU9W",
        "colab_type": "code",
        "colab": {
          "base_uri": "https://localhost:8080/",
          "height": 51
        },
        "outputId": "92db2903-a136-480d-ebe1-d2ef5e995d73"
      },
      "cell_type": "code",
      "source": [
        "cm_forest = confusion_matrix(predictions_forest, y_train)\n",
        "cm_xboost = confusion_matrix(predictions_xgboost, y_train)"
      ],
      "execution_count": 120,
      "outputs": [
        {
          "output_type": "stream",
          "text": [
            "/usr/local/lib/python3.6/dist-packages/ipykernel_launcher.py:8: RuntimeWarning: invalid value encountered in true_divide\n",
            "  \n"
          ],
          "name": "stderr"
        }
      ]
    },
    {
      "metadata": {
        "id": "EGSTa71qqnC5",
        "colab_type": "code",
        "colab": {}
      },
      "cell_type": "code",
      "source": [
        "def evaluate_model(cm):\n",
        "\n",
        "    accuracy = np.trace(cm) / float(np.sum(cm))\n",
        "    misclass = 1 - accuracy\n",
        "\n",
        "    print('Accuracy: {}'.format(accuracy))\n",
        "    print('Misclass: {}\\n'.format(misclass))"
      ],
      "execution_count": 0,
      "outputs": []
    },
    {
      "metadata": {
        "id": "-p5rIjrkw2Fg",
        "colab_type": "code",
        "colab": {}
      },
      "cell_type": "code",
      "source": [
        "evaluate_model(cm_forest)\n",
        "evaluate_model(cm_xboost)\n"
      ],
      "execution_count": 0,
      "outputs": []
    },
    {
      "metadata": {
        "id": "wjxn5zien4jN",
        "colab_type": "code",
        "colab": {}
      },
      "cell_type": "code",
      "source": [
        "def plot_confusion_matrix(cm, title):\n",
        "\n",
        "    plt.imshow(cm, interpolation='nearest', cmap=None)\n",
        "    plt.title(title, fontsize=20)\n",
        "    plt.colorbar()\n",
        "\n",
        "    plt.ylabel('True label')\n",
        "    plt.xlabel('Predicted label')"
      ],
      "execution_count": 0,
      "outputs": []
    },
    {
      "metadata": {
        "id": "iaxDK_iYqIY8",
        "colab_type": "code",
        "colab": {}
      },
      "cell_type": "code",
      "source": [
        "plt.figure(figsize=(20,5))\n",
        "plt.subplot(1,2,1)\n",
        "plot_confusion_matrix(cm, 'Confusion matrix trainig set (RF)')\n",
        "\n",
        "plt.subplot(1,2,1)\n",
        "plot_confusion_matrix(cm, 'Confusion matrix trainig set (XgBoost)')"
      ],
      "execution_count": 0,
      "outputs": []
    },
    {
      "metadata": {
        "id": "wnxqV_mXqfSr",
        "colab_type": "code",
        "colab": {}
      },
      "cell_type": "code",
      "source": [
        ""
      ],
      "execution_count": 0,
      "outputs": []
    }
  ]
}