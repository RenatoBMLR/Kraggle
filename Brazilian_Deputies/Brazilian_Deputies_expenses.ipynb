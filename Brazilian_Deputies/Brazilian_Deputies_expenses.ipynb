{
  "cells": [
    {
      "metadata": {
        "_uuid": "34d1463f1362d8157445f667bda03cf73458cd46"
      },
      "cell_type": "markdown",
      "source": "**Brazil's House of Deputies Reimbursements**\n\nThis notebook, makes an analysis of the  Brazilian deputies expenses from 2013 to 2017."
    },
    {
      "metadata": {
        "_uuid": "af5498385cafe5d09be16522b0ff420bda660950"
      },
      "cell_type": "markdown",
      "source": "![](http://www.vermelho.org.br/admin/arquivos/biblioteca/cd99755.jpg)"
    },
    {
      "metadata": {
        "trusted": true,
        "_uuid": "883506a72e11fdc67365e9ce70c05eacce70bf52",
        "_kg_hide-output": true
      },
      "cell_type": "code",
      "source": "import pandas as pd\n\nimport plotly\nimport plotly.plotly as py\nimport plotly.graph_objs as go\nfrom plotly.offline import init_notebook_mode, iplot\nfrom plotly import tools\n\ninit_notebook_mode(connected=True)",
      "execution_count": null,
      "outputs": []
    },
    {
      "metadata": {
        "_uuid": "764895dca4474a61a692168d8d44995e2fa683ab"
      },
      "cell_type": "markdown",
      "source": "**Load Data**"
    },
    {
      "metadata": {
        "trusted": true,
        "_uuid": "8bdc882b017f4f16ed6b85d90296c9e73dd4fc64"
      },
      "cell_type": "code",
      "source": "path2data = '../input/'",
      "execution_count": null,
      "outputs": []
    },
    {
      "metadata": {
        "trusted": true,
        "_uuid": "8b4a789c50948c70cfb44906c92c622f3623c223"
      },
      "cell_type": "code",
      "source": "df_politicians = pd.read_csv(path2data + 'deputies_dataset.csv', low_memory=False)\ndf_dirty_politicians = pd.read_csv(path2data + 'dirty_deputies_v2.csv', low_memory=False)",
      "execution_count": null,
      "outputs": []
    },
    {
      "metadata": {
        "trusted": true,
        "_uuid": "bcf5ff55626e67beb16a8096ce82b0bd0996736e"
      },
      "cell_type": "code",
      "source": "print('Dataset shape: {}'.format(df_politicians.shape))",
      "execution_count": null,
      "outputs": []
    },
    {
      "metadata": {
        "trusted": true,
        "_uuid": "2f4bba82b462d45f373647fb23b39fdde765b6c4",
        "_kg_hide-output": false,
        "_kg_hide-input": true
      },
      "cell_type": "code",
      "source": "df_politicians['receipt_date'] = pd.to_datetime(df_politicians['receipt_date'])\ndf_politicians['month'] = df_politicians['receipt_date'].dt.month\ndf_politicians['year'] = df_politicians['receipt_date'].dt.year\ndf_politicians['day'] = df_politicians['receipt_date'].dt.day",
      "execution_count": null,
      "outputs": []
    },
    {
      "metadata": {
        "trusted": true,
        "_uuid": "976884c600e9acbb40aa20b271b67bc7460ef1c3"
      },
      "cell_type": "code",
      "source": "df_politicians.head()",
      "execution_count": null,
      "outputs": []
    },
    {
      "metadata": {
        "trusted": true,
        "_uuid": "562a82f7ddf23a81617c46c0fa0ad61d8905a119"
      },
      "cell_type": "code",
      "source": "# get data from 2013 to 2017\ndf_politicians = df_politicians[ (df_politicians['year']>=2013) &  (df_politicians['year']<=2017)]",
      "execution_count": null,
      "outputs": []
    },
    {
      "metadata": {
        "trusted": true,
        "_uuid": "b4acdc3adb04f8d09c6cc1c0d1c390313d7b1fbb",
        "_kg_hide-output": false,
        "_kg_hide-input": true
      },
      "cell_type": "code",
      "source": "df_dirty_politicians['receipt_date'] = pd.to_datetime(df_dirty_politicians['refund_date'])\ndf_dirty_politicians['month'] = df_dirty_politicians['receipt_date'].dt.month\ndf_dirty_politicians['year'] = df_dirty_politicians['receipt_date'].dt.year\ndf_dirty_politicians['day'] = df_dirty_politicians['receipt_date'].dt.day",
      "execution_count": null,
      "outputs": []
    },
    {
      "metadata": {
        "trusted": true,
        "_uuid": "5f74ab0d3107070c6033ce6ee92d6f84e97ff31b"
      },
      "cell_type": "code",
      "source": "df_dirty_politicians.head()",
      "execution_count": null,
      "outputs": []
    },
    {
      "metadata": {
        "_uuid": "edac1ce5d076a3810da271865c46774495bb278c"
      },
      "cell_type": "markdown",
      "source": "**Exploratory Data Analysis**"
    },
    {
      "metadata": {
        "_uuid": "8e0d838cfb761ca507de5dc22d16c75db49bb840"
      },
      "cell_type": "markdown",
      "source": "**Receipt values by deputies of each state and Political**\n\nAs can be seen from the chart below, most of the expenses are from deputies from the state of Sao Paulo. With regard to the political party, the one that had the highest expenses in the analyzed period was the PT (146M)."
    },
    {
      "metadata": {
        "trusted": true,
        "_uuid": "b0b5fd7e055b00b1cf86e8f5ba697617751eda63",
        "_kg_hide-output": false,
        "_kg_hide-input": true
      },
      "cell_type": "code",
      "source": "trace1 = go.Bar(\n            x=df_politicians.groupby(['state_code'])['receipt_value'].sum().sort_values(ascending=True).values,\n            y=df_politicians.groupby(['state_code'])['receipt_value'].sum().sort_values(ascending=True).index,\n            orientation = 'h'\n)\n\ntrace2 = go.Bar(\n            x=df_politicians.groupby(['political_party'])['receipt_value'].sum().sort_values(ascending=True).values,\n            y=df_politicians.groupby(['political_party'])['receipt_value'].sum().sort_values(ascending=True).index,\n            orientation = 'h'\n)\n\nfig = tools.make_subplots(rows=1, cols=2)\n\nfig.append_trace(trace1, 1, 1)\nfig.append_trace(trace2, 1, 2)\n\nfig['layout'].update(height=600, width=1000, title='Receipt Value counter')\niplot(fig, filename='simple-subplot-with-annotations')",
      "execution_count": null,
      "outputs": []
    },
    {
      "metadata": {
        "trusted": true,
        "_uuid": "7756df3a7eb4427de13a56bddf3153701254c965"
      },
      "cell_type": "code",
      "source": "df_politicians.groupby(['deputy_name', 'political_party'])['receipt_value'].sum().sort_values(ascending=True)[-10:]",
      "execution_count": null,
      "outputs": []
    },
    {
      "metadata": {
        "_uuid": "6b6754e793d10e0825124d7dfd99766a95378b80"
      },
      "cell_type": "markdown",
      "source": "# Individual analysis"
    },
    {
      "metadata": {
        "trusted": true,
        "_uuid": "69a06afd7a7cb55bc5246c7ddf217a76fb83c444"
      },
      "cell_type": "code",
      "source": "deputy_name = 'Felipe Bornier' # change here to analyze other deputy",
      "execution_count": null,
      "outputs": []
    },
    {
      "metadata": {
        "trusted": true,
        "_uuid": "7c8e5a91de487f6faa0589c7650abc72ae408591"
      },
      "cell_type": "code",
      "source": "deputy_data = df_politicians[df_politicians['deputy_name'] == deputy_name]",
      "execution_count": null,
      "outputs": []
    },
    {
      "metadata": {
        "trusted": true,
        "_uuid": "9ca784bdcd717a8ed62f9638501eedece037bd48"
      },
      "cell_type": "code",
      "source": "deputy_data.head()",
      "execution_count": null,
      "outputs": []
    },
    {
      "metadata": {
        "_uuid": "21c407dedf5d768250b61d0ed2ca7f1fd0aa947d"
      },
      "cell_type": "markdown",
      "source": "**Trajectory of receipt value in each month**\n\nAs can be seen, December is the month in which the number of expenses is higher"
    },
    {
      "metadata": {
        "trusted": true,
        "_uuid": "9d792256054e2a6726728aa3e5dd2c494b63cc33"
      },
      "cell_type": "code",
      "source": "receipt_value_month_year = deputy_data.groupby(['year','month'])['receipt_value'].sum().to_frame().unstack(level=-1)\nreceipt_value_month_year.columns = receipt_value_month_year.columns.droplevel(0)",
      "execution_count": null,
      "outputs": []
    },
    {
      "metadata": {
        "trusted": true,
        "_uuid": "7a7b71add62cb1dc4622a05fdffeea2d16d2f2d7"
      },
      "cell_type": "code",
      "source": "receipt_value_month_year.head()",
      "execution_count": null,
      "outputs": []
    },
    {
      "metadata": {
        "trusted": true,
        "_uuid": "2464195212f185e0d7cb32ecb64880ab8eee6ef8",
        "_kg_hide-output": false,
        "_kg_hide-input": true
      },
      "cell_type": "code",
      "source": "data = []\nyears = receipt_value_month_year.index\n\nfor idx in range(0, len(years)):\n\n    trace = go.Bar(\n        x=receipt_value_month_year.iloc[0].index,\n        y=receipt_value_month_year.iloc[idx],\n        name=str(years[idx])\n    )\n    data.append(trace)\n    \nlayout = go.Layout(\n    barmode='group'\n)\n\nfig = go.Figure(data=data, layout=layout)\nfig['layout'].update(height=600, width=1000, title='Receipt Value in each month')\niplot(fig, filename='grouped-bar')",
      "execution_count": null,
      "outputs": []
    },
    {
      "metadata": {
        "trusted": true,
        "_uuid": "52c0262474c9696a44fcc8f0fd40d03aa6d5b1be"
      },
      "cell_type": "code",
      "source": "deputy_data['receipt_description'].unique()",
      "execution_count": null,
      "outputs": []
    },
    {
      "metadata": {
        "_uuid": "ba0d3493c5c4986f39787f606441e6ba8e443f2e"
      },
      "cell_type": "markdown",
      "source": "**Distribution of paid services**\n\n"
    },
    {
      "metadata": {
        "trusted": true,
        "_uuid": "d7380c11ae1a1895c0327e772c0c1f9650ff59a2",
        "_kg_hide-output": false,
        "_kg_hide-input": true
      },
      "cell_type": "code",
      "source": "labels = deputy_data.groupby(['receipt_description'])['receipt_value'].sum().index\nvalues = deputy_data.groupby(['receipt_description'])['receipt_value'].sum().values\n\ntrace = go.Pie(labels=labels, values=values)\niplot([trace], filename='basic_pie_chart')",
      "execution_count": null,
      "outputs": []
    },
    {
      "metadata": {
        "_uuid": "ab897eec78d7b051fb5072858c4c19a4a6242a1f"
      },
      "cell_type": "markdown",
      "source": "# Airline Tickets"
    },
    {
      "metadata": {
        "trusted": true,
        "_uuid": "3898e54e60d2c9119b805a265aada43eb5b8bb34"
      },
      "cell_type": "code",
      "source": "deputy_data[deputy_data['receipt_description'] == 'Airline tickets'].groupby(['establishment_name'])['receipt_value'].sum().sort_values(ascending=False)",
      "execution_count": null,
      "outputs": []
    },
    {
      "metadata": {
        "trusted": true,
        "_uuid": "914f3cdf65fe4b687386db3a654977160550eef8"
      },
      "cell_type": "code",
      "source": "deputy_airline_df = deputy_data[deputy_data['receipt_description'] == 'Airline tickets']",
      "execution_count": null,
      "outputs": []
    },
    {
      "metadata": {
        "trusted": true,
        "_uuid": "b560324969b94090ee1a6826c38aae6424c2eaea",
        "_kg_hide-output": false,
        "_kg_hide-input": true
      },
      "cell_type": "code",
      "source": "data = [go.Scatter(\n          x=deputy_airline_df['receipt_date'],\n          y=deputy_airline_df['receipt_value'],\n          mode = 'markers'\n    )]\n\niplot(data)",
      "execution_count": null,
      "outputs": []
    },
    {
      "metadata": {
        "_uuid": "4c851bb15d3898dc10909030cdc65de6c1fb2415"
      },
      "cell_type": "markdown",
      "source": "# Number of trips by day\n\nAs can be seen below, there are deputies who have made many trips in just one day."
    },
    {
      "metadata": {
        "trusted": true,
        "_uuid": "88d77e3603ae2806ec76076cbe8bce8048229906"
      },
      "cell_type": "code",
      "source": "nb_trips = deputy_airline_df.groupby(['receipt_date'])['receipt_date'].count().sort_values(ascending=False)",
      "execution_count": null,
      "outputs": []
    },
    {
      "metadata": {
        "trusted": true,
        "_uuid": "bb62fcd18973b8f3aae1a955f295f68e0baa3612"
      },
      "cell_type": "code",
      "source": "nb_trips.head(10)",
      "execution_count": null,
      "outputs": []
    },
    {
      "metadata": {
        "trusted": true,
        "_uuid": "9660cc84c3275714d132417a6db4ec9fca9ffa0e"
      },
      "cell_type": "code",
      "source": "deputy_airline_df[deputy_airline_df['receipt_date'] == nb_trips.index[0]]",
      "execution_count": null,
      "outputs": []
    },
    {
      "metadata": {
        "_uuid": "b5a7d8e5506ee47a41b9d3fcbf7d5e6d32eb410b"
      },
      "cell_type": "markdown",
      "source": "# Postal Services"
    },
    {
      "metadata": {
        "trusted": true,
        "_uuid": "53a5aff502d2f2bc7ebfb9216e3314179ab81783"
      },
      "cell_type": "code",
      "source": "aux = deputy_data[deputy_data['receipt_description'] == 'Postal Services'].groupby(['establishment_name'])['receipt_value'].sum().to_frame()\naux.sort_values('receipt_value', ascending=False, inplace=True)",
      "execution_count": null,
      "outputs": []
    },
    {
      "metadata": {
        "trusted": true,
        "_uuid": "0b7fad5d6d89a0b3203d321c88ba376ec0c073c0"
      },
      "cell_type": "code",
      "source": "aux",
      "execution_count": null,
      "outputs": []
    },
    {
      "metadata": {
        "trusted": true,
        "_uuid": "0e5c15a102792fc1cffbff293ca429c6d0abcb7a"
      },
      "cell_type": "code",
      "source": "types_of_postal_services = deputy_data[deputy_data['receipt_description'] == 'Postal Services']['establishment_name'].unique()",
      "execution_count": null,
      "outputs": []
    },
    {
      "metadata": {
        "trusted": true,
        "_uuid": "4ccbe3c3ca32a3ee688f8ffb628220ebe6a7ba48"
      },
      "cell_type": "code",
      "source": "print('Types of postal services: {}'.format(len(types_of_postal_services)))",
      "execution_count": null,
      "outputs": []
    },
    {
      "metadata": {
        "trusted": true,
        "_uuid": "4c07023faeaffff7dc5e36a0fb6fb4f633cab4ed",
        "_kg_hide-output": false,
        "_kg_hide-input": true
      },
      "cell_type": "code",
      "source": "data = []\nfor ps in types_of_postal_services:\n\n    aux = deputy_data[(deputy_data['receipt_description'] == 'Postal Services') & (deputy_data['establishment_name'] == ps)]\n    trace = go.Box(\n        x=aux['receipt_value'].values,\n        name = ps\n    )\n    \n    data.append(trace)\n\nlayout = go.Layout(\n    width=800,\n    yaxis=dict(\n        zeroline=False\n    ),\n)\n\nfig = go.Figure(data=data, layout=layout)\niplot(fig)",
      "execution_count": null,
      "outputs": []
    },
    {
      "metadata": {
        "_uuid": "58015fbfe6fb91394e89163beaa08c338318b3ad"
      },
      "cell_type": "markdown",
      "source": "# Dissemination of the Parliamentary Activity."
    },
    {
      "metadata": {
        "trusted": true,
        "_uuid": "34ab6033d57a091bbd1716988c44a8dabec98ff6"
      },
      "cell_type": "code",
      "source": "dpa = deputy_data[deputy_data['receipt_description'] == 'Dissemination of the Parliamentary Activity.'].groupby(['establishment_name', 'year'])['receipt_value'].sum().to_frame().unstack(level=-1)\ndpa.columns = dpa.columns.droplevel(0)",
      "execution_count": null,
      "outputs": []
    },
    {
      "metadata": {
        "trusted": true,
        "_uuid": "bfec821e0e449f0235387eec25ac564b7e224fd6"
      },
      "cell_type": "code",
      "source": "dpa",
      "execution_count": null,
      "outputs": []
    },
    {
      "metadata": {
        "trusted": true,
        "_uuid": "40686108dd3e9d7c4b112fe108faf38417780d8f"
      },
      "cell_type": "code",
      "source": "",
      "execution_count": null,
      "outputs": []
    },
    {
      "metadata": {
        "trusted": true,
        "_uuid": "a479715b16109d52485be6e8aefb8123e14ef157"
      },
      "cell_type": "code",
      "source": "",
      "execution_count": null,
      "outputs": []
    }
  ],
  "metadata": {
    "kernelspec": {
      "display_name": "Python 3",
      "language": "python",
      "name": "python3"
    },
    "language_info": {
      "name": "python",
      "version": "3.6.6",
      "mimetype": "text/x-python",
      "codemirror_mode": {
        "name": "ipython",
        "version": 3
      },
      "pygments_lexer": "ipython3",
      "nbconvert_exporter": "python",
      "file_extension": ".py"
    }
  },
  "nbformat": 4,
  "nbformat_minor": 1
}