{
  "nbformat": 4,
  "nbformat_minor": 0,
  "metadata": {
    "colab": {
      "name": "santander_value_prediction.ipynb",
      "version": "0.3.2",
      "provenance": [],
      "collapsed_sections": []
    },
    "kernelspec": {
      "display_name": "Python 3",
      "language": "python",
      "name": "python3"
    }
  },
  "cells": [
    {
      "metadata": {
        "id": "K6o5N0YGIcvP",
        "colab_type": "code",
        "colab": {}
      },
      "cell_type": "code",
      "source": [
        "import os\n",
        "import re\n",
        "import glob\n",
        "import datetime\n",
        "import math\n",
        "\n",
        "import numpy as np\n",
        "import pandas as pd\n",
        "import matplotlib.pyplot as plt\n",
        "import seaborn as sns \n",
        "\n",
        "import multiprocessing\n",
        "from multiprocessing.dummy import Pool\n",
        "\n",
        "from sklearn.model_selection import train_test_split\n",
        "from sklearn.preprocessing import MinMaxScaler, StandardScaler\n",
        "from sklearn.metrics import mean_squared_error as mse\n",
        "from sklearn.metrics import mean_absolute_error as mae\n",
        "\n",
        "import xgboost as xgb"
      ],
      "execution_count": 0,
      "outputs": []
    },
    {
      "metadata": {
        "id": "ZTY4vDHXIcva",
        "colab_type": "code",
        "colab": {
          "base_uri": "https://localhost:8080/",
          "height": 34
        },
        "outputId": "89d7f2d1-06cd-411c-80f6-cb7ee78f8c5e"
      },
      "cell_type": "code",
      "source": [
        "cpu_count  = 2*multiprocessing.cpu_count()-1\n",
        "print('Number of CPUs: {}'.format(cpu_count))"
      ],
      "execution_count": 20,
      "outputs": [
        {
          "output_type": "stream",
          "text": [
            "Number of CPUs: 3\n"
          ],
          "name": "stdout"
        }
      ]
    },
    {
      "metadata": {
        "id": "HrOTf1iKIcvi",
        "colab_type": "code",
        "colab": {}
      },
      "cell_type": "code",
      "source": [
        "seed=42\n",
        "np.random.seed(seed)"
      ],
      "execution_count": 0,
      "outputs": []
    },
    {
      "metadata": {
        "id": "0Jf3S6umInRH",
        "colab_type": "text"
      },
      "cell_type": "markdown",
      "source": [
        "# Download Dataset"
      ]
    },
    {
      "metadata": {
        "id": "54XIvIe7IhqO",
        "colab_type": "code",
        "colab": {
          "base_uri": "https://localhost:8080/",
          "height": 51
        },
        "outputId": "4da3e828-c881-4499-8ede-43385b581004"
      },
      "cell_type": "code",
      "source": [
        "use_colab = True\n",
        "print('Using Google Colab: {}'.format(use_colab))\n",
        "\n",
        "if use_colab:\n",
        "\n",
        "    from googleapiclient.discovery import build\n",
        "    import io, os\n",
        "    from googleapiclient.http import MediaIoBaseDownload\n",
        "    from google.colab import auth\n",
        "\n",
        "    if not os.path.exists('../input/'):\n",
        "\n",
        "        auth.authenticate_user()\n",
        "\n",
        "        drive_service = build('drive', 'v3')\n",
        "        results = drive_service.files().list(\n",
        "                q=\"name = 'kaggle.json'\", fields=\"files(id)\").execute()\n",
        "        kaggle_api_key = results.get('files', [])\n",
        "\n",
        "        filename = \"/content/.kaggle/kaggle.json\"\n",
        "        os.makedirs(os.path.dirname(filename), exist_ok=True)\n",
        "\n",
        "        request = drive_service.files().get_media(fileId=kaggle_api_key[0]['id'])\n",
        "        fh = io.FileIO(filename, 'wb')\n",
        "        downloader = MediaIoBaseDownload(fh, request)\n",
        "        done = False\n",
        "        while done is False:\n",
        "            status, done = downloader.next_chunk()\n",
        "            print(\"Download %d%%.\" % int(status.progress() * 100))\n",
        "        os.chmod(filename, 600)\n",
        "\n",
        "        !pip install kaggle\n",
        "        !kaggle competitions download -c santander-value-prediction-challenge -p ../input/\n",
        "        !cd ../input && unzip sample_submission.csv.zip && unzip test.csv.zip && unzip train.csv.zip\n",
        "\n",
        "    else:\n",
        "        print('Dataset already downloaded!')"
      ],
      "execution_count": 73,
      "outputs": [
        {
          "output_type": "stream",
          "text": [
            "Using Google Colab: True\n",
            "Dataset already downloaded!\n"
          ],
          "name": "stdout"
        }
      ]
    },
    {
      "metadata": {
        "id": "2bwl19hnIcvq",
        "colab_type": "code",
        "colab": {}
      },
      "cell_type": "code",
      "source": [
        "path2train = '../input/train.csv'\n",
        "path2test = '../input/test.csv'"
      ],
      "execution_count": 0,
      "outputs": []
    },
    {
      "metadata": {
        "id": "g070A9BZIcvv",
        "colab_type": "code",
        "colab": {}
      },
      "cell_type": "code",
      "source": [
        "df_train = pd.read_csv(path2train)\n",
        "df_test = pd.read_csv(path2test)\n",
        "\n",
        "y = np.log1p(df_train['target'].values)\n",
        "X = df_train[df_train.columns.drop(['ID','target'])].values\n",
        "\n",
        "IdTest = df_test['ID'].values\n",
        "X_test = df_test[df_test.columns.drop(['ID'])].values"
      ],
      "execution_count": 0,
      "outputs": []
    },
    {
      "metadata": {
        "id": "OhHEHk6gIcv3",
        "colab_type": "code",
        "colab": {
          "base_uri": "https://localhost:8080/",
          "height": 273
        },
        "outputId": "dca8616f-c233-499a-ca87-e0471212c7dc"
      },
      "cell_type": "code",
      "source": [
        "df_train.head()"
      ],
      "execution_count": 25,
      "outputs": [
        {
          "output_type": "execute_result",
          "data": {
            "text/html": [
              "<div>\n",
              "<style scoped>\n",
              "    .dataframe tbody tr th:only-of-type {\n",
              "        vertical-align: middle;\n",
              "    }\n",
              "\n",
              "    .dataframe tbody tr th {\n",
              "        vertical-align: top;\n",
              "    }\n",
              "\n",
              "    .dataframe thead th {\n",
              "        text-align: right;\n",
              "    }\n",
              "</style>\n",
              "<table border=\"1\" class=\"dataframe\">\n",
              "  <thead>\n",
              "    <tr style=\"text-align: right;\">\n",
              "      <th></th>\n",
              "      <th>ID</th>\n",
              "      <th>target</th>\n",
              "      <th>48df886f9</th>\n",
              "      <th>0deb4b6a8</th>\n",
              "      <th>34b15f335</th>\n",
              "      <th>a8cb14b00</th>\n",
              "      <th>2f0771a37</th>\n",
              "      <th>30347e683</th>\n",
              "      <th>d08d1fbe3</th>\n",
              "      <th>6ee66e115</th>\n",
              "      <th>...</th>\n",
              "      <th>3ecc09859</th>\n",
              "      <th>9281abeea</th>\n",
              "      <th>8675bec0b</th>\n",
              "      <th>3a13ed79a</th>\n",
              "      <th>f677d4d13</th>\n",
              "      <th>71b203550</th>\n",
              "      <th>137efaa80</th>\n",
              "      <th>fb36b89d9</th>\n",
              "      <th>7e293fbaf</th>\n",
              "      <th>9fc776466</th>\n",
              "    </tr>\n",
              "  </thead>\n",
              "  <tbody>\n",
              "    <tr>\n",
              "      <th>0</th>\n",
              "      <td>000d6aaf2</td>\n",
              "      <td>38000000.0</td>\n",
              "      <td>0.0</td>\n",
              "      <td>0</td>\n",
              "      <td>0.0</td>\n",
              "      <td>0</td>\n",
              "      <td>0</td>\n",
              "      <td>0</td>\n",
              "      <td>0</td>\n",
              "      <td>0</td>\n",
              "      <td>...</td>\n",
              "      <td>0.0</td>\n",
              "      <td>0.0</td>\n",
              "      <td>0.0</td>\n",
              "      <td>0</td>\n",
              "      <td>0</td>\n",
              "      <td>0</td>\n",
              "      <td>0</td>\n",
              "      <td>0</td>\n",
              "      <td>0</td>\n",
              "      <td>0</td>\n",
              "    </tr>\n",
              "    <tr>\n",
              "      <th>1</th>\n",
              "      <td>000fbd867</td>\n",
              "      <td>600000.0</td>\n",
              "      <td>0.0</td>\n",
              "      <td>0</td>\n",
              "      <td>0.0</td>\n",
              "      <td>0</td>\n",
              "      <td>0</td>\n",
              "      <td>0</td>\n",
              "      <td>0</td>\n",
              "      <td>0</td>\n",
              "      <td>...</td>\n",
              "      <td>0.0</td>\n",
              "      <td>0.0</td>\n",
              "      <td>0.0</td>\n",
              "      <td>0</td>\n",
              "      <td>0</td>\n",
              "      <td>0</td>\n",
              "      <td>0</td>\n",
              "      <td>0</td>\n",
              "      <td>0</td>\n",
              "      <td>0</td>\n",
              "    </tr>\n",
              "    <tr>\n",
              "      <th>2</th>\n",
              "      <td>0027d6b71</td>\n",
              "      <td>10000000.0</td>\n",
              "      <td>0.0</td>\n",
              "      <td>0</td>\n",
              "      <td>0.0</td>\n",
              "      <td>0</td>\n",
              "      <td>0</td>\n",
              "      <td>0</td>\n",
              "      <td>0</td>\n",
              "      <td>0</td>\n",
              "      <td>...</td>\n",
              "      <td>0.0</td>\n",
              "      <td>0.0</td>\n",
              "      <td>0.0</td>\n",
              "      <td>0</td>\n",
              "      <td>0</td>\n",
              "      <td>0</td>\n",
              "      <td>0</td>\n",
              "      <td>0</td>\n",
              "      <td>0</td>\n",
              "      <td>0</td>\n",
              "    </tr>\n",
              "    <tr>\n",
              "      <th>3</th>\n",
              "      <td>0028cbf45</td>\n",
              "      <td>2000000.0</td>\n",
              "      <td>0.0</td>\n",
              "      <td>0</td>\n",
              "      <td>0.0</td>\n",
              "      <td>0</td>\n",
              "      <td>0</td>\n",
              "      <td>0</td>\n",
              "      <td>0</td>\n",
              "      <td>0</td>\n",
              "      <td>...</td>\n",
              "      <td>0.0</td>\n",
              "      <td>0.0</td>\n",
              "      <td>0.0</td>\n",
              "      <td>0</td>\n",
              "      <td>0</td>\n",
              "      <td>0</td>\n",
              "      <td>0</td>\n",
              "      <td>0</td>\n",
              "      <td>0</td>\n",
              "      <td>0</td>\n",
              "    </tr>\n",
              "    <tr>\n",
              "      <th>4</th>\n",
              "      <td>002a68644</td>\n",
              "      <td>14400000.0</td>\n",
              "      <td>0.0</td>\n",
              "      <td>0</td>\n",
              "      <td>0.0</td>\n",
              "      <td>0</td>\n",
              "      <td>0</td>\n",
              "      <td>0</td>\n",
              "      <td>0</td>\n",
              "      <td>0</td>\n",
              "      <td>...</td>\n",
              "      <td>0.0</td>\n",
              "      <td>0.0</td>\n",
              "      <td>0.0</td>\n",
              "      <td>0</td>\n",
              "      <td>0</td>\n",
              "      <td>0</td>\n",
              "      <td>0</td>\n",
              "      <td>0</td>\n",
              "      <td>0</td>\n",
              "      <td>0</td>\n",
              "    </tr>\n",
              "  </tbody>\n",
              "</table>\n",
              "<p>5 rows × 4993 columns</p>\n",
              "</div>"
            ],
            "text/plain": [
              "          ID      target  48df886f9  0deb4b6a8  34b15f335  a8cb14b00  \\\n",
              "0  000d6aaf2  38000000.0        0.0          0        0.0          0   \n",
              "1  000fbd867    600000.0        0.0          0        0.0          0   \n",
              "2  0027d6b71  10000000.0        0.0          0        0.0          0   \n",
              "3  0028cbf45   2000000.0        0.0          0        0.0          0   \n",
              "4  002a68644  14400000.0        0.0          0        0.0          0   \n",
              "\n",
              "   2f0771a37  30347e683  d08d1fbe3  6ee66e115    ...      3ecc09859  \\\n",
              "0          0          0          0          0    ...            0.0   \n",
              "1          0          0          0          0    ...            0.0   \n",
              "2          0          0          0          0    ...            0.0   \n",
              "3          0          0          0          0    ...            0.0   \n",
              "4          0          0          0          0    ...            0.0   \n",
              "\n",
              "   9281abeea  8675bec0b  3a13ed79a  f677d4d13  71b203550  137efaa80  \\\n",
              "0        0.0        0.0          0          0          0          0   \n",
              "1        0.0        0.0          0          0          0          0   \n",
              "2        0.0        0.0          0          0          0          0   \n",
              "3        0.0        0.0          0          0          0          0   \n",
              "4        0.0        0.0          0          0          0          0   \n",
              "\n",
              "   fb36b89d9  7e293fbaf  9fc776466  \n",
              "0          0          0          0  \n",
              "1          0          0          0  \n",
              "2          0          0          0  \n",
              "3          0          0          0  \n",
              "4          0          0          0  \n",
              "\n",
              "[5 rows x 4993 columns]"
            ]
          },
          "metadata": {
            "tags": []
          },
          "execution_count": 25
        }
      ]
    },
    {
      "metadata": {
        "id": "Ub-CGl9eIcv9",
        "colab_type": "code",
        "colab": {
          "base_uri": "https://localhost:8080/",
          "height": 465
        },
        "outputId": "d0b3e794-8c8c-4eeb-e2c0-d313a590e5b5"
      },
      "cell_type": "code",
      "source": [
        "fig = plt.figure(figsize=(20,6))\n",
        "plt.subplot(1,2,1)\n",
        "sns.distplot(df_train['target'].values)\n",
        "plt.title('T', fontsize=20)\n",
        "plt.subplot(1,2,2)\n",
        "sns.distplot(y)\n",
        "plt.title('log(1 + T)', fontsize=20)"
      ],
      "execution_count": 26,
      "outputs": [
        {
          "output_type": "execute_result",
          "data": {
            "text/plain": [
              "Text(0.5,1,'log(1 + T)')"
            ]
          },
          "metadata": {
            "tags": []
          },
          "execution_count": 26
        },
        {
          "output_type": "display_data",
          "data": {
            "image/png": "[encoded data removed]",
            "text/plain": [
              "<matplotlib.figure.Figure at 0x7fee80078358>"
            ]
          },
          "metadata": {
            "tags": []
          }
        }
      ]
    },
    {
      "metadata": {
        "id": "PgfRKirQbME7",
        "colab_type": "code",
        "colab": {}
      },
      "cell_type": "code",
      "source": [
        "def data_corr(data):\n",
        "    fig = plt.figure(figsize=(10,8))\n",
        "    correlation = data.corr()\n",
        "    sns.heatmap(correlation, annot=False, cbar=True, cmap=\"RdYlGn\")"
      ],
      "execution_count": 0,
      "outputs": []
    },
    {
      "metadata": {
        "id": "bIyzhmrebNpO",
        "colab_type": "code",
        "colab": {}
      },
      "cell_type": "code",
      "source": [
        "#data_corr(df_train[2:])"
      ],
      "execution_count": 0,
      "outputs": []
    },
    {
      "metadata": {
        "id": "lnOrLIUbIcwK",
        "colab_type": "text"
      },
      "cell_type": "markdown",
      "source": [
        "**Split dataset**"
      ]
    },
    {
      "metadata": {
        "id": "Q7pSekw4IcwM",
        "colab_type": "code",
        "colab": {
          "base_uri": "https://localhost:8080/",
          "height": 34
        },
        "outputId": "2635d956-de24-4805-ca7e-d5b9f8521d8f"
      },
      "cell_type": "code",
      "source": [
        "test_size = 0.2\n",
        "print('Valid size: {}'.format(test_size))\n",
        "X_train, X_valid, y_train, y_valid = train_test_split(X, y, test_size=test_size, random_state=42)"
      ],
      "execution_count": 29,
      "outputs": [
        {
          "output_type": "stream",
          "text": [
            "Valid size: 0.2\n"
          ],
          "name": "stdout"
        }
      ]
    },
    {
      "metadata": {
        "id": "0D1C8uG9IcwR",
        "colab_type": "code",
        "colab": {
          "base_uri": "https://localhost:8080/",
          "height": 102
        },
        "outputId": "78b5b8fc-1676-43d2-866f-ba72ed59ef21"
      },
      "cell_type": "code",
      "source": [
        "print('X train shape: {}'.format(X_train.shape))\n",
        "print('y train shape: {}'.format(y_train.shape))\n",
        "\n",
        "print('X valid shape: {}'.format(X_valid.shape))\n",
        "print('y valid shape: {}'.format(y_valid.shape))\n",
        "\n",
        "print('X test shape: {}'.format(X_test.shape))"
      ],
      "execution_count": 30,
      "outputs": [
        {
          "output_type": "stream",
          "text": [
            "X train shape: (3567, 4991)\n",
            "y train shape: (3567,)\n",
            "X valid shape: (892, 4991)\n",
            "y valid shape: (892,)\n",
            "X test shape: (49342, 4991)\n"
          ],
          "name": "stdout"
        }
      ]
    },
    {
      "metadata": {
        "id": "CXMOhM3bIcwX",
        "colab_type": "text"
      },
      "cell_type": "markdown",
      "source": [
        "**Data Normalization**"
      ]
    },
    {
      "metadata": {
        "id": "upBcB53VIcwY",
        "colab_type": "code",
        "colab": {}
      },
      "cell_type": "code",
      "source": [
        "normalization_type = 'zScore'"
      ],
      "execution_count": 0,
      "outputs": []
    },
    {
      "metadata": {
        "id": "DJmUHlh5Icwb",
        "colab_type": "code",
        "colab": {
          "base_uri": "https://localhost:8080/",
          "height": 34
        },
        "outputId": "9a994b8f-dac3-4aed-e356-2247b0fc05a9"
      },
      "cell_type": "code",
      "source": [
        "print('Normalization type: {}'.format(normalization_type))\n",
        "\n",
        "if normalization_type == 'minMax':\n",
        "    scaler = MinMaxScaler()\n",
        "    \n",
        "elif normalization_type == 'zScore':        \n",
        "    scaler =  StandardScaler()"
      ],
      "execution_count": 32,
      "outputs": [
        {
          "output_type": "stream",
          "text": [
            "Normalization type: zScore\n"
          ],
          "name": "stdout"
        }
      ]
    },
    {
      "metadata": {
        "id": "UXsjJ3VFIcwe",
        "colab_type": "code",
        "colab": {}
      },
      "cell_type": "code",
      "source": [
        "## data normalization\n",
        "X_train = scaler.fit_transform(X_train)\n",
        "X_valid = scaler.transform(X_valid)\n",
        "X_test = scaler.transform(X_test)   "
      ],
      "execution_count": 0,
      "outputs": []
    },
    {
      "metadata": {
        "id": "dSUkzoqTIcwg",
        "colab_type": "text"
      },
      "cell_type": "markdown",
      "source": [
        "**Define regression model**"
      ]
    },
    {
      "metadata": {
        "id": "QsCpXLaCIcwh",
        "colab_type": "code",
        "colab": {}
      },
      "cell_type": "code",
      "source": [
        "boost_params = {'eval_metric': 'rmse'}\n",
        "\n",
        "model = xgb.XGBRegressor(\n",
        "    max_depth=10,\n",
        "    learning_rate=0.01,\n",
        "    n_estimators=1000,\n",
        "    objective='reg:linear',\n",
        "    gamma=0,\n",
        "    min_child_weight=1,\n",
        "    subsample=1,\n",
        "    colsample_bytree=1,\n",
        "    scale_pos_weight=1,\n",
        "    seed=27,\n",
        "    **boost_params)"
      ],
      "execution_count": 0,
      "outputs": []
    },
    {
      "metadata": {
        "id": "rBEJxd3iIcwl",
        "colab_type": "code",
        "colab": {
          "base_uri": "https://localhost:8080/",
          "height": 119
        },
        "outputId": "040682d1-d38c-48e1-b1c3-648054294cc7"
      },
      "cell_type": "code",
      "source": [
        "model.fit(X_train, y_train)"
      ],
      "execution_count": 35,
      "outputs": [
        {
          "output_type": "execute_result",
          "data": {
            "text/plain": [
              "XGBRegressor(base_score=0.5, booster='gbtree', colsample_bylevel=1,\n",
              "       colsample_bytree=1, eval_metric='rmse', gamma=0, learning_rate=0.01,\n",
              "       max_delta_step=0, max_depth=10, min_child_weight=1, missing=None,\n",
              "       n_estimators=1000, n_jobs=1, nthread=None, objective='reg:linear',\n",
              "       random_state=0, reg_alpha=0, reg_lambda=1, scale_pos_weight=1,\n",
              "       seed=27, silent=True, subsample=1)"
            ]
          },
          "metadata": {
            "tags": []
          },
          "execution_count": 35
        }
      ]
    },
    {
      "metadata": {
        "id": "QhhAl_7iYpaZ",
        "colab_type": "code",
        "colab": {}
      },
      "cell_type": "code",
      "source": [
        "def plot_features_importance(cols, importance, most_important = 40):\n",
        "\n",
        "    df = pd.DataFrame({'cols':cols, 'imp':importance}\n",
        "                       ).sort_values('imp', ascending=False) \n",
        "    \n",
        "    df[:most_important].plot('cols', 'imp', 'barh', figsize=(12,7), legend=False)"
      ],
      "execution_count": 0,
      "outputs": []
    },
    {
      "metadata": {
        "id": "b3dqpERSZ27O",
        "colab_type": "code",
        "colab": {
          "base_uri": "https://localhost:8080/",
          "height": 428
        },
        "outputId": "deb63e55-e43d-4376-eb6f-5f7a193c01d8"
      },
      "cell_type": "code",
      "source": [
        "plot_features_importance(df_train.columns[2:], model.feature_importances_)"
      ],
      "execution_count": 63,
      "outputs": [
        {
          "output_type": "display_data",
          "data": {
            "image/png": "[encoded data removed]",
            "text/plain": [
              "<matplotlib.figure.Figure at 0x7fee80f5d0b8>"
            ]
          },
          "metadata": {
            "tags": []
          }
        }
      ]
    },
    {
      "metadata": {
        "id": "_eb86WfWIcwo",
        "colab_type": "text"
      },
      "cell_type": "markdown",
      "source": [
        "**Model's evaluation**"
      ]
    },
    {
      "metadata": {
        "id": "EpoKWmuddO-B",
        "colab_type": "code",
        "colab": {}
      },
      "cell_type": "code",
      "source": [
        "#from https://www.kaggle.com/marknagelberg/rmsle-function\n",
        "\n",
        "def rmsle(y_pred, y):\n",
        "\tassert len(y) == len(y_pred)\n",
        "\tterms_to_sum = [(math.log(y_pred[i] + 1) - math.log(y[i] + 1)) ** 2.0 for i,pred in enumerate(y_pred)]\n",
        "\treturn (sum(terms_to_sum) * (1.0/len(y))) ** 0.5"
      ],
      "execution_count": 0,
      "outputs": []
    },
    {
      "metadata": {
        "id": "iUAqDjB2Icwp",
        "colab_type": "code",
        "colab": {}
      },
      "cell_type": "code",
      "source": [
        "def evaluate_regression(ypred, ytrue):\n",
        "    mse_eval = mse(ypred, ytrue)\n",
        "    mae_eval = mae(ypred, ytrue)\n",
        "    rmsle_eval = rmsle(ypred, ytrue)\n",
        "    \n",
        "    print('Mean Squared Error: {}'.format(mse_eval))\n",
        "    print('Mean Absolute Error: {}'.format(mae_eval))\n",
        "    print('Root Mean Squared Logarithmic Error: {}'.format(rmsle_eval))"
      ],
      "execution_count": 0,
      "outputs": []
    },
    {
      "metadata": {
        "id": "ycuCmIlpIcws",
        "colab_type": "code",
        "colab": {
          "base_uri": "https://localhost:8080/",
          "height": 68
        },
        "outputId": "0cf13cc0-24ed-4dab-b0b3-d4dd3c26a4c7"
      },
      "cell_type": "code",
      "source": [
        "ypred_train = model.predict(X_train)\n",
        "evaluate_regression(ypred_train, y_train)"
      ],
      "execution_count": 67,
      "outputs": [
        {
          "output_type": "stream",
          "text": [
            "Mean Squared Error: 0.7388005072359186\n",
            "Mean Absolute Error: 0.6200120819943928\n",
            "Root Mean Squared Logarithmic Error: 0.058013800701727375\n"
          ],
          "name": "stdout"
        }
      ]
    },
    {
      "metadata": {
        "id": "4w4-7NxxIcww",
        "colab_type": "code",
        "colab": {}
      },
      "cell_type": "code",
      "source": [
        "def generate_submission(ID, ypred):\n",
        "    \n",
        "    now = datetime.datetime.now()\n",
        "    if not os.path.isdir('subm'):\n",
        "        os.mkdir('subm')\n",
        "    suffix = str(now.strftime(\"%Y-%m-%d-%H-%M\"))\n",
        "    sub_file = os.path.join('subm', 'submission_' + suffix + '.csv')\n",
        "    sub = pd.DataFrame({'ID': ID})\n",
        "    sub['target'] = ypred\n",
        "\n",
        "    sub.to_csv(sub_file, index=False)\n",
        "    print('Submission File saved: {}'.format(sub_file))"
      ],
      "execution_count": 0,
      "outputs": []
    },
    {
      "metadata": {
        "id": "XAAHg_SzIcwz",
        "colab_type": "code",
        "colab": {}
      },
      "cell_type": "code",
      "source": [
        "ypred_test = model.predict(X_test)\n",
        "ypred_test = np.expm1( ypred_test ).astype(np.int)"
      ],
      "execution_count": 0,
      "outputs": []
    },
    {
      "metadata": {
        "id": "7Ngq5lTcIcw3",
        "colab_type": "code",
        "colab": {
          "base_uri": "https://localhost:8080/",
          "height": 34
        },
        "outputId": "d0cffbde-805c-468c-b0e4-1410df526287"
      },
      "cell_type": "code",
      "source": [
        "generate_submission(IdTest, ypred_test)"
      ],
      "execution_count": 70,
      "outputs": [
        {
          "output_type": "stream",
          "text": [
            "Submission File saved: subm/submission_2018-07-14-17-04.csv\n"
          ],
          "name": "stdout"
        }
      ]
    },
    {
      "metadata": {
        "id": "vpMK0hLNLC1m",
        "colab_type": "code",
        "colab": {
          "base_uri": "https://localhost:8080/",
          "height": 34
        },
        "outputId": "08a2452a-42a0-4b95-c27d-e1e710b5fbe1"
      },
      "cell_type": "code",
      "source": [
        "!kaggle competitions submit -c santander-value-prediction-challenge -f \"subm/submission_2018-07-14-17-04.csv\" -m \"xgboost_2018-07-14-17-04\""
      ],
      "execution_count": 72,
      "outputs": [
        {
          "output_type": "stream",
          "text": [
            "Successfully submitted to Santander Value Prediction Challenge"
          ],
          "name": "stdout"
        }
      ]
    },
    {
      "metadata": {
        "id": "ZthIA-P8wJNW",
        "colab_type": "code",
        "colab": {}
      },
      "cell_type": "code",
      "source": [
        ""
      ],
      "execution_count": 0,
      "outputs": []
    }
  ]
}