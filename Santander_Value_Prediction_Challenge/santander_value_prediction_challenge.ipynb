{
  "nbformat": 4,
  "nbformat_minor": 0,
  "metadata": {
    "colab": {
      "name": "santander_value_prediction_challenge.ipynb",
      "version": "0.3.2",
      "provenance": [],
      "collapsed_sections": []
    },
    "kernelspec": {
      "display_name": "Python 3",
      "language": "python",
      "name": "python3"
    }
  },
  "cells": [
    {
      "metadata": {
        "id": "K6o5N0YGIcvP",
        "colab_type": "code",
        "colab": {}
      },
      "cell_type": "code",
      "source": [
        "import os\n",
        "import re\n",
        "import glob\n",
        "import datetime\n",
        "import math\n",
        "\n",
        "import numpy as np\n",
        "import pandas as pd\n",
        "import matplotlib.pyplot as plt\n",
        "import seaborn as sns \n",
        "from tqdm import tqdm\n",
        "\n",
        "import multiprocessing\n",
        "from multiprocessing.dummy import Pool\n",
        "\n",
        "from sklearn.model_selection import train_test_split\n",
        "from sklearn.preprocessing import MinMaxScaler, StandardScaler\n",
        "from sklearn.metrics import mean_squared_error as mse\n",
        "from sklearn.metrics import mean_absolute_error as mae\n",
        "from sklearn.base import clone\n",
        "\n",
        "import xgboost as xgb\n",
        "import lightgbm as lgb"
      ],
      "execution_count": 0,
      "outputs": []
    },
    {
      "metadata": {
        "id": "ZTY4vDHXIcva",
        "colab_type": "code",
        "colab": {
          "base_uri": "https://localhost:8080/",
          "height": 34
        },
        "outputId": "d6f3127c-7f36-48dd-9d8f-3369d68ea4c5"
      },
      "cell_type": "code",
      "source": [
        "cpu_count  = 2*multiprocessing.cpu_count()-1\n",
        "print('Number of CPUs: {}'.format(cpu_count))"
      ],
      "execution_count": 69,
      "outputs": [
        {
          "output_type": "stream",
          "text": [
            "Number of CPUs: 3\n"
          ],
          "name": "stdout"
        }
      ]
    },
    {
      "metadata": {
        "id": "HrOTf1iKIcvi",
        "colab_type": "code",
        "colab": {}
      },
      "cell_type": "code",
      "source": [
        "seed=42\n",
        "np.random.seed(seed)"
      ],
      "execution_count": 0,
      "outputs": []
    },
    {
      "metadata": {
        "id": "0Jf3S6umInRH",
        "colab_type": "text"
      },
      "cell_type": "markdown",
      "source": [
        "# Download Dataset"
      ]
    },
    {
      "metadata": {
        "id": "54XIvIe7IhqO",
        "colab_type": "code",
        "colab": {
          "base_uri": "https://localhost:8080/",
          "height": 51
        },
        "outputId": "3cb54c6a-905b-4410-bd87-43280d610f5a"
      },
      "cell_type": "code",
      "source": [
        "use_colab = True\n",
        "print('Using Google Colab: {}'.format(use_colab))\n",
        "\n",
        "if use_colab:\n",
        "\n",
        "    from googleapiclient.discovery import build\n",
        "    import io, os\n",
        "    from googleapiclient.http import MediaIoBaseDownload\n",
        "    from google.colab import auth\n",
        "\n",
        "    if not os.path.exists('../input/'):\n",
        "\n",
        "        auth.authenticate_user()\n",
        "\n",
        "        drive_service = build('drive', 'v3')\n",
        "        results = drive_service.files().list(\n",
        "                q=\"name = 'kaggle.json'\", fields=\"files(id)\").execute()\n",
        "        kaggle_api_key = results.get('files', [])\n",
        "\n",
        "        filename = \"/content/.kaggle/kaggle.json\"\n",
        "        os.makedirs(os.path.dirname(filename), exist_ok=True)\n",
        "\n",
        "        request = drive_service.files().get_media(fileId=kaggle_api_key[0]['id'])\n",
        "        fh = io.FileIO(filename, 'wb')\n",
        "        downloader = MediaIoBaseDownload(fh, request)\n",
        "        done = False\n",
        "        while done is False:\n",
        "            status, done = downloader.next_chunk()\n",
        "            print(\"Download %d%%.\" % int(status.progress() * 100))\n",
        "        os.chmod(filename, 600)\n",
        "\n",
        "        !pip install kaggle\n",
        "        !kaggle competitions download -c santander-value-prediction-challenge -p ../input/\n",
        "        !cd ../input && unzip sample_submission.csv.zip && unzip test.csv.zip && unzip train.csv.zip\n",
        "\n",
        "    else:\n",
        "        print('Dataset already downloaded!')"
      ],
      "execution_count": 71,
      "outputs": [
        {
          "output_type": "stream",
          "text": [
            "Using Google Colab: True\n",
            "Dataset already downloaded!\n"
          ],
          "name": "stdout"
        }
      ]
    },
    {
      "metadata": {
        "id": "2bwl19hnIcvq",
        "colab_type": "code",
        "colab": {}
      },
      "cell_type": "code",
      "source": [
        "path2train = '../input/train.csv'\n",
        "path2test = '../input/test.csv'"
      ],
      "execution_count": 0,
      "outputs": []
    },
    {
      "metadata": {
        "id": "g070A9BZIcvv",
        "colab_type": "code",
        "colab": {}
      },
      "cell_type": "code",
      "source": [
        "df_train = pd.read_csv(path2train)\n",
        "df_test = pd.read_csv(path2test)"
      ],
      "execution_count": 0,
      "outputs": []
    },
    {
      "metadata": {
        "id": "OhHEHk6gIcv3",
        "colab_type": "code",
        "colab": {
          "base_uri": "https://localhost:8080/",
          "height": 273
        },
        "outputId": "30317e8e-ca84-4069-a604-71bce600e05c"
      },
      "cell_type": "code",
      "source": [
        "df_train.head()"
      ],
      "execution_count": 74,
      "outputs": [
        {
          "output_type": "execute_result",
          "data": {
            "text/html": [
              "<div>\n",
              "<style scoped>\n",
              "    .dataframe tbody tr th:only-of-type {\n",
              "        vertical-align: middle;\n",
              "    }\n",
              "\n",
              "    .dataframe tbody tr th {\n",
              "        vertical-align: top;\n",
              "    }\n",
              "\n",
              "    .dataframe thead th {\n",
              "        text-align: right;\n",
              "    }\n",
              "</style>\n",
              "<table border=\"1\" class=\"dataframe\">\n",
              "  <thead>\n",
              "    <tr style=\"text-align: right;\">\n",
              "      <th></th>\n",
              "      <th>ID</th>\n",
              "      <th>target</th>\n",
              "      <th>48df886f9</th>\n",
              "      <th>0deb4b6a8</th>\n",
              "      <th>34b15f335</th>\n",
              "      <th>a8cb14b00</th>\n",
              "      <th>2f0771a37</th>\n",
              "      <th>30347e683</th>\n",
              "      <th>d08d1fbe3</th>\n",
              "      <th>6ee66e115</th>\n",
              "      <th>...</th>\n",
              "      <th>3ecc09859</th>\n",
              "      <th>9281abeea</th>\n",
              "      <th>8675bec0b</th>\n",
              "      <th>3a13ed79a</th>\n",
              "      <th>f677d4d13</th>\n",
              "      <th>71b203550</th>\n",
              "      <th>137efaa80</th>\n",
              "      <th>fb36b89d9</th>\n",
              "      <th>7e293fbaf</th>\n",
              "      <th>9fc776466</th>\n",
              "    </tr>\n",
              "  </thead>\n",
              "  <tbody>\n",
              "    <tr>\n",
              "      <th>0</th>\n",
              "      <td>000d6aaf2</td>\n",
              "      <td>38000000.0</td>\n",
              "      <td>0.0</td>\n",
              "      <td>0</td>\n",
              "      <td>0.0</td>\n",
              "      <td>0</td>\n",
              "      <td>0</td>\n",
              "      <td>0</td>\n",
              "      <td>0</td>\n",
              "      <td>0</td>\n",
              "      <td>...</td>\n",
              "      <td>0.0</td>\n",
              "      <td>0.0</td>\n",
              "      <td>0.0</td>\n",
              "      <td>0</td>\n",
              "      <td>0</td>\n",
              "      <td>0</td>\n",
              "      <td>0</td>\n",
              "      <td>0</td>\n",
              "      <td>0</td>\n",
              "      <td>0</td>\n",
              "    </tr>\n",
              "    <tr>\n",
              "      <th>1</th>\n",
              "      <td>000fbd867</td>\n",
              "      <td>600000.0</td>\n",
              "      <td>0.0</td>\n",
              "      <td>0</td>\n",
              "      <td>0.0</td>\n",
              "      <td>0</td>\n",
              "      <td>0</td>\n",
              "      <td>0</td>\n",
              "      <td>0</td>\n",
              "      <td>0</td>\n",
              "      <td>...</td>\n",
              "      <td>0.0</td>\n",
              "      <td>0.0</td>\n",
              "      <td>0.0</td>\n",
              "      <td>0</td>\n",
              "      <td>0</td>\n",
              "      <td>0</td>\n",
              "      <td>0</td>\n",
              "      <td>0</td>\n",
              "      <td>0</td>\n",
              "      <td>0</td>\n",
              "    </tr>\n",
              "    <tr>\n",
              "      <th>2</th>\n",
              "      <td>0027d6b71</td>\n",
              "      <td>10000000.0</td>\n",
              "      <td>0.0</td>\n",
              "      <td>0</td>\n",
              "      <td>0.0</td>\n",
              "      <td>0</td>\n",
              "      <td>0</td>\n",
              "      <td>0</td>\n",
              "      <td>0</td>\n",
              "      <td>0</td>\n",
              "      <td>...</td>\n",
              "      <td>0.0</td>\n",
              "      <td>0.0</td>\n",
              "      <td>0.0</td>\n",
              "      <td>0</td>\n",
              "      <td>0</td>\n",
              "      <td>0</td>\n",
              "      <td>0</td>\n",
              "      <td>0</td>\n",
              "      <td>0</td>\n",
              "      <td>0</td>\n",
              "    </tr>\n",
              "    <tr>\n",
              "      <th>3</th>\n",
              "      <td>0028cbf45</td>\n",
              "      <td>2000000.0</td>\n",
              "      <td>0.0</td>\n",
              "      <td>0</td>\n",
              "      <td>0.0</td>\n",
              "      <td>0</td>\n",
              "      <td>0</td>\n",
              "      <td>0</td>\n",
              "      <td>0</td>\n",
              "      <td>0</td>\n",
              "      <td>...</td>\n",
              "      <td>0.0</td>\n",
              "      <td>0.0</td>\n",
              "      <td>0.0</td>\n",
              "      <td>0</td>\n",
              "      <td>0</td>\n",
              "      <td>0</td>\n",
              "      <td>0</td>\n",
              "      <td>0</td>\n",
              "      <td>0</td>\n",
              "      <td>0</td>\n",
              "    </tr>\n",
              "    <tr>\n",
              "      <th>4</th>\n",
              "      <td>002a68644</td>\n",
              "      <td>14400000.0</td>\n",
              "      <td>0.0</td>\n",
              "      <td>0</td>\n",
              "      <td>0.0</td>\n",
              "      <td>0</td>\n",
              "      <td>0</td>\n",
              "      <td>0</td>\n",
              "      <td>0</td>\n",
              "      <td>0</td>\n",
              "      <td>...</td>\n",
              "      <td>0.0</td>\n",
              "      <td>0.0</td>\n",
              "      <td>0.0</td>\n",
              "      <td>0</td>\n",
              "      <td>0</td>\n",
              "      <td>0</td>\n",
              "      <td>0</td>\n",
              "      <td>0</td>\n",
              "      <td>0</td>\n",
              "      <td>0</td>\n",
              "    </tr>\n",
              "  </tbody>\n",
              "</table>\n",
              "<p>5 rows × 4993 columns</p>\n",
              "</div>"
            ],
            "text/plain": [
              "          ID      target  48df886f9  0deb4b6a8  34b15f335  a8cb14b00  \\\n",
              "0  000d6aaf2  38000000.0        0.0          0        0.0          0   \n",
              "1  000fbd867    600000.0        0.0          0        0.0          0   \n",
              "2  0027d6b71  10000000.0        0.0          0        0.0          0   \n",
              "3  0028cbf45   2000000.0        0.0          0        0.0          0   \n",
              "4  002a68644  14400000.0        0.0          0        0.0          0   \n",
              "\n",
              "   2f0771a37  30347e683  d08d1fbe3  6ee66e115    ...      3ecc09859  \\\n",
              "0          0          0          0          0    ...            0.0   \n",
              "1          0          0          0          0    ...            0.0   \n",
              "2          0          0          0          0    ...            0.0   \n",
              "3          0          0          0          0    ...            0.0   \n",
              "4          0          0          0          0    ...            0.0   \n",
              "\n",
              "   9281abeea  8675bec0b  3a13ed79a  f677d4d13  71b203550  137efaa80  \\\n",
              "0        0.0        0.0          0          0          0          0   \n",
              "1        0.0        0.0          0          0          0          0   \n",
              "2        0.0        0.0          0          0          0          0   \n",
              "3        0.0        0.0          0          0          0          0   \n",
              "4        0.0        0.0          0          0          0          0   \n",
              "\n",
              "   fb36b89d9  7e293fbaf  9fc776466  \n",
              "0          0          0          0  \n",
              "1          0          0          0  \n",
              "2          0          0          0  \n",
              "3          0          0          0  \n",
              "4          0          0          0  \n",
              "\n",
              "[5 rows x 4993 columns]"
            ]
          },
          "metadata": {
            "tags": []
          },
          "execution_count": 74
        }
      ]
    },
    {
      "metadata": {
        "id": "vHa1ozHhNW6l",
        "colab_type": "text"
      },
      "cell_type": "markdown",
      "source": [
        "## Data Pre-processing"
      ]
    },
    {
      "metadata": {
        "id": "065pTJPYFs13",
        "colab_type": "code",
        "colab": {
          "base_uri": "https://localhost:8080/",
          "height": 34
        },
        "outputId": "db555ae4-5c41-4c81-fa9d-1220c1d76920"
      },
      "cell_type": "code",
      "source": [
        "# check columns withs nan values\n",
        "col_nan = df_train.columns[df_train.isna().any()].tolist()\n",
        "if len(col_nan) == 0:\n",
        "    print('Data has no Nan values')\n",
        "else:\n",
        "  print('Data has Nan vaulues in cols: {}'.format(col_nan))"
      ],
      "execution_count": 75,
      "outputs": [
        {
          "output_type": "stream",
          "text": [
            "Data has no Nan values\n"
          ],
          "name": "stdout"
        }
      ]
    },
    {
      "metadata": {
        "id": "tlMpfG1b3f1l",
        "colab_type": "code",
        "colab": {}
      },
      "cell_type": "code",
      "source": [
        "df_col = df_train.columns[2:]"
      ],
      "execution_count": 0,
      "outputs": []
    },
    {
      "metadata": {
        "id": "QwQSJqeBNehw",
        "colab_type": "code",
        "colab": {}
      },
      "cell_type": "code",
      "source": [
        "# Remove constant columns\n",
        "const_col = []\n",
        "for col in df_col:\n",
        "    if df_train[col].std() == 0:\n",
        "        const_col.append(col)"
      ],
      "execution_count": 0,
      "outputs": []
    },
    {
      "metadata": {
        "id": "8QZu5CaXOEBt",
        "colab_type": "code",
        "colab": {}
      },
      "cell_type": "code",
      "source": [
        "df_train = df_train.drop(const_col, axis=1)\n",
        "df_test = df_test.drop(const_col, axis=1)"
      ],
      "execution_count": 0,
      "outputs": []
    },
    {
      "metadata": {
        "id": "3jReW4ZSQSO1",
        "colab_type": "code",
        "colab": {
          "base_uri": "https://localhost:8080/",
          "height": 51
        },
        "outputId": "5a7b5bd5-8c08-41a9-d7e5-3d0c701f439c"
      },
      "cell_type": "code",
      "source": [
        "print('Train DataFrame shape: {}'.format(df_train.shape))\n",
        "print('Test DataFrame shape: {}'.format(df_test.shape))"
      ],
      "execution_count": 79,
      "outputs": [
        {
          "output_type": "stream",
          "text": [
            "Train DataFrame shape: (4459, 4737)\n",
            "Test DataFrame shape: (49342, 4736)\n"
          ],
          "name": "stdout"
        }
      ]
    },
    {
      "metadata": {
        "id": "l9ussfte5qtR",
        "colab_type": "code",
        "colab": {}
      },
      "cell_type": "code",
      "source": [
        "df_col = df_train.columns[2:]"
      ],
      "execution_count": 0,
      "outputs": []
    },
    {
      "metadata": {
        "id": "i2XjHU4f29iy",
        "colab_type": "code",
        "colab": {}
      },
      "cell_type": "code",
      "source": [
        "def get_duplicate_columns(df):\n",
        "\n",
        "    equals_col = []\n",
        "    for i in tqdm(range(0, len(df_col))):\n",
        "        ba = df[df_col[i]].values\n",
        "        for j in range(i + 1, len(df_col)):\n",
        "            aa = df[df_col[j]].values\n",
        "            if (np.array_equal(ba, aa)):\n",
        "                equals_col.append(df_col[j])\n",
        "    return equals_col"
      ],
      "execution_count": 0,
      "outputs": []
    },
    {
      "metadata": {
        "id": "guhdueM3BX5p",
        "colab_type": "code",
        "colab": {
          "base_uri": "https://localhost:8080/",
          "height": 34
        },
        "outputId": "7731a1f6-b50b-455f-adec-a8f0331fb606"
      },
      "cell_type": "code",
      "source": [
        "equals_col = get_duplicate_columns(df_train)"
      ],
      "execution_count": 84,
      "outputs": [
        {
          "output_type": "stream",
          "text": [
            "100%|██████████| 4735/4735 [03:33<00:00, 22.13it/s]\n"
          ],
          "name": "stderr"
        }
      ]
    },
    {
      "metadata": {
        "id": "l7zT0fDxAr2X",
        "colab_type": "code",
        "colab": {
          "base_uri": "https://localhost:8080/",
          "height": 51
        },
        "outputId": "a99048db-c49b-4048-dced-eb3443ffd354"
      },
      "cell_type": "code",
      "source": [
        "print('There are {} columns which are equals'.format(len(equals_col)))\n",
        "print(equals_col)"
      ],
      "execution_count": 85,
      "outputs": [
        {
          "output_type": "stream",
          "text": [
            "There are 6 columns which are equals\n",
            "['d60ddde1b', 'acc5b709d', 'f333a5f60', 'f8d75792f', '912836770', 'f333a5f60']\n"
          ],
          "name": "stdout"
        }
      ]
    },
    {
      "metadata": {
        "id": "oQ_Rb6chBHSB",
        "colab_type": "code",
        "colab": {}
      },
      "cell_type": "code",
      "source": [
        "df_train = df_train.drop(equals_col, axis=1)\n",
        "df_test = df_test.drop(equals_col, axis=1)"
      ],
      "execution_count": 0,
      "outputs": []
    },
    {
      "metadata": {
        "id": "5ZJIW5OfBHSF",
        "colab_type": "code",
        "colab": {
          "base_uri": "https://localhost:8080/",
          "height": 51
        },
        "outputId": "dd74f537-0c04-49fc-d684-b415888d368c"
      },
      "cell_type": "code",
      "source": [
        "print('Train DataFrame shape: {}'.format(df_train.shape))\n",
        "print('Test DataFrame shape: {}'.format(df_test.shape))"
      ],
      "execution_count": 88,
      "outputs": [
        {
          "output_type": "stream",
          "text": [
            "Train DataFrame shape: (4459, 4732)\n",
            "Test DataFrame shape: (49342, 4731)\n"
          ],
          "name": "stdout"
        }
      ]
    },
    {
      "metadata": {
        "id": "cxx5m5LOOK-l",
        "colab_type": "text"
      },
      "cell_type": "markdown",
      "source": [
        "# Features selection\n",
        "  \n",
        "  -  Get the features which are most correlated with the target value\n"
      ]
    },
    {
      "metadata": {
        "id": "RaMAibsfHbp6",
        "colab_type": "code",
        "colab": {}
      },
      "cell_type": "code",
      "source": [
        "def get_most_correlated_features_target(df_train, features_limit = 100):\n",
        "\n",
        "    aux_lst = []\n",
        "    features_col = df_train.columns[2:]\n",
        "\n",
        "    for fc in features_col:\n",
        "        aux_lst.append(df_train['target'].corr(df_train[fc]))\n",
        "\n",
        "\n",
        "    corre_features = pd.DataFrame({'Column':features_col, 'Correlation':aux_lst}\n",
        "                                 ).sort_values('Correlation', ascending=False)\n",
        "    \n",
        "    \n",
        "    \n",
        "    most_correlated_features = corre_features[:features_limit]\n",
        "    \n",
        "    return most_correlated_features"
      ],
      "execution_count": 0,
      "outputs": []
    },
    {
      "metadata": {
        "id": "P21hE6Y1AGKk",
        "colab_type": "code",
        "colab": {}
      },
      "cell_type": "code",
      "source": [
        "def filter_data(df_train, df_test, most_correlated_features):\n",
        "  \n",
        "    most_correlated_features = most_correlated_features['Column'].values\n",
        "  \n",
        "    df_train_tune = pd.DataFrame()\n",
        "    df_train_tune[['ID', 'target']] =  df_train[['ID', 'target']]\n",
        "    df_train_tune[most_correlated_features] = df_train[most_correlated_features]\n",
        "\n",
        "    df_test_tune = pd.DataFrame()\n",
        "    df_test_tune[['ID']] =  df_test[['ID']]\n",
        "    df_test_tune[most_correlated_features] = df_test[most_correlated_features]\n",
        "\n",
        "    \n",
        "    return df_train_tune, df_test_tune"
      ],
      "execution_count": 0,
      "outputs": []
    },
    {
      "metadata": {
        "id": "BnM4MWTFKtIO",
        "colab_type": "code",
        "colab": {
          "base_uri": "https://localhost:8080/",
          "height": 204
        },
        "outputId": "8bcb2293-ea8a-4755-cc82-8d4b07e0e636"
      },
      "cell_type": "code",
      "source": [
        "most_correlated_features = get_most_correlated_features_target(df_train, features_limit= 250)\n",
        "most_correlated_features.head()"
      ],
      "execution_count": 93,
      "outputs": [
        {
          "output_type": "execute_result",
          "data": {
            "text/html": [
              "<div>\n",
              "<style scoped>\n",
              "    .dataframe tbody tr th:only-of-type {\n",
              "        vertical-align: middle;\n",
              "    }\n",
              "\n",
              "    .dataframe tbody tr th {\n",
              "        vertical-align: top;\n",
              "    }\n",
              "\n",
              "    .dataframe thead th {\n",
              "        text-align: right;\n",
              "    }\n",
              "</style>\n",
              "<table border=\"1\" class=\"dataframe\">\n",
              "  <thead>\n",
              "    <tr style=\"text-align: right;\">\n",
              "      <th></th>\n",
              "      <th>Column</th>\n",
              "      <th>Correlation</th>\n",
              "    </tr>\n",
              "  </thead>\n",
              "  <tbody>\n",
              "    <tr>\n",
              "      <th>4472</th>\n",
              "      <td>555f18bd3</td>\n",
              "      <td>0.273379</td>\n",
              "    </tr>\n",
              "    <tr>\n",
              "      <th>2616</th>\n",
              "      <td>9fd594eec</td>\n",
              "      <td>0.270019</td>\n",
              "    </tr>\n",
              "    <tr>\n",
              "      <th>2342</th>\n",
              "      <td>5bc7ab64f</td>\n",
              "      <td>0.267858</td>\n",
              "    </tr>\n",
              "    <tr>\n",
              "      <th>3334</th>\n",
              "      <td>cbbc9c431</td>\n",
              "      <td>0.265005</td>\n",
              "    </tr>\n",
              "    <tr>\n",
              "      <th>4131</th>\n",
              "      <td>f190486d6</td>\n",
              "      <td>0.263821</td>\n",
              "    </tr>\n",
              "  </tbody>\n",
              "</table>\n",
              "</div>"
            ],
            "text/plain": [
              "         Column  Correlation\n",
              "4472  555f18bd3     0.273379\n",
              "2616  9fd594eec     0.270019\n",
              "2342  5bc7ab64f     0.267858\n",
              "3334  cbbc9c431     0.265005\n",
              "4131  f190486d6     0.263821"
            ]
          },
          "metadata": {
            "tags": []
          },
          "execution_count": 93
        }
      ]
    },
    {
      "metadata": {
        "id": "-UvuemQQJyAS",
        "colab_type": "code",
        "colab": {}
      },
      "cell_type": "code",
      "source": [
        "df_train, df_test = filter_data(df_train, df_test, most_correlated_features)"
      ],
      "execution_count": 0,
      "outputs": []
    },
    {
      "metadata": {
        "id": "h5nbh3qeRCqr",
        "colab_type": "code",
        "colab": {
          "base_uri": "https://localhost:8080/",
          "height": 273
        },
        "outputId": "a7a43e5c-b276-4295-a313-64d02bda6422"
      },
      "cell_type": "code",
      "source": [
        "df_train.head()"
      ],
      "execution_count": 95,
      "outputs": [
        {
          "output_type": "execute_result",
          "data": {
            "text/html": [
              "<div>\n",
              "<style scoped>\n",
              "    .dataframe tbody tr th:only-of-type {\n",
              "        vertical-align: middle;\n",
              "    }\n",
              "\n",
              "    .dataframe tbody tr th {\n",
              "        vertical-align: top;\n",
              "    }\n",
              "\n",
              "    .dataframe thead th {\n",
              "        text-align: right;\n",
              "    }\n",
              "</style>\n",
              "<table border=\"1\" class=\"dataframe\">\n",
              "  <thead>\n",
              "    <tr style=\"text-align: right;\">\n",
              "      <th></th>\n",
              "      <th>ID</th>\n",
              "      <th>target</th>\n",
              "      <th>555f18bd3</th>\n",
              "      <th>9fd594eec</th>\n",
              "      <th>5bc7ab64f</th>\n",
              "      <th>cbbc9c431</th>\n",
              "      <th>f190486d6</th>\n",
              "      <th>6b119d8ce</th>\n",
              "      <th>f74e8f13d</th>\n",
              "      <th>ac30af84a</th>\n",
              "      <th>...</th>\n",
              "      <th>3f4a39818</th>\n",
              "      <th>9282e1543</th>\n",
              "      <th>961b91fe7</th>\n",
              "      <th>b4cfe861f</th>\n",
              "      <th>b5a25e7c9</th>\n",
              "      <th>6c0e0801a</th>\n",
              "      <th>3bdee45be</th>\n",
              "      <th>621833d9b</th>\n",
              "      <th>f6c436744</th>\n",
              "      <th>e25a65f3d</th>\n",
              "    </tr>\n",
              "  </thead>\n",
              "  <tbody>\n",
              "    <tr>\n",
              "      <th>0</th>\n",
              "      <td>000d6aaf2</td>\n",
              "      <td>38000000.0</td>\n",
              "      <td>0.0</td>\n",
              "      <td>600000.0</td>\n",
              "      <td>0.0</td>\n",
              "      <td>0.0</td>\n",
              "      <td>1866666.66</td>\n",
              "      <td>0.0</td>\n",
              "      <td>1733333.34</td>\n",
              "      <td>0.0</td>\n",
              "      <td>...</td>\n",
              "      <td>550000.0</td>\n",
              "      <td>0</td>\n",
              "      <td>0.0</td>\n",
              "      <td>0.0</td>\n",
              "      <td>0</td>\n",
              "      <td>0.0</td>\n",
              "      <td>22000000.0</td>\n",
              "      <td>0.0</td>\n",
              "      <td>0</td>\n",
              "      <td>0</td>\n",
              "    </tr>\n",
              "    <tr>\n",
              "      <th>1</th>\n",
              "      <td>000fbd867</td>\n",
              "      <td>600000.0</td>\n",
              "      <td>0.0</td>\n",
              "      <td>1800000.0</td>\n",
              "      <td>0.0</td>\n",
              "      <td>0.0</td>\n",
              "      <td>0.00</td>\n",
              "      <td>0.0</td>\n",
              "      <td>0.00</td>\n",
              "      <td>0.0</td>\n",
              "      <td>...</td>\n",
              "      <td>2000000.0</td>\n",
              "      <td>0</td>\n",
              "      <td>0.0</td>\n",
              "      <td>0.0</td>\n",
              "      <td>0</td>\n",
              "      <td>2225000.0</td>\n",
              "      <td>0.0</td>\n",
              "      <td>0.0</td>\n",
              "      <td>0</td>\n",
              "      <td>0</td>\n",
              "    </tr>\n",
              "    <tr>\n",
              "      <th>2</th>\n",
              "      <td>0027d6b71</td>\n",
              "      <td>10000000.0</td>\n",
              "      <td>0.0</td>\n",
              "      <td>0.0</td>\n",
              "      <td>0.0</td>\n",
              "      <td>0.0</td>\n",
              "      <td>0.00</td>\n",
              "      <td>0.0</td>\n",
              "      <td>0.00</td>\n",
              "      <td>0.0</td>\n",
              "      <td>...</td>\n",
              "      <td>0.0</td>\n",
              "      <td>0</td>\n",
              "      <td>0.0</td>\n",
              "      <td>0.0</td>\n",
              "      <td>0</td>\n",
              "      <td>0.0</td>\n",
              "      <td>0.0</td>\n",
              "      <td>0.0</td>\n",
              "      <td>0</td>\n",
              "      <td>0</td>\n",
              "    </tr>\n",
              "    <tr>\n",
              "      <th>3</th>\n",
              "      <td>0028cbf45</td>\n",
              "      <td>2000000.0</td>\n",
              "      <td>0.0</td>\n",
              "      <td>0.0</td>\n",
              "      <td>0.0</td>\n",
              "      <td>0.0</td>\n",
              "      <td>2000000.00</td>\n",
              "      <td>0.0</td>\n",
              "      <td>0.00</td>\n",
              "      <td>0.0</td>\n",
              "      <td>...</td>\n",
              "      <td>0.0</td>\n",
              "      <td>0</td>\n",
              "      <td>0.0</td>\n",
              "      <td>0.0</td>\n",
              "      <td>0</td>\n",
              "      <td>0.0</td>\n",
              "      <td>0.0</td>\n",
              "      <td>0.0</td>\n",
              "      <td>0</td>\n",
              "      <td>0</td>\n",
              "    </tr>\n",
              "    <tr>\n",
              "      <th>4</th>\n",
              "      <td>002a68644</td>\n",
              "      <td>14400000.0</td>\n",
              "      <td>0.0</td>\n",
              "      <td>0.0</td>\n",
              "      <td>0.0</td>\n",
              "      <td>0.0</td>\n",
              "      <td>0.00</td>\n",
              "      <td>0.0</td>\n",
              "      <td>0.00</td>\n",
              "      <td>0.0</td>\n",
              "      <td>...</td>\n",
              "      <td>0.0</td>\n",
              "      <td>0</td>\n",
              "      <td>0.0</td>\n",
              "      <td>0.0</td>\n",
              "      <td>0</td>\n",
              "      <td>0.0</td>\n",
              "      <td>0.0</td>\n",
              "      <td>0.0</td>\n",
              "      <td>0</td>\n",
              "      <td>0</td>\n",
              "    </tr>\n",
              "  </tbody>\n",
              "</table>\n",
              "<p>5 rows × 252 columns</p>\n",
              "</div>"
            ],
            "text/plain": [
              "          ID      target  555f18bd3  9fd594eec  5bc7ab64f  cbbc9c431  \\\n",
              "0  000d6aaf2  38000000.0        0.0   600000.0        0.0        0.0   \n",
              "1  000fbd867    600000.0        0.0  1800000.0        0.0        0.0   \n",
              "2  0027d6b71  10000000.0        0.0        0.0        0.0        0.0   \n",
              "3  0028cbf45   2000000.0        0.0        0.0        0.0        0.0   \n",
              "4  002a68644  14400000.0        0.0        0.0        0.0        0.0   \n",
              "\n",
              "    f190486d6  6b119d8ce   f74e8f13d  ac30af84a    ...      3f4a39818  \\\n",
              "0  1866666.66        0.0  1733333.34        0.0    ...       550000.0   \n",
              "1        0.00        0.0        0.00        0.0    ...      2000000.0   \n",
              "2        0.00        0.0        0.00        0.0    ...            0.0   \n",
              "3  2000000.00        0.0        0.00        0.0    ...            0.0   \n",
              "4        0.00        0.0        0.00        0.0    ...            0.0   \n",
              "\n",
              "   9282e1543  961b91fe7  b4cfe861f  b5a25e7c9  6c0e0801a   3bdee45be  \\\n",
              "0          0        0.0        0.0          0        0.0  22000000.0   \n",
              "1          0        0.0        0.0          0  2225000.0         0.0   \n",
              "2          0        0.0        0.0          0        0.0         0.0   \n",
              "3          0        0.0        0.0          0        0.0         0.0   \n",
              "4          0        0.0        0.0          0        0.0         0.0   \n",
              "\n",
              "   621833d9b  f6c436744  e25a65f3d  \n",
              "0        0.0          0          0  \n",
              "1        0.0          0          0  \n",
              "2        0.0          0          0  \n",
              "3        0.0          0          0  \n",
              "4        0.0          0          0  \n",
              "\n",
              "[5 rows x 252 columns]"
            ]
          },
          "metadata": {
            "tags": []
          },
          "execution_count": 95
        }
      ]
    },
    {
      "metadata": {
        "id": "o3xVyrSRRNDt",
        "colab_type": "code",
        "colab": {}
      },
      "cell_type": "code",
      "source": [
        "def data_corr(data):\n",
        "    fig = plt.figure(figsize=(15,10))\n",
        "    correlation = data.corr()\n",
        "    sns.heatmap(correlation, annot=False, cbar=True, cmap=\"RdYlGn\")"
      ],
      "execution_count": 0,
      "outputs": []
    },
    {
      "metadata": {
        "id": "0QJ41iINRpkb",
        "colab_type": "code",
        "colab": {}
      },
      "cell_type": "code",
      "source": [
        "#data_corr(df_train[2:])"
      ],
      "execution_count": 0,
      "outputs": []
    },
    {
      "metadata": {
        "id": "Kh67C4HsFyuM",
        "colab_type": "code",
        "colab": {}
      },
      "cell_type": "code",
      "source": [
        "y = np.log1p(df_train['target'].values)\n",
        "X = df_train[df_train.columns.drop(['ID','target'])].values\n",
        "\n",
        "IdTest = df_test['ID'].values\n",
        "X_test = df_test[df_test.columns.drop(['ID'])].values"
      ],
      "execution_count": 0,
      "outputs": []
    },
    {
      "metadata": {
        "id": "Ub-CGl9eIcv9",
        "colab_type": "code",
        "colab": {
          "base_uri": "https://localhost:8080/",
          "height": 445
        },
        "outputId": "e56789ba-26ce-4e87-da1d-897cfd39d82c"
      },
      "cell_type": "code",
      "source": [
        "fig = plt.figure(figsize=(20,6))\n",
        "plt.subplot(1,2,1)\n",
        "sns.distplot(df_train['target'].values)\n",
        "plt.title('T', fontsize=20)\n",
        "plt.subplot(1,2,2)\n",
        "sns.distplot(y)\n",
        "plt.title('log(1 + T)', fontsize=20)"
      ],
      "execution_count": 99,
      "outputs": [
        {
          "output_type": "execute_result",
          "data": {
            "text/plain": [
              "Text(0.5,1,'log(1 + T)')"
            ]
          },
          "metadata": {
            "tags": []
          },
          "execution_count": 99
        },
        {
          "output_type": "display_data",
          "data": {
            "image/png": "[encoded data removed]",
            "text/plain": [
              "<matplotlib.figure.Figure at 0x7febb9428dd8>"
            ]
          },
          "metadata": {
            "tags": []
          }
        }
      ]
    },
    {
      "metadata": {
        "id": "cbm1-tuQ8Mf6",
        "colab_type": "code",
        "colab": {}
      },
      "cell_type": "code",
      "source": [
        "def find_ncluster(X, kmax=20):\n",
        "\n",
        "    wcss = []    \n",
        "    for i in tqdm(range(2, kmax)):\n",
        "        kmeans = MiniBatchKMeans(n_clusters = i, init = 'k-means++',\n",
        "                                 n_init=1,init_size= int(1e3),\n",
        "                                 random_state = 42,batch_size=int(1e3))\n",
        "        kmeans.fit(X)\n",
        "        wcss.append(kmeans.inertia_)\n",
        "\n",
        "    plt.figure()      \n",
        "    plt.plot(range(2, kmax), wcss, '-o')\n",
        "    plt.title('The Elbow Method (WCSS)')\n",
        "    plt.xlabel('Number of clusters')\n",
        "    plt.ylabel('Score')\n",
        "    plt.grid('on')"
      ],
      "execution_count": 0,
      "outputs": []
    },
    {
      "metadata": {
        "id": "Cj8DDbv79RyT",
        "colab_type": "code",
        "colab": {}
      },
      "cell_type": "code",
      "source": [
        "#ind_ncluster(X)"
      ],
      "execution_count": 0,
      "outputs": []
    },
    {
      "metadata": {
        "id": "lnOrLIUbIcwK",
        "colab_type": "text"
      },
      "cell_type": "markdown",
      "source": [
        "**Split dataset**"
      ]
    },
    {
      "metadata": {
        "id": "Q7pSekw4IcwM",
        "colab_type": "code",
        "colab": {
          "base_uri": "https://localhost:8080/",
          "height": 34
        },
        "outputId": "90149fa2-0ee9-4ed6-faa0-31865d192d16"
      },
      "cell_type": "code",
      "source": [
        "test_size = 0.2\n",
        "print('Valid size: {}'.format(test_size))\n",
        "X_train, X_valid, y_train, y_valid = train_test_split(X, y, test_size=test_size, random_state=42)"
      ],
      "execution_count": 102,
      "outputs": [
        {
          "output_type": "stream",
          "text": [
            "Valid size: 0.2\n"
          ],
          "name": "stdout"
        }
      ]
    },
    {
      "metadata": {
        "id": "0D1C8uG9IcwR",
        "colab_type": "code",
        "colab": {
          "base_uri": "https://localhost:8080/",
          "height": 102
        },
        "outputId": "fa674db5-a23a-4fcc-8fc6-3c93355b3b53"
      },
      "cell_type": "code",
      "source": [
        "print('X train shape: {}'.format(X_train.shape))\n",
        "print('y train shape: {}'.format(y_train.shape))\n",
        "\n",
        "print('X valid shape: {}'.format(X_valid.shape))\n",
        "print('y valid shape: {}'.format(y_valid.shape))\n",
        "\n",
        "print('X test shape: {}'.format(X_test.shape))"
      ],
      "execution_count": 103,
      "outputs": [
        {
          "output_type": "stream",
          "text": [
            "X train shape: (3567, 250)\n",
            "y train shape: (3567,)\n",
            "X valid shape: (892, 250)\n",
            "y valid shape: (892,)\n",
            "X test shape: (49342, 250)\n"
          ],
          "name": "stdout"
        }
      ]
    },
    {
      "metadata": {
        "id": "CXMOhM3bIcwX",
        "colab_type": "text"
      },
      "cell_type": "markdown",
      "source": [
        "**Data Normalization**"
      ]
    },
    {
      "metadata": {
        "id": "upBcB53VIcwY",
        "colab_type": "code",
        "colab": {}
      },
      "cell_type": "code",
      "source": [
        "normalization_type = 'zScore'"
      ],
      "execution_count": 0,
      "outputs": []
    },
    {
      "metadata": {
        "id": "DJmUHlh5Icwb",
        "colab_type": "code",
        "colab": {
          "base_uri": "https://localhost:8080/",
          "height": 34
        },
        "outputId": "bea7b1c8-bd3a-4379-c563-c8d1e46a9c75"
      },
      "cell_type": "code",
      "source": [
        "print('Normalization type: {}'.format(normalization_type))\n",
        "\n",
        "if normalization_type == 'minMax':\n",
        "    scaler = MinMaxScaler()\n",
        "    \n",
        "elif normalization_type == 'zScore':        \n",
        "    scaler =  StandardScaler()"
      ],
      "execution_count": 105,
      "outputs": [
        {
          "output_type": "stream",
          "text": [
            "Normalization type: zScore\n"
          ],
          "name": "stdout"
        }
      ]
    },
    {
      "metadata": {
        "id": "UXsjJ3VFIcwe",
        "colab_type": "code",
        "colab": {}
      },
      "cell_type": "code",
      "source": [
        "## data normalization\n",
        "X_train = scaler.fit_transform(X_train)\n",
        "X_valid = scaler.transform(X_valid)\n",
        "X_test = scaler.transform(X_test)   "
      ],
      "execution_count": 0,
      "outputs": []
    },
    {
      "metadata": {
        "id": "dSUkzoqTIcwg",
        "colab_type": "text"
      },
      "cell_type": "markdown",
      "source": [
        "**Define regression model**"
      ]
    },
    {
      "metadata": {
        "id": "QsCpXLaCIcwh",
        "colab_type": "code",
        "colab": {}
      },
      "cell_type": "code",
      "source": [
        "boost_params = {'eval_metric': 'rmse'}\n",
        "\n",
        "model_xgb = xgb.XGBRegressor(\n",
        "    max_depth=10, learning_rate=0.01,\n",
        "    n_estimators=1000, objective='reg:linear',\n",
        "    gamma=0, min_child_weight=1,\n",
        "    subsample=1, colsample_bytree=1,\n",
        "    scale_pos_weight=1, seed=27,\n",
        "    **boost_params)"
      ],
      "execution_count": 0,
      "outputs": []
    },
    {
      "metadata": {
        "id": "MmqbgbgEVHis",
        "colab_type": "code",
        "colab": {}
      },
      "cell_type": "code",
      "source": [
        "model_lgb = lgb.LGBMRegressor(objective='regression',num_leaves=15,\n",
        "                              learning_rate=0.05, n_estimators=1000,\n",
        "                              max_bin = 55, bagging_fraction = 0.8,\n",
        "                              bagging_freq = 5, feature_fraction = 0.2319,\n",
        "                              feature_fraction_seed=9, bagging_seed=9,\n",
        "                              min_data_in_leaf =6, min_sum_hessian_in_leaf = 11)"
      ],
      "execution_count": 0,
      "outputs": []
    },
    {
      "metadata": {
        "id": "PBV9JJvTVtc3",
        "colab_type": "code",
        "colab": {}
      },
      "cell_type": "code",
      "source": [
        "class AveragingModels():\n",
        "    def __init__(self, models):\n",
        "        self.models = models\n",
        "        \n",
        "    def fit(self, X, y):\n",
        "        self.models_ = [clone(x) for x in self.models]\n",
        "        \n",
        "        # Train cloned base models\n",
        "        for model in self.models_:\n",
        "            model.fit(X, y)\n",
        "        return self\n",
        "    \n",
        "    def predict(self, X):\n",
        "        predictions = np.column_stack([\n",
        "            model.predict(X) for model in self.models_\n",
        "        ])\n",
        "        return np.median(predictions, axis=1)   "
      ],
      "execution_count": 0,
      "outputs": []
    },
    {
      "metadata": {
        "id": "oiAA8_r0Vtsj",
        "colab_type": "code",
        "colab": {}
      },
      "cell_type": "code",
      "source": [
        "averaged_models = AveragingModels(models = [model_xgb, model_lgb])"
      ],
      "execution_count": 0,
      "outputs": []
    },
    {
      "metadata": {
        "id": "kN7ozl76Vtwj",
        "colab_type": "code",
        "colab": {
          "base_uri": "https://localhost:8080/",
          "height": 34
        },
        "outputId": "d8349752-2469-49ee-961f-ded4b355b63b"
      },
      "cell_type": "code",
      "source": [
        "averaged_models.fit(X_train, y_train)"
      ],
      "execution_count": 117,
      "outputs": [
        {
          "output_type": "execute_result",
          "data": {
            "text/plain": [
              "<__main__.AveragingModels at 0x7febab324b38>"
            ]
          },
          "metadata": {
            "tags": []
          },
          "execution_count": 117
        }
      ]
    },
    {
      "metadata": {
        "id": "QhhAl_7iYpaZ",
        "colab_type": "code",
        "colab": {}
      },
      "cell_type": "code",
      "source": [
        "def plot_features_importance(cols, importance, most_important = 40):\n",
        "\n",
        "    df = pd.DataFrame({'cols':cols, 'imp':importance}\n",
        "                       ).sort_values('imp', ascending=False)\n",
        "    df[:most_important].plot('cols', 'imp', 'barh', figsize=(12,7), legend=False)"
      ],
      "execution_count": 0,
      "outputs": []
    },
    {
      "metadata": {
        "id": "b3dqpERSZ27O",
        "colab_type": "code",
        "colab": {}
      },
      "cell_type": "code",
      "source": [
        "#plot_features_importance(df_train.columns[2:], model.feature_importances_)"
      ],
      "execution_count": 0,
      "outputs": []
    },
    {
      "metadata": {
        "id": "_eb86WfWIcwo",
        "colab_type": "text"
      },
      "cell_type": "markdown",
      "source": [
        "**Model's evaluation**"
      ]
    },
    {
      "metadata": {
        "id": "EpoKWmuddO-B",
        "colab_type": "code",
        "colab": {}
      },
      "cell_type": "code",
      "source": [
        "#from https://www.kaggle.com/marknagelberg/rmsle-function\n",
        "\n",
        "def rmsle(y_pred, y):\n",
        "\tassert len(y) == len(y_pred)\n",
        "\tterms_to_sum = [(math.log(y_pred[i] + 1) - math.log(y[i] + 1)) ** 2.0 for i,pred in enumerate(y_pred)]\n",
        "\treturn (sum(terms_to_sum) * (1.0/len(y))) ** 0.5"
      ],
      "execution_count": 0,
      "outputs": []
    },
    {
      "metadata": {
        "id": "iUAqDjB2Icwp",
        "colab_type": "code",
        "colab": {}
      },
      "cell_type": "code",
      "source": [
        "def evaluate_regression(ypred, ytrue):\n",
        "    mse_eval = mse(ypred, ytrue)\n",
        "    mae_eval = mae(ypred, ytrue)\n",
        "    rmsle_eval = rmsle(ypred, ytrue)\n",
        "    \n",
        "    print('Mean Squared Error: {}'.format(mse_eval))\n",
        "    print('Mean Absolute Error: {}'.format(mae_eval))\n",
        "    print('Root Mean Squared Logarithmic Error: {}'.format(rmsle_eval))"
      ],
      "execution_count": 0,
      "outputs": []
    },
    {
      "metadata": {
        "id": "ycuCmIlpIcws",
        "colab_type": "code",
        "colab": {
          "base_uri": "https://localhost:8080/",
          "height": 68
        },
        "outputId": "10e646f3-13aa-4e17-ee01-24591818805c"
      },
      "cell_type": "code",
      "source": [
        "ypred_train = averaged_models.predict(X_train)\n",
        "evaluate_regression(ypred_train, y_train)"
      ],
      "execution_count": 122,
      "outputs": [
        {
          "output_type": "stream",
          "text": [
            "Mean Squared Error: 0.6841092130590777\n",
            "Mean Absolute Error: 0.5324019589167557\n",
            "Root Mean Squared Logarithmic Error: 0.05565167323377451\n"
          ],
          "name": "stdout"
        }
      ]
    },
    {
      "metadata": {
        "id": "4w4-7NxxIcww",
        "colab_type": "code",
        "colab": {}
      },
      "cell_type": "code",
      "source": [
        "def generate_submission(ID, ypred):\n",
        "    \n",
        "    now = datetime.datetime.now()\n",
        "    if not os.path.isdir('subm'):\n",
        "        os.mkdir('subm')\n",
        "    suffix = str(now.strftime(\"%Y-%m-%d-%H-%M\"))\n",
        "    sub_file = os.path.join('subm', 'submission_' + suffix + '.csv')\n",
        "    sub = pd.DataFrame({'ID': ID})\n",
        "    sub['target'] = ypred\n",
        "\n",
        "    sub.to_csv(sub_file, index=False)\n",
        "    print('Submission File saved: {}'.format(sub_file))"
      ],
      "execution_count": 0,
      "outputs": []
    },
    {
      "metadata": {
        "id": "XAAHg_SzIcwz",
        "colab_type": "code",
        "colab": {}
      },
      "cell_type": "code",
      "source": [
        "ypred_test = averaged_models.predict(X_test)\n",
        "ypred_test = np.expm1( ypred_test )"
      ],
      "execution_count": 0,
      "outputs": []
    },
    {
      "metadata": {
        "id": "7Ngq5lTcIcw3",
        "colab_type": "code",
        "colab": {
          "base_uri": "https://localhost:8080/",
          "height": 34
        },
        "outputId": "60dd8250-8c78-4f17-a2cd-31a1e718c1cb"
      },
      "cell_type": "code",
      "source": [
        "generate_submission(IdTest, ypred_test)"
      ],
      "execution_count": 125,
      "outputs": [
        {
          "output_type": "stream",
          "text": [
            "Submission File saved: subm/submission_2018-07-18-01-46.csv\n"
          ],
          "name": "stdout"
        }
      ]
    },
    {
      "metadata": {
        "id": "cHOCgAA8babg",
        "colab_type": "code",
        "colab": {
          "base_uri": "https://localhost:8080/",
          "height": 204
        },
        "outputId": "fe2e5989-de5e-4de0-f35f-32637ef74525"
      },
      "cell_type": "code",
      "source": [
        "df_submission = pd.read_csv('subm/submission_2018-07-18-01-46.csv')\n",
        "df_submission.head()"
      ],
      "execution_count": 127,
      "outputs": [
        {
          "output_type": "execute_result",
          "data": {
            "text/html": [
              "<div>\n",
              "<style scoped>\n",
              "    .dataframe tbody tr th:only-of-type {\n",
              "        vertical-align: middle;\n",
              "    }\n",
              "\n",
              "    .dataframe tbody tr th {\n",
              "        vertical-align: top;\n",
              "    }\n",
              "\n",
              "    .dataframe thead th {\n",
              "        text-align: right;\n",
              "    }\n",
              "</style>\n",
              "<table border=\"1\" class=\"dataframe\">\n",
              "  <thead>\n",
              "    <tr style=\"text-align: right;\">\n",
              "      <th></th>\n",
              "      <th>ID</th>\n",
              "      <th>target</th>\n",
              "    </tr>\n",
              "  </thead>\n",
              "  <tbody>\n",
              "    <tr>\n",
              "      <th>0</th>\n",
              "      <td>000137c73</td>\n",
              "      <td>1.724120e+06</td>\n",
              "    </tr>\n",
              "    <tr>\n",
              "      <th>1</th>\n",
              "      <td>00021489f</td>\n",
              "      <td>1.919486e+06</td>\n",
              "    </tr>\n",
              "    <tr>\n",
              "      <th>2</th>\n",
              "      <td>0004d7953</td>\n",
              "      <td>3.199649e+06</td>\n",
              "    </tr>\n",
              "    <tr>\n",
              "      <th>3</th>\n",
              "      <td>00056a333</td>\n",
              "      <td>5.707595e+06</td>\n",
              "    </tr>\n",
              "    <tr>\n",
              "      <th>4</th>\n",
              "      <td>00056d8eb</td>\n",
              "      <td>1.919486e+06</td>\n",
              "    </tr>\n",
              "  </tbody>\n",
              "</table>\n",
              "</div>"
            ],
            "text/plain": [
              "          ID        target\n",
              "0  000137c73  1.724120e+06\n",
              "1  00021489f  1.919486e+06\n",
              "2  0004d7953  3.199649e+06\n",
              "3  00056a333  5.707595e+06\n",
              "4  00056d8eb  1.919486e+06"
            ]
          },
          "metadata": {
            "tags": []
          },
          "execution_count": 127
        }
      ]
    },
    {
      "metadata": {
        "id": "vpMK0hLNLC1m",
        "colab_type": "code",
        "colab": {
          "base_uri": "https://localhost:8080/",
          "height": 34
        },
        "outputId": "5b68917f-0aa7-4b3c-d661-add9808a4f21"
      },
      "cell_type": "code",
      "source": [
        "!kaggle competitions submit -c santander-value-prediction-challenge -f \"subm/submission_2018-07-18-01-46.csv\" -m \"averaging_2018-07-18-01-46\""
      ],
      "execution_count": 128,
      "outputs": [
        {
          "output_type": "stream",
          "text": [
            "Successfully submitted to Santander Value Prediction Challenge"
          ],
          "name": "stdout"
        }
      ]
    },
    {
      "metadata": {
        "id": "ZthIA-P8wJNW",
        "colab_type": "code",
        "colab": {}
      },
      "cell_type": "code",
      "source": [
        ""
      ],
      "execution_count": 0,
      "outputs": []
    }
  ]
}