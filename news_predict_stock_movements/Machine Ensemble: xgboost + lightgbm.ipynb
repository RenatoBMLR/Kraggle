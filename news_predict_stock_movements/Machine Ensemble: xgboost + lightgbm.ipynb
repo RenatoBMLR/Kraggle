{
  "cells": [
    {
      "metadata": {
        "_uuid": "8f2839f25d086af736a60e9eeb907d3b93b6e0e5",
        "_cell_guid": "b1076dfc-b9ad-4769-8c92-a6c4dae69d19",
        "trusted": true
      },
      "cell_type": "code",
      "source": "import multiprocessing\nfrom kaggle.competitions import twosigmanews\n\n\nimport pandas as pd\n\nimport numpy as np\nimport pandas as pd\nfrom sklearn.model_selection import GridSearchCV, train_test_split\nimport xgboost as xgb\nimport lightgbm as lgb\n\nimport matplotlib.pyplot as plt\n",
      "execution_count": 1,
      "outputs": []
    },
    {
      "metadata": {
        "_cell_guid": "79c7e3d0-c299-4dcb-8224-4455121ee9b0",
        "_uuid": "d629ff2d2480ee46fbb7e2d37f6b5fab8052498a",
        "trusted": true
      },
      "cell_type": "code",
      "source": "cpu_count = 2*multiprocessing.cpu_count()-1\nprint('Number of CPUs: {}'.format(cpu_count))",
      "execution_count": 2,
      "outputs": [
        {
          "output_type": "stream",
          "text": "Number of CPUs: 7\n",
          "name": "stdout"
        }
      ]
    },
    {
      "metadata": {
        "trusted": true,
        "_uuid": "338e2e4fcde88109b0c79af1f7a4ffb973f3d02a",
        "_kg_hide-input": false,
        "_kg_hide-output": true
      },
      "cell_type": "code",
      "source": "env = twosigmanews.make_env()\nprint('Done!')",
      "execution_count": 3,
      "outputs": [
        {
          "output_type": "stream",
          "text": "Loading the data... This could take a minute.\nDone!\n",
          "name": "stdout"
        }
      ]
    },
    {
      "metadata": {
        "trusted": true,
        "_uuid": "255498171145ed77273e30cc10b86ad607c030ff"
      },
      "cell_type": "code",
      "source": "(market_train_df, news_train_df) = env.get_training_data()",
      "execution_count": 4,
      "outputs": []
    },
    {
      "metadata": {
        "trusted": true,
        "_uuid": "30986c7b1748394691d7ea619c46386b660faaf5"
      },
      "cell_type": "code",
      "source": "time = market_train_df['time']\nuniverse = market_train_df['universe']",
      "execution_count": 5,
      "outputs": []
    },
    {
      "metadata": {
        "trusted": true,
        "_uuid": "39f2d466593f4c790c6a34831ef97432adbb6d9a"
      },
      "cell_type": "code",
      "source": "market_train_df.shape, news_train_df.shape",
      "execution_count": 6,
      "outputs": [
        {
          "output_type": "execute_result",
          "execution_count": 6,
          "data": {
            "text/plain": "((4072956, 16), (9328750, 35))"
          },
          "metadata": {}
        }
      ]
    },
    {
      "metadata": {
        "trusted": true,
        "_uuid": "cf548b8d3d83282d5a08de8293fcc1f5ebfa210e"
      },
      "cell_type": "code",
      "source": "universe = market_train_df['universe']\ntime = market_train_df['time']",
      "execution_count": 7,
      "outputs": []
    },
    {
      "metadata": {
        "trusted": true,
        "_uuid": "90bc31b4419b16f6b19a627fb37eba2b497aab72"
      },
      "cell_type": "code",
      "source": "def create_time_features(market_train_df, news_train_df):\n    \n    market_train_df['hour'] = market_train_df.time.dt.hour\n    market_train_df['month'] = market_train_df.time.dt.month\n    market_train_df['dayofweek'] = market_train_df.time.dt.dayofweek\n    \n    market_train_df.time = market_train_df.time.dt.date\n\n    news_train_df.firstCreated = news_train_df.firstCreated.dt.date\n    del news_train_df['time'], news_train_df['sourceTimestamp']\n    return market_train_df, news_train_df",
      "execution_count": 8,
      "outputs": []
    },
    {
      "metadata": {
        "trusted": true,
        "_uuid": "b3154773725c7dd908891490f3207a5b242a83d7"
      },
      "cell_type": "code",
      "source": "def join_news_market(market_train_df, news_train_df):\n\n    news_train_df = news_train_df.groupby(['firstCreated', 'assetCodes'], as_index=False).mean()\n    market_train_df = pd.merge(market_train_df, news_train_df, how='left', left_on=['time', 'assetCode'], right_on=['firstCreated', 'assetCodes'])\n    \n    return market_train_df, news_train_df",
      "execution_count": 9,
      "outputs": []
    },
    {
      "metadata": {
        "trusted": true,
        "_uuid": "6f19d6b49bc0f3ed3271de0bb39b9cfc365fbd44"
      },
      "cell_type": "code",
      "source": "market_train_df, news_train_df = create_time_features(market_train_df, news_train_df) \nnews_train_df['assetCodes'] = news_train_df['assetCodes'].map(lambda x: list(eval(x))[0])\n    \nmarket_train_df, news_train_df = join_news_market(market_train_df, news_train_df)",
      "execution_count": 10,
      "outputs": []
    },
    {
      "metadata": {
        "trusted": true,
        "_uuid": "b4394140f3e0e4ff2cced710fe3668b733c1bcba"
      },
      "cell_type": "code",
      "source": "market_train_df.shape, news_train_df.shape",
      "execution_count": 11,
      "outputs": [
        {
          "output_type": "execute_result",
          "execution_count": 11,
          "data": {
            "text/plain": "((4072956, 45), (2222939, 26))"
          },
          "metadata": {}
        }
      ]
    },
    {
      "metadata": {
        "trusted": true,
        "_uuid": "a393f58ed6e08ae05661f75b404e40376268a5e7"
      },
      "cell_type": "code",
      "source": "market_train_df.info()",
      "execution_count": 12,
      "outputs": [
        {
          "output_type": "stream",
          "text": "<class 'pandas.core.frame.DataFrame'>\nInt64Index: 4072956 entries, 0 to 4072955\nData columns (total 45 columns):\ntime                        object\nassetCode                   object\nassetName                   category\nvolume                      float64\nclose                       float64\nopen                        float64\nreturnsClosePrevRaw1        float64\nreturnsOpenPrevRaw1         float64\nreturnsClosePrevMktres1     float64\nreturnsOpenPrevMktres1      float64\nreturnsClosePrevRaw10       float64\nreturnsOpenPrevRaw10        float64\nreturnsClosePrevMktres10    float64\nreturnsOpenPrevMktres10     float64\nreturnsOpenNextMktres10     float64\nuniverse                    float64\nhour                        int64\nmonth                       int64\ndayofweek                   int64\nfirstCreated                object\nassetCodes                  object\nurgency                     float64\ntakeSequence                float64\nbodySize                    float64\ncompanyCount                float64\nmarketCommentary            float64\nsentenceCount               float64\nwordCount                   float64\nfirstMentionSentence        float64\nrelevance                   float32\nsentimentClass              float64\nsentimentNegative           float32\nsentimentNeutral            float32\nsentimentPositive           float32\nsentimentWordCount          float64\nnoveltyCount12H             float64\nnoveltyCount24H             float64\nnoveltyCount3D              float64\nnoveltyCount5D              float64\nnoveltyCount7D              float64\nvolumeCounts12H             float64\nvolumeCounts24H             float64\nvolumeCounts3D              float64\nvolumeCounts5D              float64\nvolumeCounts7D              float64\ndtypes: category(1), float32(4), float64(33), int64(3), object(4)\nmemory usage: 1.3+ GB\n",
          "name": "stdout"
        }
      ]
    },
    {
      "metadata": {
        "trusted": true,
        "_uuid": "b34235fa9b077f8a990506cca753349c2e6d3c23"
      },
      "cell_type": "code",
      "source": "def get_x(market_train_df):\n    exclude_col = ['assetName', 'time_y', 'time_x', 'firstCreated', \n                   'universe', 'time', 'assetCode', 'assetCodes']\n\n    cols = [col for col in market_train_df.columns if col not in exclude_col]\n    X = market_train_df[cols]\n    return X",
      "execution_count": 13,
      "outputs": []
    },
    {
      "metadata": {
        "trusted": true,
        "_uuid": "8341d6cc3ad5127b6eb29c0d0d81057456affb3a"
      },
      "cell_type": "code",
      "source": "def get_data(market_train_df):\n\n    r = market_train_df.returnsOpenNextMktres10\n    y = market_train_df.returnsOpenNextMktres10 >=0\n    \n    X = get_x(market_train_df)\n\n    return X, y, r",
      "execution_count": 16,
      "outputs": []
    },
    {
      "metadata": {
        "trusted": true,
        "_uuid": "d7e6f5f326d7204dc43a9dd31fb48312a69ed1f7"
      },
      "cell_type": "code",
      "source": "X, y, r = get_data(market_train_df)",
      "execution_count": 17,
      "outputs": []
    },
    {
      "metadata": {
        "trusted": true,
        "_uuid": "4425aebcbc6b1b72c0500331d2266f22e3fb571c"
      },
      "cell_type": "code",
      "source": "X_train, X_Val, y_train, y_Val, r_train, r_valid = train_test_split(X, y, r, \n                                                                    test_size=0.2,\n                                                                    random_state=42)",
      "execution_count": 18,
      "outputs": []
    },
    {
      "metadata": {
        "trusted": true,
        "_uuid": "3142660bc6dca338fcb87a6f760847c46db180c8"
      },
      "cell_type": "code",
      "source": "xgb_params = {'n_jobs':4,\n              'n_estimators':300,\n              'max_depth':8,\n              'eta':0.2}",
      "execution_count": 19,
      "outputs": []
    },
    {
      "metadata": {
        "trusted": true,
        "_uuid": "20d691728c4d3023bae817dca5fb11492fc5e9d4"
      },
      "cell_type": "code",
      "source": "model_xgb = xgb.XGBClassifier(**xgb_params)",
      "execution_count": 20,
      "outputs": []
    },
    {
      "metadata": {
        "trusted": true,
        "_uuid": "b3106b0e5d9b565e3cac62e76205af8f57db460d"
      },
      "cell_type": "code",
      "source": "model_xgb.fit(X_train, y_train, \n              eval_set=[(X_train, y_train), (X_Val, y_Val)],\n              eval_metric='logloss',\n              early_stopping_rounds = 3,\n              verbose=True)",
      "execution_count": null,
      "outputs": []
    },
    {
      "metadata": {
        "trusted": true,
        "_uuid": "68dc84451a81ca9d4310a9d71deeae304253eb6c"
      },
      "cell_type": "code",
      "source": "days = env.get_prediction_days()\n\nfor (market_obs_df, news_obs_df, predictions_template_df) in days:\n    \n    market_obs_df, news_obs_df = create_time_features(market_obs_df, news_obs_df) \n    news_obs_df['assetCodes'] = news_obs_df['assetCodes'].map(lambda x: list(eval(x))[0])\n\n    market_obs_df, news_obs_df = join_news_market(market_obs_df, news_obs_df)\n\n    X = get_x(market_obs_df)\n    predictions_template_df.confidenceValue = np.clip(model_xgb.predict(x), -1, 1)\n    \n    env.predict(predictions_template_df)",
      "execution_count": null,
      "outputs": []
    },
    {
      "metadata": {
        "trusted": true,
        "_uuid": "3928e826ff813c9c4f17697d3c5afb810a22f14b"
      },
      "cell_type": "code",
      "source": "'''\ndtrain = lgb.Dataset(X_train.values, y_train, feature_name=X_train.columns, categorical_feature=[], free_raw_data=False)\ndvalid = lgb.Dataset(X_Val.values, y_Val, feature_name=X_Val.columns, categorical_feature=[], free_raw_data=False)\n\nlgb_params =dict(\nobjective = 'regression_l1',\n    learning_rate = 0.1,\n    num_leaves = 127,\n    max_depth = -1,\n#     min_data_in_leaf = 1000,\n#     min_sum_hessian_in_leaf = 10,\n    bagging_fraction = 0.75,\n    bagging_freq = 2,\n    feature_fraction = 0.5,\n    lambda_l1 = 0.0,\n    lambda_l2 = 1.0,\n    seed = 42 # Change for better luck! \n)\n\n# Fit the best algorithm to the data. \nevals_result = {}\n\nlgb_model = lgb.train(lgb_params, dtrain, num_boost_round=1000, valid_sets=(dvalid,), valid_names=('valid',), verbose_eval=25)\n\n\n# prediction\nlgb_predictions = lgb_model.predict(X_Val)\n'''",
      "execution_count": null,
      "outputs": []
    },
    {
      "metadata": {
        "trusted": true,
        "_uuid": "89147b799cabe131fe91d10ecf4ef82180b8dcf2"
      },
      "cell_type": "code",
      "source": "'''\nparams = {\n        'min_child_weight': [1, 5],\n        'gamma': [0.5, 1],\n        'subsample': [0.8, 1.0],\n        'colsample_bytree': [0.6, 1.0],\n        'max_depth': [4, 5]\n        }\n\n# Initialize XGB and GridSearch\nxgb_model = xgb.XGBRegressor()\n\ngrid = GridSearchCV(xgb_model, params, n_jobs=multiprocessing.cpu_count(), verbose=10, cv=3)\ngrid.fit(X, y)\n# Set the clf to the best combination of parameters\nxgb_model = grid.best_estimator_\nprint(xgb_model)\nxgb.plot_importance(model)\n# Fit the best algorithm to the data. \nxgb_model.fit(X, y)\n# prediction\nxgb_predictions = xgb_model.predict(X_val)\n'''",
      "execution_count": null,
      "outputs": []
    },
    {
      "metadata": {
        "trusted": true,
        "_uuid": "4bb69ed1fa6c958354157c3aa30d616ff4941794"
      },
      "cell_type": "code",
      "source": "'''\nplt.figure(figsize=(20,5))\n\nplt.subplot(1,2,1)\nplt.plot(lgb_predictions[:100], 'b', label='predicted')\nplt.plot(y_Val[:100], 'r', label='True')\nplt.legend()\nplt.title('Prediction using lightgbm', fontsize=20)\n\nplt.subplot(1,2,2)\nplt.plot(lgb_predictions[:100], 'b', label='predicted')\nplt.plot(y_Val[:100], 'r', label='True')\nplt.legend()\nplt.title('Prediction using xgboost', fontsize=20)\n'''",
      "execution_count": null,
      "outputs": []
    },
    {
      "metadata": {
        "trusted": true,
        "_uuid": "eeab6f22f394abc32cafef3fff98c5ced3b3a741"
      },
      "cell_type": "code",
      "source": "#missing ensemble",
      "execution_count": null,
      "outputs": []
    },
    {
      "metadata": {
        "trusted": true,
        "_uuid": "07b5e79dee0dedcef5518d806ffab1dfe22b1ff9"
      },
      "cell_type": "code",
      "source": "",
      "execution_count": null,
      "outputs": []
    },
    {
      "metadata": {
        "trusted": true,
        "_uuid": "c7636869f9d8e85282c9413917d9cef39e7383d0"
      },
      "cell_type": "code",
      "source": "",
      "execution_count": null,
      "outputs": []
    },
    {
      "metadata": {
        "trusted": true,
        "_uuid": "f4a74fb2bca607b30ca970a0650b863720694fcb"
      },
      "cell_type": "code",
      "source": "\n",
      "execution_count": null,
      "outputs": []
    },
    {
      "metadata": {
        "trusted": true,
        "_uuid": "bb2f6232e0874564bb20db3e551c0edf06c7e418"
      },
      "cell_type": "code",
      "source": "",
      "execution_count": null,
      "outputs": []
    }
  ],
  "metadata": {
    "kernelspec": {
      "display_name": "Python 3",
      "language": "python",
      "name": "python3"
    },
    "language_info": {
      "name": "python",
      "version": "3.6.6",
      "mimetype": "text/x-python",
      "codemirror_mode": {
        "name": "ipython",
        "version": 3
      },
      "pygments_lexer": "ipython3",
      "nbconvert_exporter": "python",
      "file_extension": ".py"
    }
  },
  "nbformat": 4,
  "nbformat_minor": 1
}