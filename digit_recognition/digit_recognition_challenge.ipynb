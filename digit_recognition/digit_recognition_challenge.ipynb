{
 "cells": [
  {
   "cell_type": "code",
   "execution_count": 119,
   "metadata": {},
   "outputs": [],
   "source": [
    "from keras.models import Sequential\n",
    "from keras.utils import np_utils\n",
    "from keras.layers.core import Dense, Activation, Dropout, Flatten\n",
    "from keras.layers import Conv2D, MaxPooling2D\n",
    "from keras.optimizers import Adadelta\n",
    "\n",
    "import pandas as pd\n",
    "import numpy as np\n",
    "import matplotlib.pyplot as plt\n",
    "%matplotlib inline"
   ]
  },
  {
   "cell_type": "code",
   "execution_count": 120,
   "metadata": {
    "collapsed": true
   },
   "outputs": [],
   "source": [
    "def generate_output(preds, filename):\n",
    "    df = pd.DataFrame({\"ImageId\": list(range(1,len(preds)+1)), \"Label\": preds})\n",
    "    df.to_csv(filename + '.csv', index=False, header=True)"
   ]
  },
  {
   "cell_type": "code",
   "execution_count": 121,
   "metadata": {
    "collapsed": true
   },
   "outputs": [],
   "source": [
    "def normalize_image(X):\n",
    "    return X/255"
   ]
  },
  {
   "cell_type": "code",
   "execution_count": 122,
   "metadata": {
    "collapsed": true
   },
   "outputs": [],
   "source": [
    "def densenet():\n",
    "    model = Sequential()\n",
    "    model.add(Dense(128, input_dim=input_dim, kernel_initializer='lecun_uniform'))\n",
    "    model.add(Activation('sigmoid'))\n",
    "    model.add(Dropout(0.5))\n",
    "    model.add(Dense(128, input_dim=128, kernel_initializer='lecun_uniform'))\n",
    "    model.add(Activation('sigmoid'))\n",
    "    model.add(Dropout(0.5))\n",
    "    model.add(Dense(nb_classes, input_dim=128, kernel_initializer='lecun_uniform'))\n",
    "    model.add(Activation('sigmoid'))\n",
    "    model.compile(loss='mse', optimizer='rmsprop')\n",
    "    return model"
   ]
  },
  {
   "cell_type": "code",
   "execution_count": 123,
   "metadata": {
    "collapsed": true
   },
   "outputs": [],
   "source": [
    "def convnet():\n",
    "\n",
    "    model = Sequential()\n",
    "    model.add(Conv2D(32, kernel_size=(3, 3), activation='relu', input_shape=(28, 28, 1)))\n",
    "    model.add(MaxPooling2D(pool_size=(2, 2)))\n",
    "    model.add(Dropout(0.25))\n",
    "    model.add(Flatten())\n",
    "    model.add(Dense(128, activation='relu'))\n",
    "    model.add(Dropout(0.5))\n",
    "    model.add(Dense(nb_classes, activation='softmax'))\n",
    "    model.compile(loss=keras.losses.categorical_crossentropy, optimizer=Adadelta(),\n",
    "    metrics=['accuracy'])\n",
    "    return model "
   ]
  },
  {
   "cell_type": "code",
   "execution_count": 124,
   "metadata": {
    "collapsed": true
   },
   "outputs": [],
   "source": [
    "# Read data\n",
    "train = pd.read_csv('data/train.csv')\n",
    "labels = train.iloc[:,0].values.astype('int32')\n",
    "X_train = (train.iloc[:,1:].values).astype('float32')\n",
    "X_test = (pd.read_csv('data/test.csv').values).astype('float32')"
   ]
  },
  {
   "cell_type": "code",
   "execution_count": 125,
   "metadata": {},
   "outputs": [
    {
     "data": {
      "image/png": "[encoded data removed]",
      "text/plain": [
       "<matplotlib.figure.Figure at 0x124a910d0>"
      ]
     },
     "metadata": {},
     "output_type": "display_data"
    }
   ],
   "source": [
    "plt.figure(figsize=(20,5))\n",
    "for i in range(0, 10):\n",
    "    ind = np.where(labels==i)[0][0]\n",
    "    digit = X_train[ind,:].reshape(28,28)\n",
    "    plt.subplot(2,5,i+1)\n",
    "    plt.imshow(digit, cmap=plt.cm.gray_r)\n",
    "    plt.axis('off')"
   ]
  },
  {
   "cell_type": "code",
   "execution_count": 126,
   "metadata": {},
   "outputs": [
    {
     "data": {
      "image/png": "[encoded data removed]",
      "text/plain": [
       "<matplotlib.figure.Figure at 0x134e12c90>"
      ]
     },
     "metadata": {},
     "output_type": "display_data"
    }
   ],
   "source": [
    "plt.figure(figsize=(15,5))\n",
    "for i in range(0, 6):\n",
    "    ind = np.where(labels==8)[0][i]\n",
    "    digit = X_train[ind,:].reshape(28,28)\n",
    "    plt.subplot(1,6,i+1)\n",
    "    plt.imshow(digit, cmap=plt.cm.gray_r)\n",
    "    plt.axis('off')"
   ]
  },
  {
   "cell_type": "code",
   "execution_count": 127,
   "metadata": {
    "collapsed": true
   },
   "outputs": [],
   "source": [
    "# convert list of labels to binary class matrix\n",
    "y_train = np_utils.to_categorical(labels) \n",
    "\n",
    "X_train= normalize_image(X_train)\n",
    "X_test= normalize_image(X_test)\n",
    "\n",
    "input_dim = X_train.shape[1]\n",
    "nb_classes = y_train.shape[1]    "
   ]
  },
  {
   "cell_type": "code",
   "execution_count": 128,
   "metadata": {
    "collapsed": true
   },
   "outputs": [],
   "source": [
    "img_rows=28\n",
    "img_cols=28\n",
    "X_train = X_train.reshape(X_train.shape[0], img_rows, img_cols, 1)\n",
    "X_test = X_test.reshape(X_test.shape[0], img_rows, img_cols, 1)"
   ]
  },
  {
   "cell_type": "code",
   "execution_count": 129,
   "metadata": {},
   "outputs": [],
   "source": [
    "convnet = convnet()"
   ]
  },
  {
   "cell_type": "code",
   "execution_count": 130,
   "metadata": {},
   "outputs": [
    {
     "name": "stdout",
     "output_type": "stream",
     "text": [
      "Training convnet...\n",
      "Epoch 1/15\n",
      "42000/42000 [==============================] - 61s - loss: 0.4077 - acc: 0.8760    \n",
      "Epoch 2/15\n",
      "42000/42000 [==============================] - 68s - loss: 0.2024 - acc: 0.9416    \n",
      "Epoch 3/15\n",
      "42000/42000 [==============================] - 63s - loss: 0.1487 - acc: 0.9560    \n",
      "Epoch 4/15\n",
      "42000/42000 [==============================] - 63s - loss: 0.1285 - acc: 0.9628    \n",
      "Epoch 5/15\n",
      "42000/42000 [==============================] - 59s - loss: 0.1137 - acc: 0.9668    \n",
      "Epoch 6/15\n",
      "42000/42000 [==============================] - 57s - loss: 0.1039 - acc: 0.9695    \n",
      "Epoch 7/15\n",
      "42000/42000 [==============================] - 55s - loss: 0.0978 - acc: 0.9710    \n",
      "Epoch 8/15\n",
      "42000/42000 [==============================] - 54s - loss: 0.0943 - acc: 0.9723    \n",
      "Epoch 9/15\n",
      "42000/42000 [==============================] - 55s - loss: 0.0911 - acc: 0.9729    \n",
      "Epoch 10/15\n",
      "42000/42000 [==============================] - 54s - loss: 0.0907 - acc: 0.9739    \n",
      "Epoch 11/15\n",
      "42000/42000 [==============================] - 60s - loss: 0.0883 - acc: 0.9739    \n",
      "Epoch 12/15\n",
      "42000/42000 [==============================] - 58s - loss: 0.0894 - acc: 0.9737    \n",
      "Epoch 13/15\n",
      "42000/42000 [==============================] - 63s - loss: 0.0889 - acc: 0.9748    \n",
      "Epoch 14/15\n",
      "42000/42000 [==============================] - 59s - loss: 0.0877 - acc: 0.9748    \n",
      "Epoch 15/15\n",
      "42000/42000 [==============================] - 63s - loss: 0.0865 - acc: 0.9755    \n"
     ]
    },
    {
     "data": {
      "text/plain": [
       "<keras.callbacks.History at 0x124eed690>"
      ]
     },
     "execution_count": 130,
     "metadata": {},
     "output_type": "execute_result"
    }
   ],
   "source": [
    "print(\"Training convnet...\")\n",
    "convnet.fit(X_train, y_train, nb_epoch=15, batch_size=16, verbose=1)"
   ]
  },
  {
   "cell_type": "code",
   "execution_count": 131,
   "metadata": {},
   "outputs": [
    {
     "name": "stdout",
     "output_type": "stream",
     "text": [
      "Generating test predictions for convnet...\n"
     ]
    }
   ],
   "source": [
    "print(\"Generating test predictions for convnet...\")\n",
    "convnet_preds = convnet.predict_classes(X_test, verbose=0)\n",
    "generate_output(convnet_preds, \"convnet_digit_recogition\")"
   ]
  },
  {
   "cell_type": "code",
   "execution_count": 132,
   "metadata": {
    "collapsed": true
   },
   "outputs": [],
   "source": [
    "densenet = densenet()"
   ]
  },
  {
   "cell_type": "code",
   "execution_count": 134,
   "metadata": {
    "collapsed": true
   },
   "outputs": [],
   "source": [
    "X_train = X_train.reshape(X_train.shape[0], img_rows*img_cols)\n",
    "X_test = X_test.reshape(X_test.shape[0], img_rows*img_cols)"
   ]
  },
  {
   "cell_type": "code",
   "execution_count": 135,
   "metadata": {},
   "outputs": [
    {
     "name": "stdout",
     "output_type": "stream",
     "text": [
      "Training densenet...\n",
      "Epoch 1/15\n",
      "42000/42000 [==============================] - 10s - loss: 0.0386    \n",
      "Epoch 2/15\n",
      "42000/42000 [==============================] - 10s - loss: 0.0183    \n",
      "Epoch 3/15\n",
      "42000/42000 [==============================] - 9s - loss: 0.0152     \n",
      "Epoch 4/15\n",
      "42000/42000 [==============================] - 9s - loss: 0.0138     \n",
      "Epoch 5/15\n",
      "42000/42000 [==============================] - 10s - loss: 0.0128    \n",
      "Epoch 6/15\n",
      "42000/42000 [==============================] - 9s - loss: 0.0120     \n",
      "Epoch 7/15\n",
      "42000/42000 [==============================] - 11s - loss: 0.0113    \n",
      "Epoch 8/15\n",
      "42000/42000 [==============================] - 9s - loss: 0.0109     \n",
      "Epoch 9/15\n",
      "42000/42000 [==============================] - 11s - loss: 0.0104    \n",
      "Epoch 10/15\n",
      "42000/42000 [==============================] - 9s - loss: 0.0101     \n",
      "Epoch 11/15\n",
      "42000/42000 [==============================] - 9s - loss: 0.0098     \n",
      "Epoch 12/15\n",
      "42000/42000 [==============================] - 9s - loss: 0.0099     \n",
      "Epoch 13/15\n",
      "42000/42000 [==============================] - 9s - loss: 0.0092     \n",
      "Epoch 14/15\n",
      "42000/42000 [==============================] - 10s - loss: 0.0091    \n",
      "Epoch 15/15\n",
      "42000/42000 [==============================] - 8s - loss: 0.0088     \n"
     ]
    },
    {
     "data": {
      "text/plain": [
       "<keras.callbacks.History at 0x12c3b8890>"
      ]
     },
     "execution_count": 135,
     "metadata": {},
     "output_type": "execute_result"
    }
   ],
   "source": [
    "print(\"Training densenet...\")\n",
    "densenet.fit(X_train, y_train, nb_epoch=15, batch_size=16, verbose=1)"
   ]
  },
  {
   "cell_type": "code",
   "execution_count": 136,
   "metadata": {},
   "outputs": [
    {
     "name": "stdout",
     "output_type": "stream",
     "text": [
      "Generating test predictions for densenet...\n"
     ]
    }
   ],
   "source": [
    "print(\"Generating test predictions for densenet...\")\n",
    "densenet_preds = densenet.predict_classes(X_test, verbose=0)\n",
    "generate_output(densenet_preds, \"dense_net_digit_recogition\")"
   ]
  },
  {
   "cell_type": "code",
   "execution_count": null,
   "metadata": {
    "collapsed": true
   },
   "outputs": [],
   "source": []
  }
 ],
 "metadata": {
  "kernelspec": {
   "display_name": "Python 2",
   "language": "python",
   "name": "python2"
  },
  "language_info": {
   "codemirror_mode": {
    "name": "ipython",
    "version": 2
   },
   "file_extension": ".py",
   "mimetype": "text/x-python",
   "name": "python",
   "nbconvert_exporter": "python",
   "pygments_lexer": "ipython2",
   "version": "2.7.13"
  }
 },
 "nbformat": 4,
 "nbformat_minor": 2
}
