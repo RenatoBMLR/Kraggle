{
 "cells": [
  {
   "cell_type": "code",
   "execution_count": 1,
   "metadata": {},
   "outputs": [
    {
     "name": "stderr",
     "output_type": "stream",
     "text": [
      "Using TensorFlow backend.\n"
     ]
    }
   ],
   "source": [
    "from keras.models import Sequential\n",
    "from keras.utils import np_utils\n",
    "from keras.layers.core import Dense, Activation, Dropout\n",
    "\n",
    "import pandas as pd\n",
    "import numpy as np\n",
    "import matplotlib.pyplot as plt\n",
    "%matplotlib inline"
   ]
  },
  {
   "cell_type": "code",
   "execution_count": 2,
   "metadata": {
    "collapsed": true
   },
   "outputs": [],
   "source": [
    "def write_preds(preds, filename):\n",
    "    df = pd.DataFrame({\"ImageId\": list(range(1,len(preds)+1)), \"Label\": preds})\n",
    "    df.to_csv(filename + '.csv', index=False, header=True)"
   ]
  },
  {
   "cell_type": "code",
   "execution_count": 3,
   "metadata": {
    "collapsed": true
   },
   "outputs": [],
   "source": [
    "def normalize_image(X):\n",
    "    return X/255"
   ]
  },
  {
   "cell_type": "code",
   "execution_count": 17,
   "metadata": {
    "collapsed": true
   },
   "outputs": [],
   "source": [
    "def create_model():\n",
    "    # Here's a Deep Dumb MLP (DDMLP)\n",
    "    model = Sequential()\n",
    "    model.add(Dense(128, input_dim=input_dim, kernel_initializer='lecun_uniform'))\n",
    "    model.add(Activation('sigmoid'))\n",
    "    model.add(Dropout(0.5))\n",
    "    model.add(Dense(128, input_dim=128, kernel_initializer='lecun_uniform'))\n",
    "    model.add(Activation('sigmoid'))\n",
    "    model.add(Dropout(0.5))\n",
    "    model.add(Dense(nb_classes, input_dim=128, kernel_initializer='lecun_uniform'))\n",
    "    model.add(Activation('sigmoid'))\n",
    "\n",
    "    # we'll use MSE (mean squared error) for the loss, and RMSprop as the optimizer\n",
    "    model.compile(loss='mse', optimizer='rmsprop')\n",
    "\n",
    "\n",
    "    return model"
   ]
  },
  {
   "cell_type": "code",
   "execution_count": 7,
   "metadata": {},
   "outputs": [],
   "source": [
    "# Read data\n",
    "train = pd.read_csv('data/train.csv')\n",
    "labels = train.iloc[:,0].values.astype('int32')\n",
    "X_train = (train.iloc[:,1:].values).astype('float32')\n",
    "X_test = (pd.read_csv('data/test.csv').values).astype('float32')"
   ]
  },
  {
   "cell_type": "code",
   "execution_count": 9,
   "metadata": {},
   "outputs": [
    {
     "data": {
      "image/png": "[encoded data removed]",
      "text/plain": [
       "<matplotlib.figure.Figure at 0x12febc510>"
      ]
     },
     "metadata": {},
     "output_type": "display_data"
    }
   ],
   "source": [
    "plt.figure(figsize=(20,5))\n",
    "for i in range(0, 10):\n",
    "    ind = np.where(labels==i)[0][0]\n",
    "    digit = X_train[ind,:].reshape(28,28)\n",
    "    plt.subplot(2,5,i+1)\n",
    "    plt.imshow(digit)\n",
    "    plt.axis('off')"
   ]
  },
  {
   "cell_type": "code",
   "execution_count": 10,
   "metadata": {},
   "outputs": [
    {
     "data": {
      "image/png": "[encoded data removed]",
      "text/plain": [
       "<matplotlib.figure.Figure at 0x111b4f110>"
      ]
     },
     "metadata": {},
     "output_type": "display_data"
    }
   ],
   "source": [
    "plt.figure(figsize=(15,5))\n",
    "for i in range(0, 6):\n",
    "    ind = np.where(labels==8)[0][i]\n",
    "    digit = X_train[ind,:].reshape(28,28)\n",
    "    plt.subplot(1,6,i+1)\n",
    "    plt.imshow(digit)\n",
    "    plt.axis('off')"
   ]
  },
  {
   "cell_type": "code",
   "execution_count": 11,
   "metadata": {
    "collapsed": true
   },
   "outputs": [],
   "source": [
    "# convert list of labels to binary class matrix\n",
    "y_train = np_utils.to_categorical(labels) \n",
    "\n",
    "X_train= normalize_image(X_train)\n",
    "X_test= normalize_image(X_test)\n",
    "\n",
    "input_dim = X_train.shape[1]\n",
    "nb_classes = y_train.shape[1]"
   ]
  },
  {
   "cell_type": "code",
   "execution_count": 18,
   "metadata": {},
   "outputs": [],
   "source": [
    "model = create_model()"
   ]
  },
  {
   "cell_type": "code",
   "execution_count": null,
   "metadata": {},
   "outputs": [
    {
     "name": "stdout",
     "output_type": "stream",
     "text": [
      "Training...\n",
      "Epoch 1/15\n",
      "42000/42000 [==============================] - 10s - loss: 0.0392    \n",
      "Epoch 2/15\n",
      "28048/42000 [===================>..........] - ETA: 3s - loss: 0.0187"
     ]
    }
   ],
   "source": [
    "print(\"Training...\")\n",
    "model.fit(X_train, y_train, nb_epoch=15, batch_size=16, verbose=1)"
   ]
  },
  {
   "cell_type": "code",
   "execution_count": null,
   "metadata": {},
   "outputs": [],
   "source": [
    "print(\"Generating test predictions...\")\n",
    "preds = model.predict_classes(X_test, verbose=0)\n",
    "write_preds(preds, \"keras-mlp\")"
   ]
  },
  {
   "cell_type": "code",
   "execution_count": null,
   "metadata": {
    "collapsed": true
   },
   "outputs": [],
   "source": []
  }
 ],
 "metadata": {
  "kernelspec": {
   "display_name": "Python 2",
   "language": "python",
   "name": "python2"
  },
  "language_info": {
   "codemirror_mode": {
    "name": "ipython",
    "version": 2
   },
   "file_extension": ".py",
   "mimetype": "text/x-python",
   "name": "python",
   "nbconvert_exporter": "python",
   "pygments_lexer": "ipython2",
   "version": "2.7.13"
  }
 },
 "nbformat": 4,
 "nbformat_minor": 2
}
